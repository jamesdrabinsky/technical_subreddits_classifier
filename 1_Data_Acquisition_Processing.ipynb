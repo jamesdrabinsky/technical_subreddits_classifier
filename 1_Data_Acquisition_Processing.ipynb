{
 "cells": [
  {
   "cell_type": "markdown",
   "metadata": {},
   "source": [
    "## Import Modules"
   ]
  },
  {
   "cell_type": "code",
   "execution_count": 1,
   "metadata": {
    "collapsed": true
   },
   "outputs": [],
   "source": [
    "import requests\n",
    "import pandas as pd\n",
    "import time\n",
    "import json\n",
    "import pickle\n",
    "import requests\n",
    "from bs4 import BeautifulSoup  \n",
    "from nltk.stem import WordNetLemmatizer\n",
    "import re\n",
    "from sklearn.feature_extraction.text import ENGLISH_STOP_WORDS"
   ]
  },
  {
   "cell_type": "markdown",
   "metadata": {},
   "source": [
    "## Scrape Data "
   ]
  },
  {
   "cell_type": "markdown",
   "metadata": {},
   "source": [
    "#### Cordcutters Subreddit"
   ]
  },
  {
   "cell_type": "code",
   "execution_count": 2,
   "metadata": {
    "collapsed": true
   },
   "outputs": [],
   "source": [
    "url_cord = 'https://www.reddit.com/r/cordcutters.json'"
   ]
  },
  {
   "cell_type": "code",
   "execution_count": 3,
   "metadata": {},
   "outputs": [
    {
     "name": "stdout",
     "output_type": "stream",
     "text": [
      "https://www.reddit.com/r/cordcutters.json\n",
      "https://www.reddit.com/r/cordcutters.json?after=t3_9e64jf\n",
      "https://www.reddit.com/r/cordcutters.json?after=t3_9e1o6h\n",
      "https://www.reddit.com/r/cordcutters.json?after=t3_9domi2\n",
      "https://www.reddit.com/r/cordcutters.json?after=t3_9dc5s2\n",
      "https://www.reddit.com/r/cordcutters.json?after=t3_9cwflo\n",
      "https://www.reddit.com/r/cordcutters.json?after=t3_9cmjvp\n",
      "https://www.reddit.com/r/cordcutters.json?after=t3_9by5yy\n",
      "https://www.reddit.com/r/cordcutters.json?after=t3_9btuk7\n",
      "https://www.reddit.com/r/cordcutters.json?after=t3_9bpgho\n",
      "https://www.reddit.com/r/cordcutters.json?after=t3_9bgs3z\n",
      "https://www.reddit.com/r/cordcutters.json?after=t3_9b45fd\n",
      "https://www.reddit.com/r/cordcutters.json?after=t3_9apfxf\n",
      "https://www.reddit.com/r/cordcutters.json?after=t3_9ai7nx\n",
      "https://www.reddit.com/r/cordcutters.json?after=t3_99xocs\n",
      "https://www.reddit.com/r/cordcutters.json?after=t3_99rgvi\n",
      "https://www.reddit.com/r/cordcutters.json?after=t3_99gvm4\n",
      "https://www.reddit.com/r/cordcutters.json?after=t3_998g3a\n",
      "https://www.reddit.com/r/cordcutters.json?after=t3_98pwg5\n",
      "https://www.reddit.com/r/cordcutters.json?after=t3_987yyi\n",
      "https://www.reddit.com/r/cordcutters.json?after=t3_981g63\n",
      "https://www.reddit.com/r/cordcutters.json?after=t3_97ly53\n",
      "https://www.reddit.com/r/cordcutters.json?after=t3_97epk3\n",
      "https://www.reddit.com/r/cordcutters.json?after=t3_971p5x\n",
      "https://www.reddit.com/r/cordcutters.json?after=t3_96m8a8\n",
      "https://www.reddit.com/r/cordcutters.json?after=t3_96a9ku\n",
      "https://www.reddit.com/r/cordcutters.json?after=t3_95wos8\n",
      "https://www.reddit.com/r/cordcutters.json?after=t3_95qt8q\n",
      "https://www.reddit.com/r/cordcutters.json?after=t3_95g1q7\n",
      "https://www.reddit.com/r/cordcutters.json?after=t3_94vv1r\n",
      "https://www.reddit.com/r/cordcutters.json?after=t3_94j9bn\n",
      "https://www.reddit.com/r/cordcutters.json?after=t3_94dzma\n",
      "https://www.reddit.com/r/cordcutters.json?after=t3_93ohvp\n",
      "https://www.reddit.com/r/cordcutters.json?after=t3_93gxq1\n",
      "https://www.reddit.com/r/cordcutters.json?after=t3_9391uk\n",
      "https://www.reddit.com/r/cordcutters.json?after=t3_92w2i3\n",
      "https://www.reddit.com/r/cordcutters.json?after=t3_92o0hb\n",
      "https://www.reddit.com/r/cordcutters.json?after=t3_927akz\n"
     ]
    }
   ],
   "source": [
    "posts_cord = []\n",
    "after = None \n",
    "\n",
    "for i in range(40):\n",
    "    if after == None: \n",
    "        current_url = url_cord\n",
    "    else:\n",
    "        current_url = url_cord + '?after=' + after\n",
    "    print(current_url)\n",
    "    res = requests.get(current_url, headers={'User-agent': 'Cordcutters'})\n",
    "    if res.status_code != 200:\n",
    "        print('Status error', res.status_code)\n",
    "        break\n",
    "    current_dict = res.json()\n",
    "    current_post = [p['data'] for p in current_dict['data']['children']]\n",
    "    posts_cord.extend(current_post)\n",
    "    after = current_dict['data']['after'] \n",
    "    if after == None:\n",
    "        break\n",
    "\n",
    "    time.sleep(1)"
   ]
  },
  {
   "cell_type": "markdown",
   "metadata": {},
   "source": [
    "#### Import Cordcutters Data"
   ]
  },
  {
   "cell_type": "code",
   "execution_count": 4,
   "metadata": {
    "collapsed": true,
    "scrolled": false
   },
   "outputs": [],
   "source": [
    "with open('data/cordcutters_list', 'w') as f:\n",
    "    json.dump(posts_cord, f) "
   ]
  },
  {
   "cell_type": "code",
   "execution_count": 5,
   "metadata": {
    "collapsed": true
   },
   "outputs": [],
   "source": [
    "with open('data/cordcutters_list', 'r') as f:\n",
    "    post_cords_from_json = json.loads(f.read())"
   ]
  },
  {
   "cell_type": "code",
   "execution_count": 6,
   "metadata": {},
   "outputs": [
    {
     "name": "stdout",
     "output_type": "stream",
     "text": [
      "cc dict count: 933\n"
     ]
    }
   ],
   "source": [
    "print('cc dict count:', len(post_cords_from_json))"
   ]
  },
  {
   "cell_type": "markdown",
   "metadata": {},
   "source": [
    "#### Piracy Subreddit"
   ]
  },
  {
   "cell_type": "code",
   "execution_count": 7,
   "metadata": {
    "collapsed": true
   },
   "outputs": [],
   "source": [
    "piracy_url = 'https://www.reddit.com/r/Piracy.json'"
   ]
  },
  {
   "cell_type": "code",
   "execution_count": 8,
   "metadata": {},
   "outputs": [
    {
     "name": "stdout",
     "output_type": "stream",
     "text": [
      "https://www.reddit.com/r/Piracy.json\n",
      "https://www.reddit.com/r/Piracy.json?after=t3_9emy1v\n",
      "https://www.reddit.com/r/Piracy.json?after=t3_9egfny\n",
      "https://www.reddit.com/r/Piracy.json?after=t3_9ee0sh\n",
      "https://www.reddit.com/r/Piracy.json?after=t3_9ecfru\n",
      "https://www.reddit.com/r/Piracy.json?after=t3_9dybl1\n",
      "https://www.reddit.com/r/Piracy.json?after=t3_9dy48q\n",
      "https://www.reddit.com/r/Piracy.json?after=t3_9dqsz8\n",
      "https://www.reddit.com/r/Piracy.json?after=t3_9dk2l5\n",
      "https://www.reddit.com/r/Piracy.json?after=t3_9ddnzk\n",
      "https://www.reddit.com/r/Piracy.json?after=t3_9d2tkx\n",
      "https://www.reddit.com/r/Piracy.json?after=t3_9cy7aw\n",
      "https://www.reddit.com/r/Piracy.json?after=t3_9calsh\n",
      "https://www.reddit.com/r/Piracy.json?after=t3_9ckdv9\n",
      "https://www.reddit.com/r/Piracy.json?after=t3_9cezns\n",
      "https://www.reddit.com/r/Piracy.json?after=t3_9c3cdb\n",
      "https://www.reddit.com/r/Piracy.json?after=t3_9c559s\n",
      "https://www.reddit.com/r/Piracy.json?after=t3_9c47p2\n",
      "https://www.reddit.com/r/Piracy.json?after=t3_9c0y7v\n",
      "https://www.reddit.com/r/Piracy.json?after=t3_9bt9zr\n",
      "https://www.reddit.com/r/Piracy.json?after=t3_9br7hr\n",
      "https://www.reddit.com/r/Piracy.json?after=t3_9bqs9r\n",
      "https://www.reddit.com/r/Piracy.json?after=t3_9be9i7\n",
      "https://www.reddit.com/r/Piracy.json?after=t3_9b2c78\n",
      "https://www.reddit.com/r/Piracy.json?after=t3_9ayfxa\n",
      "https://www.reddit.com/r/Piracy.json?after=t3_9avp5i\n"
     ]
    }
   ],
   "source": [
    "posts_pir = []\n",
    "after = None \n",
    "\n",
    "for i in range(40):\n",
    "    if after == None: \n",
    "        current_url = piracy_url\n",
    "    else:\n",
    "        current_url = piracy_url + '?after=' + after\n",
    "    print(current_url)\n",
    "    res = requests.get(current_url, headers={'User-agent': 'Piracy'})\n",
    "    if res.status_code != 200:\n",
    "        print('Status error', res.status_code)\n",
    "        break\n",
    "    current_dict = res.json()\n",
    "    current_post = [p['data'] for p in current_dict['data']['children']]\n",
    "    posts_pir.extend(current_post)\n",
    "    after = current_dict['data']['after'] \n",
    "    if after == None:\n",
    "        break\n",
    "\n",
    "    time.sleep(1)"
   ]
  },
  {
   "cell_type": "markdown",
   "metadata": {},
   "source": [
    "#### Import Piracy Data"
   ]
  },
  {
   "cell_type": "code",
   "execution_count": 9,
   "metadata": {
    "collapsed": true
   },
   "outputs": [],
   "source": [
    "with open('data/piracy_list', 'w') as f:\n",
    "    json.dump(posts_pir, f) "
   ]
  },
  {
   "cell_type": "code",
   "execution_count": 10,
   "metadata": {
    "collapsed": true
   },
   "outputs": [],
   "source": [
    "with open('data/piracy_list', 'r') as f:\n",
    "    post_pir_from_json = json.loads(f.read())"
   ]
  },
  {
   "cell_type": "code",
   "execution_count": 11,
   "metadata": {},
   "outputs": [
    {
     "name": "stdout",
     "output_type": "stream",
     "text": [
      "pir dict count: 636\n"
     ]
    }
   ],
   "source": [
    "print('pir dict count:', len(post_pir_from_json))"
   ]
  },
  {
   "cell_type": "markdown",
   "metadata": {},
   "source": [
    "## Convert JSON Data into DataFrame"
   ]
  },
  {
   "cell_type": "code",
   "execution_count": 12,
   "metadata": {
    "collapsed": true
   },
   "outputs": [],
   "source": [
    "def posts_to_df(posts, features = ['subreddit', 'author', 'title', 'selftext', 'created_utc', 'num_comments']):\n",
    "    feat_dict = [{feat : post[feat] for feat in features}  for post in posts]\n",
    "    return pd.DataFrame(feat_dict)"
   ]
  },
  {
   "cell_type": "code",
   "execution_count": 13,
   "metadata": {
    "scrolled": true
   },
   "outputs": [
    {
     "data": {
      "text/html": [
       "<div>\n",
       "<style scoped>\n",
       "    .dataframe tbody tr th:only-of-type {\n",
       "        vertical-align: middle;\n",
       "    }\n",
       "\n",
       "    .dataframe tbody tr th {\n",
       "        vertical-align: top;\n",
       "    }\n",
       "\n",
       "    .dataframe thead th {\n",
       "        text-align: right;\n",
       "    }\n",
       "</style>\n",
       "<table border=\"1\" class=\"dataframe\">\n",
       "  <thead>\n",
       "    <tr style=\"text-align: right;\">\n",
       "      <th></th>\n",
       "      <th>author</th>\n",
       "      <th>created_utc</th>\n",
       "      <th>num_comments</th>\n",
       "      <th>over_18</th>\n",
       "      <th>score</th>\n",
       "      <th>selftext</th>\n",
       "      <th>subreddit</th>\n",
       "      <th>title</th>\n",
       "    </tr>\n",
       "  </thead>\n",
       "  <tbody>\n",
       "    <tr>\n",
       "      <th>0</th>\n",
       "      <td>frostcall</td>\n",
       "      <td>1.533159e+09</td>\n",
       "      <td>129</td>\n",
       "      <td>False</td>\n",
       "      <td>148</td>\n",
       "      <td>For greater details on this topic, please refe...</td>\n",
       "      <td>cordcutters</td>\n",
       "      <td>NFL viewing guide for Cord Cutter's</td>\n",
       "    </tr>\n",
       "    <tr>\n",
       "      <th>1</th>\n",
       "      <td>VaritasAequitas</td>\n",
       "      <td>1.536582e+09</td>\n",
       "      <td>21</td>\n",
       "      <td>False</td>\n",
       "      <td>46</td>\n",
       "      <td>I know this question gets thrown around consta...</td>\n",
       "      <td>cordcutters</td>\n",
       "      <td>I want to get my family to stop renting the Co...</td>\n",
       "    </tr>\n",
       "    <tr>\n",
       "      <th>2</th>\n",
       "      <td>blaspheminCapn</td>\n",
       "      <td>1.536587e+09</td>\n",
       "      <td>0</td>\n",
       "      <td>False</td>\n",
       "      <td>7</td>\n",
       "      <td></td>\n",
       "      <td>cordcutters</td>\n",
       "      <td>Top 7 Free TV Shows Streaming Sites To Watch T...</td>\n",
       "    </tr>\n",
       "    <tr>\n",
       "      <th>3</th>\n",
       "      <td>alexlfire</td>\n",
       "      <td>1.536516e+09</td>\n",
       "      <td>81</td>\n",
       "      <td>False</td>\n",
       "      <td>145</td>\n",
       "      <td>I'm going to get my tin foil hat out. I live w...</td>\n",
       "      <td>cordcutters</td>\n",
       "      <td>Antenna cuts out only during NFL games</td>\n",
       "    </tr>\n",
       "    <tr>\n",
       "      <th>4</th>\n",
       "      <td>fatmalakas</td>\n",
       "      <td>1.536522e+09</td>\n",
       "      <td>24</td>\n",
       "      <td>False</td>\n",
       "      <td>65</td>\n",
       "      <td>Frustrated cord-cutter here...need some help w...</td>\n",
       "      <td>cordcutters</td>\n",
       "      <td>Just set up attic Clearstream 2V w/ pre-amp bu...</td>\n",
       "    </tr>\n",
       "  </tbody>\n",
       "</table>\n",
       "</div>"
      ],
      "text/plain": [
       "            author   created_utc  num_comments  over_18  score  \\\n",
       "0        frostcall  1.533159e+09           129    False    148   \n",
       "1  VaritasAequitas  1.536582e+09            21    False     46   \n",
       "2   blaspheminCapn  1.536587e+09             0    False      7   \n",
       "3        alexlfire  1.536516e+09            81    False    145   \n",
       "4       fatmalakas  1.536522e+09            24    False     65   \n",
       "\n",
       "                                            selftext    subreddit  \\\n",
       "0  For greater details on this topic, please refe...  cordcutters   \n",
       "1  I know this question gets thrown around consta...  cordcutters   \n",
       "2                                                     cordcutters   \n",
       "3  I'm going to get my tin foil hat out. I live w...  cordcutters   \n",
       "4  Frustrated cord-cutter here...need some help w...  cordcutters   \n",
       "\n",
       "                                               title  \n",
       "0                NFL viewing guide for Cord Cutter's  \n",
       "1  I want to get my family to stop renting the Co...  \n",
       "2  Top 7 Free TV Shows Streaming Sites To Watch T...  \n",
       "3             Antenna cuts out only during NFL games  \n",
       "4  Just set up attic Clearstream 2V w/ pre-amp bu...  "
      ]
     },
     "execution_count": 13,
     "metadata": {},
     "output_type": "execute_result"
    }
   ],
   "source": [
    "feature_list = ['subreddit', 'author', 'title', 'selftext', 'created_utc', 'num_comments','score','over_18',\n",
    "                'score']\n",
    "df_cordcutters = posts_to_df(post_cords_from_json, features=feature_list)\n",
    "\n",
    "df_cordcutters.head()"
   ]
  },
  {
   "cell_type": "code",
   "execution_count": 14,
   "metadata": {},
   "outputs": [
    {
     "data": {
      "text/html": [
       "<div>\n",
       "<style scoped>\n",
       "    .dataframe tbody tr th:only-of-type {\n",
       "        vertical-align: middle;\n",
       "    }\n",
       "\n",
       "    .dataframe tbody tr th {\n",
       "        vertical-align: top;\n",
       "    }\n",
       "\n",
       "    .dataframe thead th {\n",
       "        text-align: right;\n",
       "    }\n",
       "</style>\n",
       "<table border=\"1\" class=\"dataframe\">\n",
       "  <thead>\n",
       "    <tr style=\"text-align: right;\">\n",
       "      <th></th>\n",
       "      <th>author</th>\n",
       "      <th>created_utc</th>\n",
       "      <th>num_comments</th>\n",
       "      <th>over_18</th>\n",
       "      <th>score</th>\n",
       "      <th>selftext</th>\n",
       "      <th>subreddit</th>\n",
       "      <th>title</th>\n",
       "    </tr>\n",
       "  </thead>\n",
       "  <tbody>\n",
       "    <tr>\n",
       "      <th>0</th>\n",
       "      <td>AutoModerator</td>\n",
       "      <td>1.536502e+09</td>\n",
       "      <td>44</td>\n",
       "      <td>False</td>\n",
       "      <td>9</td>\n",
       "      <td>This thread is for the r/Piracy community to d...</td>\n",
       "      <td>Piracy</td>\n",
       "      <td>Weekly General Discussion Thread (September 09...</td>\n",
       "    </tr>\n",
       "    <tr>\n",
       "      <th>1</th>\n",
       "      <td>WinterRise</td>\n",
       "      <td>1.536581e+09</td>\n",
       "      <td>25</td>\n",
       "      <td>False</td>\n",
       "      <td>310</td>\n",
       "      <td></td>\n",
       "      <td>Piracy</td>\n",
       "      <td>Laughs in Piracy</td>\n",
       "    </tr>\n",
       "    <tr>\n",
       "      <th>2</th>\n",
       "      <td>Drakantas</td>\n",
       "      <td>1.536522e+09</td>\n",
       "      <td>107</td>\n",
       "      <td>False</td>\n",
       "      <td>1412</td>\n",
       "      <td></td>\n",
       "      <td>Piracy</td>\n",
       "      <td>Seeding explained</td>\n",
       "    </tr>\n",
       "    <tr>\n",
       "      <th>3</th>\n",
       "      <td>MON5TERMATT</td>\n",
       "      <td>1.536556e+09</td>\n",
       "      <td>10</td>\n",
       "      <td>False</td>\n",
       "      <td>37</td>\n",
       "      <td>Due to the guides put out by users I have mana...</td>\n",
       "      <td>Piracy</td>\n",
       "      <td>Thank you r/piracy.</td>\n",
       "    </tr>\n",
       "    <tr>\n",
       "      <th>4</th>\n",
       "      <td>DARKFIRE1819</td>\n",
       "      <td>1.536484e+09</td>\n",
       "      <td>408</td>\n",
       "      <td>False</td>\n",
       "      <td>997</td>\n",
       "      <td></td>\n",
       "      <td>Piracy</td>\n",
       "      <td>I hope my pc is ok</td>\n",
       "    </tr>\n",
       "  </tbody>\n",
       "</table>\n",
       "</div>"
      ],
      "text/plain": [
       "          author   created_utc  num_comments  over_18  score  \\\n",
       "0  AutoModerator  1.536502e+09            44    False      9   \n",
       "1     WinterRise  1.536581e+09            25    False    310   \n",
       "2      Drakantas  1.536522e+09           107    False   1412   \n",
       "3    MON5TERMATT  1.536556e+09            10    False     37   \n",
       "4   DARKFIRE1819  1.536484e+09           408    False    997   \n",
       "\n",
       "                                            selftext subreddit  \\\n",
       "0  This thread is for the r/Piracy community to d...    Piracy   \n",
       "1                                                       Piracy   \n",
       "2                                                       Piracy   \n",
       "3  Due to the guides put out by users I have mana...    Piracy   \n",
       "4                                                       Piracy   \n",
       "\n",
       "                                               title  \n",
       "0  Weekly General Discussion Thread (September 09...  \n",
       "1                                   Laughs in Piracy  \n",
       "2                                  Seeding explained  \n",
       "3                                Thank you r/piracy.  \n",
       "4                                 I hope my pc is ok  "
      ]
     },
     "execution_count": 14,
     "metadata": {},
     "output_type": "execute_result"
    }
   ],
   "source": [
    "df_piracy = posts_to_df(post_pir_from_json, features=feature_list)\n",
    "\n",
    "df_piracy.head()"
   ]
  },
  {
   "cell_type": "markdown",
   "metadata": {},
   "source": [
    "#### Concatenate the DataFrames"
   ]
  },
  {
   "cell_type": "code",
   "execution_count": 15,
   "metadata": {
    "collapsed": true
   },
   "outputs": [],
   "source": [
    "df = pd.concat([df_cordcutters, df_piracy], axis=0, ignore_index=True)"
   ]
  },
  {
   "cell_type": "markdown",
   "metadata": {},
   "source": [
    "#### Create a Boolean Column"
   ]
  },
  {
   "cell_type": "code",
   "execution_count": 16,
   "metadata": {
    "collapsed": true
   },
   "outputs": [],
   "source": [
    "df['label'] = df['subreddit'].map(lambda x: 1 if x == 'cordcutters' else 0)"
   ]
  },
  {
   "cell_type": "code",
   "execution_count": 17,
   "metadata": {},
   "outputs": [
    {
     "data": {
      "text/html": [
       "<div>\n",
       "<style scoped>\n",
       "    .dataframe tbody tr th:only-of-type {\n",
       "        vertical-align: middle;\n",
       "    }\n",
       "\n",
       "    .dataframe tbody tr th {\n",
       "        vertical-align: top;\n",
       "    }\n",
       "\n",
       "    .dataframe thead th {\n",
       "        text-align: right;\n",
       "    }\n",
       "</style>\n",
       "<table border=\"1\" class=\"dataframe\">\n",
       "  <thead>\n",
       "    <tr style=\"text-align: right;\">\n",
       "      <th></th>\n",
       "      <th>author</th>\n",
       "      <th>created_utc</th>\n",
       "      <th>num_comments</th>\n",
       "      <th>over_18</th>\n",
       "      <th>score</th>\n",
       "      <th>selftext</th>\n",
       "      <th>subreddit</th>\n",
       "      <th>title</th>\n",
       "      <th>label</th>\n",
       "    </tr>\n",
       "  </thead>\n",
       "  <tbody>\n",
       "    <tr>\n",
       "      <th>0</th>\n",
       "      <td>frostcall</td>\n",
       "      <td>1.533159e+09</td>\n",
       "      <td>129</td>\n",
       "      <td>False</td>\n",
       "      <td>148</td>\n",
       "      <td>For greater details on this topic, please refe...</td>\n",
       "      <td>cordcutters</td>\n",
       "      <td>NFL viewing guide for Cord Cutter's</td>\n",
       "      <td>1</td>\n",
       "    </tr>\n",
       "    <tr>\n",
       "      <th>1</th>\n",
       "      <td>VaritasAequitas</td>\n",
       "      <td>1.536582e+09</td>\n",
       "      <td>21</td>\n",
       "      <td>False</td>\n",
       "      <td>46</td>\n",
       "      <td>I know this question gets thrown around consta...</td>\n",
       "      <td>cordcutters</td>\n",
       "      <td>I want to get my family to stop renting the Co...</td>\n",
       "      <td>1</td>\n",
       "    </tr>\n",
       "    <tr>\n",
       "      <th>2</th>\n",
       "      <td>blaspheminCapn</td>\n",
       "      <td>1.536587e+09</td>\n",
       "      <td>0</td>\n",
       "      <td>False</td>\n",
       "      <td>7</td>\n",
       "      <td></td>\n",
       "      <td>cordcutters</td>\n",
       "      <td>Top 7 Free TV Shows Streaming Sites To Watch T...</td>\n",
       "      <td>1</td>\n",
       "    </tr>\n",
       "    <tr>\n",
       "      <th>3</th>\n",
       "      <td>alexlfire</td>\n",
       "      <td>1.536516e+09</td>\n",
       "      <td>81</td>\n",
       "      <td>False</td>\n",
       "      <td>145</td>\n",
       "      <td>I'm going to get my tin foil hat out. I live w...</td>\n",
       "      <td>cordcutters</td>\n",
       "      <td>Antenna cuts out only during NFL games</td>\n",
       "      <td>1</td>\n",
       "    </tr>\n",
       "    <tr>\n",
       "      <th>4</th>\n",
       "      <td>fatmalakas</td>\n",
       "      <td>1.536522e+09</td>\n",
       "      <td>24</td>\n",
       "      <td>False</td>\n",
       "      <td>65</td>\n",
       "      <td>Frustrated cord-cutter here...need some help w...</td>\n",
       "      <td>cordcutters</td>\n",
       "      <td>Just set up attic Clearstream 2V w/ pre-amp bu...</td>\n",
       "      <td>1</td>\n",
       "    </tr>\n",
       "  </tbody>\n",
       "</table>\n",
       "</div>"
      ],
      "text/plain": [
       "            author   created_utc  num_comments  over_18  score  \\\n",
       "0        frostcall  1.533159e+09           129    False    148   \n",
       "1  VaritasAequitas  1.536582e+09            21    False     46   \n",
       "2   blaspheminCapn  1.536587e+09             0    False      7   \n",
       "3        alexlfire  1.536516e+09            81    False    145   \n",
       "4       fatmalakas  1.536522e+09            24    False     65   \n",
       "\n",
       "                                            selftext    subreddit  \\\n",
       "0  For greater details on this topic, please refe...  cordcutters   \n",
       "1  I know this question gets thrown around consta...  cordcutters   \n",
       "2                                                     cordcutters   \n",
       "3  I'm going to get my tin foil hat out. I live w...  cordcutters   \n",
       "4  Frustrated cord-cutter here...need some help w...  cordcutters   \n",
       "\n",
       "                                               title  label  \n",
       "0                NFL viewing guide for Cord Cutter's      1  \n",
       "1  I want to get my family to stop renting the Co...      1  \n",
       "2  Top 7 Free TV Shows Streaming Sites To Watch T...      1  \n",
       "3             Antenna cuts out only during NFL games      1  \n",
       "4  Just set up attic Clearstream 2V w/ pre-amp bu...      1  "
      ]
     },
     "execution_count": 17,
     "metadata": {},
     "output_type": "execute_result"
    }
   ],
   "source": [
    "df.head()"
   ]
  },
  {
   "cell_type": "code",
   "execution_count": 18,
   "metadata": {},
   "outputs": [
    {
     "data": {
      "text/plain": [
       "(1569, 9)"
      ]
     },
     "execution_count": 18,
     "metadata": {},
     "output_type": "execute_result"
    }
   ],
   "source": [
    "df.shape"
   ]
  },
  {
   "cell_type": "code",
   "execution_count": 19,
   "metadata": {},
   "outputs": [
    {
     "data": {
      "text/plain": [
       "1    0.594646\n",
       "0    0.405354\n",
       "Name: label, dtype: float64"
      ]
     },
     "execution_count": 19,
     "metadata": {},
     "output_type": "execute_result"
    }
   ],
   "source": [
    "df.label.value_counts(normalize=True)"
   ]
  },
  {
   "cell_type": "code",
   "execution_count": 20,
   "metadata": {
    "scrolled": true
   },
   "outputs": [
    {
     "data": {
      "text/plain": [
       "author          0\n",
       "created_utc     0\n",
       "num_comments    0\n",
       "over_18         0\n",
       "score           0\n",
       "selftext        0\n",
       "subreddit       0\n",
       "title           0\n",
       "label           0\n",
       "dtype: int64"
      ]
     },
     "execution_count": 20,
     "metadata": {},
     "output_type": "execute_result"
    }
   ],
   "source": [
    "df.isnull().sum()"
   ]
  },
  {
   "cell_type": "code",
   "execution_count": 21,
   "metadata": {},
   "outputs": [
    {
     "data": {
      "text/plain": [
       "0"
      ]
     },
     "execution_count": 21,
     "metadata": {},
     "output_type": "execute_result"
    }
   ],
   "source": [
    "df.duplicated().sum()"
   ]
  },
  {
   "cell_type": "markdown",
   "metadata": {},
   "source": [
    "## Processing Text Data"
   ]
  },
  {
   "cell_type": "code",
   "execution_count": 22,
   "metadata": {},
   "outputs": [],
   "source": [
    "df['selftext'] = df['selftext'].replace(r'[^a-zA-Z0-9\\s\\/]', '', regex=True)\n",
    "\n",
    "df['selftext'] = df['selftext'].map(lambda x: x.lower())\n",
    "\n",
    "df['selftext'] = df['selftext'].replace(r'[\\r\\n]+', ' ', regex=True)\n",
    "\n",
    "df['selftext'] = df['selftext'].str.replace('\\d+', '')\n",
    "\n",
    "df['title'] = df['title'].replace(r'[^a-zA-Z0-9\\s\\/]', '', regex=True)\n",
    "\n",
    "df['title'] = df['title'].map(lambda x: x.lower())\n",
    "\n",
    "df['title'] = df['title'].replace(r'[\\r\\n]+', ' ', regex=True)\n",
    "\n",
    "df['title'] = df['title'].str.replace('\\d+', '')"
   ]
  },
  {
   "cell_type": "markdown",
   "metadata": {},
   "source": [
    "## Create  and Export Full Stopword List"
   ]
  },
  {
   "cell_type": "code",
   "execution_count": 23,
   "metadata": {
    "collapsed": true
   },
   "outputs": [],
   "source": [
    "url = 'https://raw.githubusercontent.com/stanfordnlp/CoreNLP/master/data/edu/stanford/nlp/patterns/surface/stopwords.txt'\n",
    "res = requests.get(url)\n",
    "soup = BeautifulSoup(res.content, 'lxml')"
   ]
  },
  {
   "cell_type": "code",
   "execution_count": 24,
   "metadata": {
    "collapsed": true
   },
   "outputs": [],
   "source": [
    "standford_nlp = soup.text.split('\\n')"
   ]
  },
  {
   "cell_type": "code",
   "execution_count": 25,
   "metadata": {
    "collapsed": true
   },
   "outputs": [],
   "source": [
    "stop_word_list = standford_nlp + list(ENGLISH_STOP_WORDS)"
   ]
  },
  {
   "cell_type": "markdown",
   "metadata": {},
   "source": [
    "## Export Clean DataFrame for EDA"
   ]
  },
  {
   "cell_type": "code",
   "execution_count": 26,
   "metadata": {
    "collapsed": true
   },
   "outputs": [],
   "source": [
    "with open('./Data/clean_df.pkl', 'wb+') as f:\n",
    "    pickle.dump(df, f)"
   ]
  },
  {
   "cell_type": "markdown",
   "metadata": {},
   "source": [
    "## Export Stopwords List"
   ]
  },
  {
   "cell_type": "code",
   "execution_count": 27,
   "metadata": {
    "collapsed": true
   },
   "outputs": [],
   "source": [
    "with open('./Data/stop_word_list.pkl', 'wb+') as f:\n",
    "    pickle.dump(stop_word_list, f)"
   ]
  }
 ],
 "metadata": {
  "anaconda-cloud": {},
  "kernelspec": {
   "display_name": "Python 3",
   "language": "python",
   "name": "python3"
  },
  "language_info": {
   "codemirror_mode": {
    "name": "ipython",
    "version": 3
   },
   "file_extension": ".py",
   "mimetype": "text/x-python",
   "name": "python",
   "nbconvert_exporter": "python",
   "pygments_lexer": "ipython3",
   "version": "3.6.6"
  },
  "varInspector": {
   "cols": {
    "lenName": 16,
    "lenType": 16,
    "lenVar": 40
   },
   "kernels_config": {
    "python": {
     "delete_cmd_postfix": "",
     "delete_cmd_prefix": "del ",
     "library": "var_list.py",
     "varRefreshCmd": "print(var_dic_list())"
    },
    "r": {
     "delete_cmd_postfix": ") ",
     "delete_cmd_prefix": "rm(",
     "library": "var_list.r",
     "varRefreshCmd": "cat(var_dic_list()) "
    }
   },
   "types_to_exclude": [
    "module",
    "function",
    "builtin_function_or_method",
    "instance",
    "_Feature"
   ],
   "window_display": false
  }
 },
 "nbformat": 4,
 "nbformat_minor": 1
}
