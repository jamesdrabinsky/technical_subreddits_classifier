{
 "cells": [
  {
   "cell_type": "code",
   "execution_count": null,
   "metadata": {
    "collapsed": true
   },
   "outputs": [],
   "source": [
    "cc_tfidf_plot = df_tfidf.sort_values('Cordcutters', ascending=False)[:20]\n",
    "piracy_tfidf_plot = df_tfidf.sort_values('Piracy', ascending=False)[:20]\n",
    "\n",
    "piracy_tfidf_plot[:20].plot(kind='bar',\n",
    "                       figsize=(20,10), fontsize=25, rot=45)\n",
    "\n",
    "plt.xlabel('Words', fontsize=25)\n",
    "plt.ylabel('Score', fontsize=25)\n",
    "plt.title(s= 'Highest TFIDF Score in Piracy Subreddit', fontsize=25)\n",
    "\n",
    "figure.tight_layout();"
   ]
  },
  {
   "cell_type": "code",
   "execution_count": null,
   "metadata": {
    "collapsed": true
   },
   "outputs": [],
   "source": [
    "df_overlap_by_piracy.plot(kind='bar', figsize=(20,10),\n",
    "                              fontsize=25, rot=45)\n",
    "\n",
    "plt.xlabel('Words', fontsize=25)\n",
    "plt.ylabel('Count', fontsize=25)\n",
    "plt.title(fontsize = 25, s='Top Overlapping Words Sorted by Piracy')\n",
    "\n",
    "plt.legend(labels=('Cordcutters', 'Piracy'))\n",
    "\n",
    "figure.tight_layout();"
   ]
  },
  {
   "cell_type": "code",
   "execution_count": null,
   "metadata": {
    "collapsed": true
   },
   "outputs": [],
   "source": [
    "cc_words_df['count'][:20].plot(kind='bar', color='blue', figsize=(20,10),\n",
    "                                   fontsize=25, rot=45)\n",
    "\n",
    "plt.xlabel('Words', fontsize=25)\n",
    "plt.ylabel('Count', fontsize=25)\n",
    "plt.title(fontsize = 25, s='Top Words in Cordcutters')\n",
    "figure.tight_layout();"
   ]
  }
 ],
 "metadata": {
  "kernelspec": {
   "display_name": "Python 3",
   "language": "python",
   "name": "python3"
  },
  "language_info": {
   "codemirror_mode": {
    "name": "ipython",
    "version": 3
   },
   "file_extension": ".py",
   "mimetype": "text/x-python",
   "name": "python",
   "nbconvert_exporter": "python",
   "pygments_lexer": "ipython3",
   "version": "3.6.6"
  }
 },
 "nbformat": 4,
 "nbformat_minor": 2
}
