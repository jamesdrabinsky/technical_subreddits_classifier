{
 "cells": [
  {
   "cell_type": "markdown",
   "metadata": {},
   "source": [
    "## Import Modules"
   ]
  },
  {
   "cell_type": "code",
   "execution_count": 161,
   "metadata": {
    "collapsed": true
   },
   "outputs": [],
   "source": [
    "from sklearn.model_selection import train_test_split, GridSearchCV, cross_val_score\n",
    "from sklearn.pipeline import Pipeline\n",
    "from sklearn.preprocessing import StandardScaler, MinMaxScaler\n",
    "from sklearn.linear_model import LogisticRegression\n",
    "from sklearn.naive_bayes import MultinomialNB\n",
    "from sklearn.tree import DecisionTreeClassifier\n",
    "from sklearn.svm import SVC\n",
    "from sklearn.ensemble import RandomForestClassifier\n",
    "from sklearn.metrics import accuracy_score, confusion_matrix, roc_auc_score, roc_curve, classification_report\n",
    "from sklearn.feature_extraction.text import TfidfVectorizer\n",
    "import pandas as pd\n",
    "import numpy as np\n",
    "import random\n",
    "import matplotlib.pyplot as plt\n",
    "import seaborn as sns\n",
    "from imblearn.over_sampling import RandomOverSampler\n",
    "import pickle\n",
    "\n",
    "%matplotlib inline\n",
    "plt.style.use('fivethirtyeight')\n",
    "\n",
    "import warnings\n",
    "warnings.filterwarnings('ignore')\n",
    "\n",
    "pd.set_option('display.max_colwidth', -1)\n",
    "\n",
    "np.random.seed(42)"
   ]
  },
  {
   "cell_type": "markdown",
   "metadata": {},
   "source": [
    "## Load Clean DataFrame"
   ]
  },
  {
   "cell_type": "code",
   "execution_count": 162,
   "metadata": {
    "collapsed": true
   },
   "outputs": [],
   "source": [
    "with open('../Data/clean_df.pkl', 'rb') as f:\n",
    "    df = pickle.load(f)"
   ]
  },
  {
   "cell_type": "markdown",
   "metadata": {},
   "source": [
    "## Import Stopword List"
   ]
  },
  {
   "cell_type": "code",
   "execution_count": 163,
   "metadata": {
    "collapsed": true
   },
   "outputs": [],
   "source": [
    "with open('../Data/stop_word_list.pkl', 'rb') as f:\n",
    "    stop_word_list = pickle.load(f)"
   ]
  },
  {
   "cell_type": "markdown",
   "metadata": {},
   "source": [
    "## Set Up X and y Variables and Train Test Split"
   ]
  },
  {
   "cell_type": "code",
   "execution_count": 164,
   "metadata": {
    "collapsed": true
   },
   "outputs": [],
   "source": [
    "X = df['selftext'] + \" \" + df['title']\n",
    "y = list(df['label'])"
   ]
  },
  {
   "cell_type": "code",
   "execution_count": 165,
   "metadata": {
    "collapsed": true
   },
   "outputs": [],
   "source": [
    "X_train, X_test, y_train, y_test = train_test_split(X,y, stratify=y, random_state=42)"
   ]
  },
  {
   "cell_type": "markdown",
   "metadata": {},
   "source": [
    "## TF-IDF Vectorizer with Multinomial Naive Bayes Model"
   ]
  },
  {
   "cell_type": "markdown",
   "metadata": {
    "collapsed": true
   },
   "source": [
    "TF–IDF (term frequency–inverse document frequency) considers the relative frequency or rareness of tokens in a document against their frequency in other documents. This encoding approach emphasizes terms that are very relevant to a specific instance.  It gives a value that is weighted relative to other documents, not absoulute like CountVectorizer does.\n",
    "\n",
    "When using a  multinomial naive Bayes model it is assumed that your features are multinomially distributed.  This means that there is discrete data, which is the case in text classification using bags of words or TF-IDF approaches. Naive Bayes is a probabilistic classifier, \n",
    "\n",
    "Naive Bayes is a probabilistic classifier and therefore will calculate the probability of each category using Bayes theorem, and the category with the highest probability will be output."
   ]
  },
  {
   "cell_type": "code",
   "execution_count": 166,
   "metadata": {
    "collapsed": true
   },
   "outputs": [],
   "source": [
    "pipe = Pipeline([\n",
    "    ('tfidf', TfidfVectorizer(stop_words=stop_word_list)),\n",
    "    ('model', MultinomialNB())])"
   ]
  },
  {
   "cell_type": "code",
   "execution_count": 167,
   "metadata": {
    "collapsed": true
   },
   "outputs": [],
   "source": [
    "params = {\n",
    "    'tfidf__max_features': [1000, 2000, 3000],\n",
    "    'tfidf__max_df': [0.5, 0.6, 0.7],\n",
    "    'tfidf__min_df': [2, 3, 4],\n",
    "    'tfidf__ngram_range': [(1,1), (1,2)]\n",
    "}"
   ]
  },
  {
   "cell_type": "code",
   "execution_count": 168,
   "metadata": {
    "collapsed": true
   },
   "outputs": [],
   "source": [
    "gs_multi = GridSearchCV(pipe, param_grid=params, cv=3)"
   ]
  },
  {
   "cell_type": "code",
   "execution_count": 169,
   "metadata": {
    "collapsed": true
   },
   "outputs": [],
   "source": [
    "gs_multi.fit(X_train, y_train);"
   ]
  },
  {
   "cell_type": "code",
   "execution_count": 170,
   "metadata": {},
   "outputs": [
    {
     "data": {
      "text/plain": [
       "(0.9830234438156831, 0.9394673123486683)"
      ]
     },
     "execution_count": 170,
     "metadata": {},
     "output_type": "execute_result"
    }
   ],
   "source": [
    "gs_multi.score(X_train, y_train), gs_multi.score(X_test, y_test)"
   ]
  },
  {
   "cell_type": "code",
   "execution_count": 171,
   "metadata": {
    "scrolled": true
   },
   "outputs": [
    {
     "data": {
      "text/plain": [
       "{'tfidf__max_df': 0.5,\n",
       " 'tfidf__max_features': 3000,\n",
       " 'tfidf__min_df': 2,\n",
       " 'tfidf__ngram_range': (1, 2)}"
      ]
     },
     "execution_count": 171,
     "metadata": {},
     "output_type": "execute_result"
    }
   ],
   "source": [
    "gs_multi.best_params_ "
   ]
  },
  {
   "cell_type": "markdown",
   "metadata": {},
   "source": [
    "#### Plot the Top Five Gridsearch Parameter Combinations"
   ]
  },
  {
   "cell_type": "markdown",
   "metadata": {},
   "source": [
    "I am going to plot the top five gridsearch parameter combinations."
   ]
  },
  {
   "cell_type": "code",
   "execution_count": 172,
   "metadata": {
    "scrolled": true
   },
   "outputs": [
    {
     "data": {
      "text/html": [
       "<div>\n",
       "<style scoped>\n",
       "    .dataframe tbody tr th:only-of-type {\n",
       "        vertical-align: middle;\n",
       "    }\n",
       "\n",
       "    .dataframe tbody tr th {\n",
       "        vertical-align: top;\n",
       "    }\n",
       "\n",
       "    .dataframe thead th {\n",
       "        text-align: right;\n",
       "    }\n",
       "</style>\n",
       "<table border=\"1\" class=\"dataframe\">\n",
       "  <thead>\n",
       "    <tr style=\"text-align: right;\">\n",
       "      <th></th>\n",
       "      <th>params</th>\n",
       "    </tr>\n",
       "    <tr>\n",
       "      <th>mean_test_score</th>\n",
       "      <th></th>\n",
       "    </tr>\n",
       "  </thead>\n",
       "  <tbody>\n",
       "    <tr>\n",
       "      <th>0.940178</th>\n",
       "      <td>3</td>\n",
       "    </tr>\n",
       "    <tr>\n",
       "      <th>0.939369</th>\n",
       "      <td>3</td>\n",
       "    </tr>\n",
       "    <tr>\n",
       "      <th>0.938561</th>\n",
       "      <td>3</td>\n",
       "    </tr>\n",
       "    <tr>\n",
       "      <th>0.937753</th>\n",
       "      <td>12</td>\n",
       "    </tr>\n",
       "    <tr>\n",
       "      <th>0.936944</th>\n",
       "      <td>9</td>\n",
       "    </tr>\n",
       "  </tbody>\n",
       "</table>\n",
       "</div>"
      ],
      "text/plain": [
       "                 params\n",
       "mean_test_score        \n",
       "0.940178         3     \n",
       "0.939369         3     \n",
       "0.938561         3     \n",
       "0.937753         12    \n",
       "0.936944         9     "
      ]
     },
     "execution_count": 172,
     "metadata": {},
     "output_type": "execute_result"
    }
   ],
   "source": [
    "selected__multi_params = pd.DataFrame(gs_multi.cv_results_).loc[:, ['params', 'mean_test_score']] \\\n",
    ".groupby('mean_test_score').count().sort_values('mean_test_score', ascending=False)\n",
    "selected__multi_params.head()"
   ]
  },
  {
   "cell_type": "markdown",
   "metadata": {},
   "source": [
    "There are a number of combinations that yield the same score, so I will pick one from each."
   ]
  },
  {
   "cell_type": "code",
   "execution_count": 180,
   "metadata": {
    "scrolled": true
   },
   "outputs": [],
   "source": [
    "selected__multi_params = pd.DataFrame(gs_multi.cv_results_) \\\n",
    ".loc[:,['params', 'mean_test_score']].sort_values('mean_test_score', ascending=False)"
   ]
  },
  {
   "cell_type": "code",
   "execution_count": 181,
   "metadata": {
    "scrolled": false
   },
   "outputs": [
    {
     "data": {
      "text/html": [
       "<div>\n",
       "<style scoped>\n",
       "    .dataframe tbody tr th:only-of-type {\n",
       "        vertical-align: middle;\n",
       "    }\n",
       "\n",
       "    .dataframe tbody tr th {\n",
       "        vertical-align: top;\n",
       "    }\n",
       "\n",
       "    .dataframe thead th {\n",
       "        text-align: right;\n",
       "    }\n",
       "</style>\n",
       "<table border=\"1\" class=\"dataframe\">\n",
       "  <thead>\n",
       "    <tr style=\"text-align: right;\">\n",
       "      <th></th>\n",
       "      <th>params</th>\n",
       "      <th>mean_test_score</th>\n",
       "    </tr>\n",
       "  </thead>\n",
       "  <tbody>\n",
       "    <tr>\n",
       "      <th>13</th>\n",
       "      <td>{'tfidf__max_df': 0.5, 'tfidf__max_features': 3000, 'tfidf__min_df': 2, 'tfidf__ngram_range': (1, 2)}</td>\n",
       "      <td>0.940178</td>\n",
       "    </tr>\n",
       "    <tr>\n",
       "      <th>51</th>\n",
       "      <td>{'tfidf__max_df': 0.7, 'tfidf__max_features': 3000, 'tfidf__min_df': 3, 'tfidf__ngram_range': (1, 2)}</td>\n",
       "      <td>0.939369</td>\n",
       "    </tr>\n",
       "    <tr>\n",
       "      <th>27</th>\n",
       "      <td>{'tfidf__max_df': 0.6, 'tfidf__max_features': 2000, 'tfidf__min_df': 3, 'tfidf__ngram_range': (1, 2)}</td>\n",
       "      <td>0.938561</td>\n",
       "    </tr>\n",
       "    <tr>\n",
       "      <th>29</th>\n",
       "      <td>{'tfidf__max_df': 0.6, 'tfidf__max_features': 2000, 'tfidf__min_df': 4, 'tfidf__ngram_range': (1, 2)}</td>\n",
       "      <td>0.937753</td>\n",
       "    </tr>\n",
       "    <tr>\n",
       "      <th>50</th>\n",
       "      <td>{'tfidf__max_df': 0.7, 'tfidf__max_features': 3000, 'tfidf__min_df': 3, 'tfidf__ngram_range': (1, 1)}</td>\n",
       "      <td>0.936944</td>\n",
       "    </tr>\n",
       "  </tbody>\n",
       "</table>\n",
       "</div>"
      ],
      "text/plain": [
       "                                                                                                   params  \\\n",
       "13  {'tfidf__max_df': 0.5, 'tfidf__max_features': 3000, 'tfidf__min_df': 2, 'tfidf__ngram_range': (1, 2)}   \n",
       "51  {'tfidf__max_df': 0.7, 'tfidf__max_features': 3000, 'tfidf__min_df': 3, 'tfidf__ngram_range': (1, 2)}   \n",
       "27  {'tfidf__max_df': 0.6, 'tfidf__max_features': 2000, 'tfidf__min_df': 3, 'tfidf__ngram_range': (1, 2)}   \n",
       "29  {'tfidf__max_df': 0.6, 'tfidf__max_features': 2000, 'tfidf__min_df': 4, 'tfidf__ngram_range': (1, 2)}   \n",
       "50  {'tfidf__max_df': 0.7, 'tfidf__max_features': 3000, 'tfidf__min_df': 3, 'tfidf__ngram_range': (1, 1)}   \n",
       "\n",
       "    mean_test_score  \n",
       "13  0.940178         \n",
       "51  0.939369         \n",
       "27  0.938561         \n",
       "29  0.937753         \n",
       "50  0.936944         "
      ]
     },
     "execution_count": 181,
     "metadata": {},
     "output_type": "execute_result"
    }
   ],
   "source": [
    "selected__multi_params = pd.DataFrame(gs_multi.cv_results_) \\\n",
    ".loc[[13, 51, 27, 29, 50],['params', 'mean_test_score']].sort_values('mean_test_score', ascending=False)\n",
    "selected__multi_params.head()"
   ]
  },
  {
   "cell_type": "code",
   "execution_count": 182,
   "metadata": {
    "collapsed": true
   },
   "outputs": [],
   "source": [
    "x = np.arange(selected__multi_params.shape[0])"
   ]
  },
  {
   "cell_type": "code",
   "execution_count": 183,
   "metadata": {
    "collapsed": true
   },
   "outputs": [],
   "source": [
    "y = selected__multi_params.mean_test_score.values"
   ]
  },
  {
   "cell_type": "code",
   "execution_count": 184,
   "metadata": {
    "scrolled": false
   },
   "outputs": [
    {
     "data": {
      "text/html": [
       "<style  type=\"text/css\" >\n",
       "    #T_99d9d646_ba6d_11e8_aacb_8c8590684ea5 th {\n",
       "          text-align: center;\n",
       "    }    #T_99d9d646_ba6d_11e8_aacb_8c8590684ea5row0_col0 {\n",
       "            width:  40em;\n",
       "            text-align:  center;\n",
       "        }    #T_99d9d646_ba6d_11e8_aacb_8c8590684ea5row0_col1 {\n",
       "            width:  40em;\n",
       "            text-align:  center;\n",
       "        }    #T_99d9d646_ba6d_11e8_aacb_8c8590684ea5row1_col0 {\n",
       "            width:  40em;\n",
       "            text-align:  center;\n",
       "        }    #T_99d9d646_ba6d_11e8_aacb_8c8590684ea5row1_col1 {\n",
       "            width:  40em;\n",
       "            text-align:  center;\n",
       "        }    #T_99d9d646_ba6d_11e8_aacb_8c8590684ea5row2_col0 {\n",
       "            width:  40em;\n",
       "            text-align:  center;\n",
       "        }    #T_99d9d646_ba6d_11e8_aacb_8c8590684ea5row2_col1 {\n",
       "            width:  40em;\n",
       "            text-align:  center;\n",
       "        }    #T_99d9d646_ba6d_11e8_aacb_8c8590684ea5row3_col0 {\n",
       "            width:  40em;\n",
       "            text-align:  center;\n",
       "        }    #T_99d9d646_ba6d_11e8_aacb_8c8590684ea5row3_col1 {\n",
       "            width:  40em;\n",
       "            text-align:  center;\n",
       "        }    #T_99d9d646_ba6d_11e8_aacb_8c8590684ea5row4_col0 {\n",
       "            width:  40em;\n",
       "            text-align:  center;\n",
       "        }    #T_99d9d646_ba6d_11e8_aacb_8c8590684ea5row4_col1 {\n",
       "            width:  40em;\n",
       "            text-align:  center;\n",
       "        }</style>  \n",
       "<table id=\"T_99d9d646_ba6d_11e8_aacb_8c8590684ea5\" > \n",
       "<thead>    <tr> \n",
       "        <th class=\"blank level0\" ></th> \n",
       "        <th class=\"col_heading level0 col0\" >params</th> \n",
       "        <th class=\"col_heading level0 col1\" >mean_test_score</th> \n",
       "    </tr></thead> \n",
       "<tbody>    <tr> \n",
       "        <th id=\"T_99d9d646_ba6d_11e8_aacb_8c8590684ea5level0_row0\" class=\"row_heading level0 row0\" >13</th> \n",
       "        <td id=\"T_99d9d646_ba6d_11e8_aacb_8c8590684ea5row0_col0\" class=\"data row0 col0\" >{'tfidf__max_df': 0.5, 'tfidf__max_features': 3000, 'tfidf__min_df': 2, 'tfidf__ngram_range': (1, 2)}</td> \n",
       "        <td id=\"T_99d9d646_ba6d_11e8_aacb_8c8590684ea5row0_col1\" class=\"data row0 col1\" >0.940178</td> \n",
       "    </tr>    <tr> \n",
       "        <th id=\"T_99d9d646_ba6d_11e8_aacb_8c8590684ea5level0_row1\" class=\"row_heading level0 row1\" >51</th> \n",
       "        <td id=\"T_99d9d646_ba6d_11e8_aacb_8c8590684ea5row1_col0\" class=\"data row1 col0\" >{'tfidf__max_df': 0.7, 'tfidf__max_features': 3000, 'tfidf__min_df': 3, 'tfidf__ngram_range': (1, 2)}</td> \n",
       "        <td id=\"T_99d9d646_ba6d_11e8_aacb_8c8590684ea5row1_col1\" class=\"data row1 col1\" >0.939369</td> \n",
       "    </tr>    <tr> \n",
       "        <th id=\"T_99d9d646_ba6d_11e8_aacb_8c8590684ea5level0_row2\" class=\"row_heading level0 row2\" >27</th> \n",
       "        <td id=\"T_99d9d646_ba6d_11e8_aacb_8c8590684ea5row2_col0\" class=\"data row2 col0\" >{'tfidf__max_df': 0.6, 'tfidf__max_features': 2000, 'tfidf__min_df': 3, 'tfidf__ngram_range': (1, 2)}</td> \n",
       "        <td id=\"T_99d9d646_ba6d_11e8_aacb_8c8590684ea5row2_col1\" class=\"data row2 col1\" >0.938561</td> \n",
       "    </tr>    <tr> \n",
       "        <th id=\"T_99d9d646_ba6d_11e8_aacb_8c8590684ea5level0_row3\" class=\"row_heading level0 row3\" >29</th> \n",
       "        <td id=\"T_99d9d646_ba6d_11e8_aacb_8c8590684ea5row3_col0\" class=\"data row3 col0\" >{'tfidf__max_df': 0.6, 'tfidf__max_features': 2000, 'tfidf__min_df': 4, 'tfidf__ngram_range': (1, 2)}</td> \n",
       "        <td id=\"T_99d9d646_ba6d_11e8_aacb_8c8590684ea5row3_col1\" class=\"data row3 col1\" >0.937753</td> \n",
       "    </tr>    <tr> \n",
       "        <th id=\"T_99d9d646_ba6d_11e8_aacb_8c8590684ea5level0_row4\" class=\"row_heading level0 row4\" >50</th> \n",
       "        <td id=\"T_99d9d646_ba6d_11e8_aacb_8c8590684ea5row4_col0\" class=\"data row4 col0\" >{'tfidf__max_df': 0.7, 'tfidf__max_features': 3000, 'tfidf__min_df': 3, 'tfidf__ngram_range': (1, 1)}</td> \n",
       "        <td id=\"T_99d9d646_ba6d_11e8_aacb_8c8590684ea5row4_col1\" class=\"data row4 col1\" >0.936944</td> \n",
       "    </tr></tbody> \n",
       "</table> "
      ],
      "text/plain": [
       "<pandas.io.formats.style.Styler at 0x1a27dcd278>"
      ]
     },
     "execution_count": 184,
     "metadata": {},
     "output_type": "execute_result"
    },
    {
     "data": {
      "image/png": "[encoded data removed]",
      "text/plain": [
       "<matplotlib.figure.Figure at 0x1a2711c588>"
      ]
     },
     "metadata": {},
     "output_type": "display_data"
    }
   ],
   "source": [
    "plt.scatter(x = x, y = y, marker='s', s=100)\n",
    "plt.xticks(x, [13, 51, 27, 29, 50])\n",
    "plt.title('Top GridSearch Combos')\n",
    "plt.xlabel('Index Number')\n",
    "plt.ylabel('Mean Test Score'); \n",
    "\n",
    "df_multi = selected__multi_params\n",
    "\n",
    "d = dict(selector=\"th\",\n",
    "    props=[('text-align', 'center')])\n",
    "\n",
    "df_multi.style.set_properties(**{'width':'40em', 'text-align':'center'})\\\n",
    ".set_table_styles([d])"
   ]
  },
  {
   "cell_type": "markdown",
   "metadata": {},
   "source": [
    "Variations in the max_features, max_df, and min_df features lead to small changes in the mean test score but nothing significant.  I might try to expand the range of these parameters in my gridsearch in the future to see if I can improve my score.  I would be hesitant to lower the max_df parameter anywhere below 0.5.  Max_df ignores terms that have a document frequency strictly higher than the given threshold.  Lowering the max_df below 0.5 would ignore a singificant portion of the terms."
   ]
  },
  {
   "cell_type": "markdown",
   "metadata": {},
   "source": [
    "#### Pickle Multinomial Naives Bayes Model"
   ]
  },
  {
   "cell_type": "code",
   "execution_count": 185,
   "metadata": {
    "collapsed": true
   },
   "outputs": [],
   "source": [
    "with open('../Models/gs_multi.pkl', 'wb+') as f:\n",
    "    pickle.dump(gs_multi, f)"
   ]
  },
  {
   "cell_type": "markdown",
   "metadata": {},
   "source": [
    "#### Plot the Top 20 Words Post-Vectorization"
   ]
  },
  {
   "cell_type": "code",
   "execution_count": 186,
   "metadata": {},
   "outputs": [
    {
     "data": {
      "text/html": [
       "<div>\n",
       "<style scoped>\n",
       "    .dataframe tbody tr th:only-of-type {\n",
       "        vertical-align: middle;\n",
       "    }\n",
       "\n",
       "    .dataframe tbody tr th {\n",
       "        vertical-align: top;\n",
       "    }\n",
       "\n",
       "    .dataframe thead th {\n",
       "        text-align: right;\n",
       "    }\n",
       "</style>\n",
       "<table border=\"1\" class=\"dataframe\">\n",
       "  <thead>\n",
       "    <tr style=\"text-align: right;\">\n",
       "      <th></th>\n",
       "      <th>aampe</th>\n",
       "      <th>abc</th>\n",
       "      <th>abc cbs</th>\n",
       "      <th>abc fox</th>\n",
       "      <th>abc nbc</th>\n",
       "      <th>ability</th>\n",
       "      <th>able</th>\n",
       "      <th>able connect</th>\n",
       "      <th>able download</th>\n",
       "      <th>able play</th>\n",
       "      <th>...</th>\n",
       "      <th>youtube videos</th>\n",
       "      <th>youtubetv</th>\n",
       "      <th>youtubetv answer</th>\n",
       "      <th>yttv</th>\n",
       "      <th>yuzu</th>\n",
       "      <th>zero</th>\n",
       "      <th>zii</th>\n",
       "      <th>zii patcher</th>\n",
       "      <th>zip</th>\n",
       "      <th>zip code</th>\n",
       "    </tr>\n",
       "  </thead>\n",
       "  <tbody>\n",
       "    <tr>\n",
       "      <th>0</th>\n",
       "      <td>0.0</td>\n",
       "      <td>0.0</td>\n",
       "      <td>0.0</td>\n",
       "      <td>0.0</td>\n",
       "      <td>0.0</td>\n",
       "      <td>0.0</td>\n",
       "      <td>0.0</td>\n",
       "      <td>0.0</td>\n",
       "      <td>0.0</td>\n",
       "      <td>0.0</td>\n",
       "      <td>...</td>\n",
       "      <td>0.0</td>\n",
       "      <td>0.0</td>\n",
       "      <td>0.0</td>\n",
       "      <td>0.0</td>\n",
       "      <td>0.0</td>\n",
       "      <td>0.0</td>\n",
       "      <td>0.0</td>\n",
       "      <td>0.0</td>\n",
       "      <td>0.0</td>\n",
       "      <td>0.0</td>\n",
       "    </tr>\n",
       "    <tr>\n",
       "      <th>1</th>\n",
       "      <td>0.0</td>\n",
       "      <td>0.0</td>\n",
       "      <td>0.0</td>\n",
       "      <td>0.0</td>\n",
       "      <td>0.0</td>\n",
       "      <td>0.0</td>\n",
       "      <td>0.0</td>\n",
       "      <td>0.0</td>\n",
       "      <td>0.0</td>\n",
       "      <td>0.0</td>\n",
       "      <td>...</td>\n",
       "      <td>0.0</td>\n",
       "      <td>0.0</td>\n",
       "      <td>0.0</td>\n",
       "      <td>0.0</td>\n",
       "      <td>0.0</td>\n",
       "      <td>0.0</td>\n",
       "      <td>0.0</td>\n",
       "      <td>0.0</td>\n",
       "      <td>0.0</td>\n",
       "      <td>0.0</td>\n",
       "    </tr>\n",
       "    <tr>\n",
       "      <th>2</th>\n",
       "      <td>0.0</td>\n",
       "      <td>0.0</td>\n",
       "      <td>0.0</td>\n",
       "      <td>0.0</td>\n",
       "      <td>0.0</td>\n",
       "      <td>0.0</td>\n",
       "      <td>0.0</td>\n",
       "      <td>0.0</td>\n",
       "      <td>0.0</td>\n",
       "      <td>0.0</td>\n",
       "      <td>...</td>\n",
       "      <td>0.0</td>\n",
       "      <td>0.0</td>\n",
       "      <td>0.0</td>\n",
       "      <td>0.0</td>\n",
       "      <td>0.0</td>\n",
       "      <td>0.0</td>\n",
       "      <td>0.0</td>\n",
       "      <td>0.0</td>\n",
       "      <td>0.0</td>\n",
       "      <td>0.0</td>\n",
       "    </tr>\n",
       "    <tr>\n",
       "      <th>3</th>\n",
       "      <td>0.0</td>\n",
       "      <td>0.0</td>\n",
       "      <td>0.0</td>\n",
       "      <td>0.0</td>\n",
       "      <td>0.0</td>\n",
       "      <td>0.0</td>\n",
       "      <td>0.0</td>\n",
       "      <td>0.0</td>\n",
       "      <td>0.0</td>\n",
       "      <td>0.0</td>\n",
       "      <td>...</td>\n",
       "      <td>0.0</td>\n",
       "      <td>0.0</td>\n",
       "      <td>0.0</td>\n",
       "      <td>0.0</td>\n",
       "      <td>0.0</td>\n",
       "      <td>0.0</td>\n",
       "      <td>0.0</td>\n",
       "      <td>0.0</td>\n",
       "      <td>0.0</td>\n",
       "      <td>0.0</td>\n",
       "    </tr>\n",
       "    <tr>\n",
       "      <th>4</th>\n",
       "      <td>0.0</td>\n",
       "      <td>0.0</td>\n",
       "      <td>0.0</td>\n",
       "      <td>0.0</td>\n",
       "      <td>0.0</td>\n",
       "      <td>0.0</td>\n",
       "      <td>0.0</td>\n",
       "      <td>0.0</td>\n",
       "      <td>0.0</td>\n",
       "      <td>0.0</td>\n",
       "      <td>...</td>\n",
       "      <td>0.0</td>\n",
       "      <td>0.0</td>\n",
       "      <td>0.0</td>\n",
       "      <td>0.0</td>\n",
       "      <td>0.0</td>\n",
       "      <td>0.0</td>\n",
       "      <td>0.0</td>\n",
       "      <td>0.0</td>\n",
       "      <td>0.0</td>\n",
       "      <td>0.0</td>\n",
       "    </tr>\n",
       "  </tbody>\n",
       "</table>\n",
       "<p>5 rows × 3000 columns</p>\n",
       "</div>"
      ],
      "text/plain": [
       "   aampe  abc  abc cbs  abc fox  abc nbc  ability  able  able connect  \\\n",
       "0  0.0    0.0  0.0      0.0      0.0      0.0      0.0   0.0            \n",
       "1  0.0    0.0  0.0      0.0      0.0      0.0      0.0   0.0            \n",
       "2  0.0    0.0  0.0      0.0      0.0      0.0      0.0   0.0            \n",
       "3  0.0    0.0  0.0      0.0      0.0      0.0      0.0   0.0            \n",
       "4  0.0    0.0  0.0      0.0      0.0      0.0      0.0   0.0            \n",
       "\n",
       "   able download  able play    ...     youtube videos  youtubetv  \\\n",
       "0  0.0            0.0          ...     0.0             0.0         \n",
       "1  0.0            0.0          ...     0.0             0.0         \n",
       "2  0.0            0.0          ...     0.0             0.0         \n",
       "3  0.0            0.0          ...     0.0             0.0         \n",
       "4  0.0            0.0          ...     0.0             0.0         \n",
       "\n",
       "   youtubetv answer  yttv  yuzu  zero  zii  zii patcher  zip  zip code  \n",
       "0  0.0               0.0   0.0   0.0   0.0  0.0          0.0  0.0       \n",
       "1  0.0               0.0   0.0   0.0   0.0  0.0          0.0  0.0       \n",
       "2  0.0               0.0   0.0   0.0   0.0  0.0          0.0  0.0       \n",
       "3  0.0               0.0   0.0   0.0   0.0  0.0          0.0  0.0       \n",
       "4  0.0               0.0   0.0   0.0   0.0  0.0          0.0  0.0       \n",
       "\n",
       "[5 rows x 3000 columns]"
      ]
     },
     "execution_count": 186,
     "metadata": {},
     "output_type": "execute_result"
    }
   ],
   "source": [
    "sparse_data = gs_multi.best_estimator_.named_steps.tfidf.transform(X_train).toarray()\n",
    "sparse_columns = gs_multi.best_estimator_.named_steps.tfidf.get_feature_names()\n",
    "\n",
    "df_tfidf = pd.SparseDataFrame(data = sparse_data, \n",
    "                               columns = sparse_columns, \n",
    "                               default_fill_value=0)\n",
    "\n",
    "df_tfidf.head()"
   ]
  },
  {
   "cell_type": "code",
   "execution_count": 187,
   "metadata": {},
   "outputs": [
    {
     "data": {
      "text/html": [
       "<div>\n",
       "<style scoped>\n",
       "    .dataframe tbody tr th:only-of-type {\n",
       "        vertical-align: middle;\n",
       "    }\n",
       "\n",
       "    .dataframe tbody tr th {\n",
       "        vertical-align: top;\n",
       "    }\n",
       "\n",
       "    .dataframe thead th {\n",
       "        text-align: right;\n",
       "    }\n",
       "</style>\n",
       "<table border=\"1\" class=\"dataframe\">\n",
       "  <thead>\n",
       "    <tr style=\"text-align: right;\">\n",
       "      <th></th>\n",
       "      <th>aampe</th>\n",
       "      <th>abc</th>\n",
       "      <th>abc cbs</th>\n",
       "      <th>abc fox</th>\n",
       "      <th>abc nbc</th>\n",
       "      <th>ability</th>\n",
       "      <th>able</th>\n",
       "      <th>able connect</th>\n",
       "      <th>able download</th>\n",
       "      <th>able play</th>\n",
       "      <th>...</th>\n",
       "      <th>youtubetv</th>\n",
       "      <th>youtubetv answer</th>\n",
       "      <th>yttv</th>\n",
       "      <th>yuzu</th>\n",
       "      <th>zero</th>\n",
       "      <th>zii</th>\n",
       "      <th>zii patcher</th>\n",
       "      <th>zip</th>\n",
       "      <th>zip code</th>\n",
       "      <th>0</th>\n",
       "    </tr>\n",
       "  </thead>\n",
       "  <tbody>\n",
       "    <tr>\n",
       "      <th>0</th>\n",
       "      <td>0.0</td>\n",
       "      <td>0.0</td>\n",
       "      <td>0.0</td>\n",
       "      <td>0.0</td>\n",
       "      <td>0.0</td>\n",
       "      <td>0.0</td>\n",
       "      <td>0.0</td>\n",
       "      <td>0.0</td>\n",
       "      <td>0.0</td>\n",
       "      <td>0.0</td>\n",
       "      <td>...</td>\n",
       "      <td>0.0</td>\n",
       "      <td>0.0</td>\n",
       "      <td>0.0</td>\n",
       "      <td>0.0</td>\n",
       "      <td>0.0</td>\n",
       "      <td>0.0</td>\n",
       "      <td>0.0</td>\n",
       "      <td>0.0</td>\n",
       "      <td>0.0</td>\n",
       "      <td>1.0</td>\n",
       "    </tr>\n",
       "    <tr>\n",
       "      <th>1</th>\n",
       "      <td>0.0</td>\n",
       "      <td>0.0</td>\n",
       "      <td>0.0</td>\n",
       "      <td>0.0</td>\n",
       "      <td>0.0</td>\n",
       "      <td>0.0</td>\n",
       "      <td>0.0</td>\n",
       "      <td>0.0</td>\n",
       "      <td>0.0</td>\n",
       "      <td>0.0</td>\n",
       "      <td>...</td>\n",
       "      <td>0.0</td>\n",
       "      <td>0.0</td>\n",
       "      <td>0.0</td>\n",
       "      <td>0.0</td>\n",
       "      <td>0.0</td>\n",
       "      <td>0.0</td>\n",
       "      <td>0.0</td>\n",
       "      <td>0.0</td>\n",
       "      <td>0.0</td>\n",
       "      <td>0.0</td>\n",
       "    </tr>\n",
       "    <tr>\n",
       "      <th>2</th>\n",
       "      <td>0.0</td>\n",
       "      <td>0.0</td>\n",
       "      <td>0.0</td>\n",
       "      <td>0.0</td>\n",
       "      <td>0.0</td>\n",
       "      <td>0.0</td>\n",
       "      <td>0.0</td>\n",
       "      <td>0.0</td>\n",
       "      <td>0.0</td>\n",
       "      <td>0.0</td>\n",
       "      <td>...</td>\n",
       "      <td>0.0</td>\n",
       "      <td>0.0</td>\n",
       "      <td>0.0</td>\n",
       "      <td>0.0</td>\n",
       "      <td>0.0</td>\n",
       "      <td>0.0</td>\n",
       "      <td>0.0</td>\n",
       "      <td>0.0</td>\n",
       "      <td>0.0</td>\n",
       "      <td>0.0</td>\n",
       "    </tr>\n",
       "    <tr>\n",
       "      <th>3</th>\n",
       "      <td>0.0</td>\n",
       "      <td>0.0</td>\n",
       "      <td>0.0</td>\n",
       "      <td>0.0</td>\n",
       "      <td>0.0</td>\n",
       "      <td>0.0</td>\n",
       "      <td>0.0</td>\n",
       "      <td>0.0</td>\n",
       "      <td>0.0</td>\n",
       "      <td>0.0</td>\n",
       "      <td>...</td>\n",
       "      <td>0.0</td>\n",
       "      <td>0.0</td>\n",
       "      <td>0.0</td>\n",
       "      <td>0.0</td>\n",
       "      <td>0.0</td>\n",
       "      <td>0.0</td>\n",
       "      <td>0.0</td>\n",
       "      <td>0.0</td>\n",
       "      <td>0.0</td>\n",
       "      <td>0.0</td>\n",
       "    </tr>\n",
       "    <tr>\n",
       "      <th>4</th>\n",
       "      <td>0.0</td>\n",
       "      <td>0.0</td>\n",
       "      <td>0.0</td>\n",
       "      <td>0.0</td>\n",
       "      <td>0.0</td>\n",
       "      <td>0.0</td>\n",
       "      <td>0.0</td>\n",
       "      <td>0.0</td>\n",
       "      <td>0.0</td>\n",
       "      <td>0.0</td>\n",
       "      <td>...</td>\n",
       "      <td>0.0</td>\n",
       "      <td>0.0</td>\n",
       "      <td>0.0</td>\n",
       "      <td>0.0</td>\n",
       "      <td>0.0</td>\n",
       "      <td>0.0</td>\n",
       "      <td>0.0</td>\n",
       "      <td>0.0</td>\n",
       "      <td>0.0</td>\n",
       "      <td>0.0</td>\n",
       "    </tr>\n",
       "  </tbody>\n",
       "</table>\n",
       "<p>5 rows × 3001 columns</p>\n",
       "</div>"
      ],
      "text/plain": [
       "   aampe  abc  abc cbs  abc fox  abc nbc  ability  able  able connect  \\\n",
       "0  0.0    0.0  0.0      0.0      0.0      0.0      0.0   0.0            \n",
       "1  0.0    0.0  0.0      0.0      0.0      0.0      0.0   0.0            \n",
       "2  0.0    0.0  0.0      0.0      0.0      0.0      0.0   0.0            \n",
       "3  0.0    0.0  0.0      0.0      0.0      0.0      0.0   0.0            \n",
       "4  0.0    0.0  0.0      0.0      0.0      0.0      0.0   0.0            \n",
       "\n",
       "   able download  able play ...   youtubetv  youtubetv answer  yttv  yuzu  \\\n",
       "0  0.0            0.0       ...   0.0        0.0               0.0   0.0    \n",
       "1  0.0            0.0       ...   0.0        0.0               0.0   0.0    \n",
       "2  0.0            0.0       ...   0.0        0.0               0.0   0.0    \n",
       "3  0.0            0.0       ...   0.0        0.0               0.0   0.0    \n",
       "4  0.0            0.0       ...   0.0        0.0               0.0   0.0    \n",
       "\n",
       "   zero  zii  zii patcher  zip  zip code    0  \n",
       "0  0.0   0.0  0.0          0.0  0.0       1.0  \n",
       "1  0.0   0.0  0.0          0.0  0.0       0.0  \n",
       "2  0.0   0.0  0.0          0.0  0.0       0.0  \n",
       "3  0.0   0.0  0.0          0.0  0.0       0.0  \n",
       "4  0.0   0.0  0.0          0.0  0.0       0.0  \n",
       "\n",
       "[5 rows x 3001 columns]"
      ]
     },
     "execution_count": 187,
     "metadata": {},
     "output_type": "execute_result"
    }
   ],
   "source": [
    "df_tfidf = df_tfidf.join(pd.DataFrame(y_test))\n",
    "df_tfidf.head()"
   ]
  },
  {
   "cell_type": "code",
   "execution_count": 188,
   "metadata": {
    "collapsed": true
   },
   "outputs": [],
   "source": [
    "df_tfidf.rename(columns = {0: 'ytest'}, inplace=True)\n",
    "df_tfidf = df_tfidf.groupby('ytest').mean().T\n",
    "df_tfidf.columns = ['Piracy', 'Cordcutters']\n",
    "df_tfidf = df_tfidf.iloc[:,::-1]"
   ]
  },
  {
   "cell_type": "code",
   "execution_count": 189,
   "metadata": {
    "scrolled": false
   },
   "outputs": [
    {
     "data": {
      "image/png": "[encoded data removed]",
      "text/plain": [
       "<matplotlib.figure.Figure at 0x1a20c1a208>"
      ]
     },
     "metadata": {},
     "output_type": "display_data"
    }
   ],
   "source": [
    "cc_tfidf_plot = df_tfidf.sort_values('Cordcutters', ascending=False)[:20]\n",
    "piracy_tfidf_plot = df_tfidf.sort_values('Piracy', ascending=False)[:20]\n",
    "\n",
    "figure, ax = plt.subplots(nrows = 2, ncols = 1, figsize = (12,15))\n",
    "ax[0].set_xlabel('Words')\n",
    "ax[1].set_xlabel('Words')\n",
    "ax[0].set_ylabel('Score')\n",
    "ax[1].set_ylabel('Score')\n",
    "\n",
    "cc_tfidf_plot[:20].plot(ax = ax[0], title = 'Highest TFIDF Score in Cordcutters Subreddit Post Vectorization', kind='bar')\n",
    "piracy_tfidf_plot[:20].plot(ax = ax[1], title = 'Highest TFIDF Score in Piracy Subreddit Post Vectorization', kind='bar')\n",
    "\n",
    "figure.tight_layout();"
   ]
  },
  {
   "cell_type": "markdown",
   "metadata": {},
   "source": [
    "#### Interpretation"
   ]
  },
  {
   "cell_type": "markdown",
   "metadata": {},
   "source": [
    "These plots show the top 20 TFI-DF weighted words in each class.  This score represents a statistical measure which tells us how important a word is to a document in a collection or corpus."
   ]
  },
  {
   "cell_type": "markdown",
   "metadata": {},
   "source": [
    "#### Common Words Between Cordcutters and Piracy after both Count Vectorization and TF-IDF"
   ]
  },
  {
   "cell_type": "markdown",
   "metadata": {},
   "source": [
    "I wanted to document which words were present in both of the top 20 weighted words list after Count Vectorization and after TF-IDF.  "
   ]
  },
  {
   "cell_type": "code",
   "execution_count": 190,
   "metadata": {},
   "outputs": [
    {
     "name": "stdout",
     "output_type": "stream",
     "text": [
      "['tv', 'streaming', 'like', 'just', 'cable', 'new', 'use', 'service', 'ive']\n"
     ]
    }
   ],
   "source": [
    "cc_vec = ['tv', 'antenna', 'just', 'channels', 'streaming', 'internet', 'cable',\n",
    "'live', 'like', 'service', 'watch', 'use', 'new', 'want', 'channel', 'sports',\n",
    "'need', 'ive', 'cord', 'month'] \n",
    "\n",
    "cc_tiffy = list(df_tfidf.sort_values('Cordcutters', ascending=False)[:20].index)\n",
    "\n",
    "print([i for i in cc_tiffy if i in cc_vec])"
   ]
  },
  {
   "cell_type": "code",
   "execution_count": 191,
   "metadata": {},
   "outputs": [
    {
     "name": "stdout",
     "output_type": "stream",
     "text": [
      "['just', 'know', 'like', 'ive', 'ampxb', 'games']\n"
     ]
    }
   ],
   "source": [
    "piracy_vec = ['download', 'im', 'just', 'know', 'like','use', 'dont',\n",
    "              'ampxb','ive','torrent','games','file', 'way','good','files',\n",
    "              'piracy', 'version', 'need', 'windows', 'site']\n",
    "\n",
    "piracy_tiffy = list(df_tfidf.sort_values('Piracy', ascending=False)[:20].index)\n",
    "\n",
    "print([i for i in piracy_tiffy if i in piracy_vec])"
   ]
  },
  {
   "cell_type": "markdown",
   "metadata": {},
   "source": [
    "#### Confusion Matrix for Multinomial Naives Bayes Model"
   ]
  },
  {
   "cell_type": "markdown",
   "metadata": {},
   "source": [
    "In a confusion matrix each column represents a predicted class, while every row shows true classes. Therefore, every cell is one possible combination of predict and true classes.  In this confusion matrix true positives would be the number of posts that were predicted as 1s and are actually classified as 1s and true negatives would be the number of posts predicted as 0s and are actually classified as 0s.  We can see by the accuracy score (all correct/all) and the precision score (all positives/predicted positives) that this model is very effective in predicting which subreddit a post originates from."
   ]
  },
  {
   "cell_type": "code",
   "execution_count": 192,
   "metadata": {
    "collapsed": true
   },
   "outputs": [],
   "source": [
    "y_pred = gs_multi.best_estimator_.predict(X_test)"
   ]
  },
  {
   "cell_type": "code",
   "execution_count": 193,
   "metadata": {
    "collapsed": true
   },
   "outputs": [],
   "source": [
    "matrix_def = [['tn','fp'], ['fn','tp']]\n",
    "matrix = confusion_matrix(y_test, y_pred) \n",
    "tn, fp, fn, tp = matrix.ravel()"
   ]
  },
  {
   "cell_type": "code",
   "execution_count": 194,
   "metadata": {
    "scrolled": true
   },
   "outputs": [
    {
     "name": "stdout",
     "output_type": "stream",
     "text": [
      "Matrix Definition\n",
      "[['tn' 'fp']\n",
      " ['fn' 'tp']]\n",
      "\n",
      "Confusion Matrix\n",
      "[[163  17]\n",
      " [  8 225]]\n",
      "\n",
      "Accuracy: 0.9394673123486683\n",
      "\n",
      "             precision    recall  f1-score   support\n",
      "\n",
      "          0       0.95      0.91      0.93       180\n",
      "          1       0.93      0.97      0.95       233\n",
      "\n",
      "avg / total       0.94      0.94      0.94       413\n",
      "\n"
     ]
    }
   ],
   "source": [
    "print('Matrix Definition')\n",
    "print(np.array(matrix_def))\n",
    "print('')\n",
    "print('Confusion Matrix') \n",
    "print(matrix)\n",
    "accuracy = (tp+tn)/(tn+fp+fn+tp)\n",
    "precision = tp/(tp+fp)\n",
    "print('')\n",
    "print(f'Accuracy: {accuracy}')\n",
    "print('')\n",
    "print(classification_report(y_test,y_pred))"
   ]
  },
  {
   "cell_type": "markdown",
   "metadata": {},
   "source": [
    "#### ROC Score for Multinomial Naives Bayes Model"
   ]
  },
  {
   "cell_type": "markdown",
   "metadata": {},
   "source": [
    "The Receiver Operating Curve (ROC) plots the true positive rate against the false positive rate.  The false positive rate in this case would be the posts predicted as 1s that are actually classified as 0s and the false negatives would be the posts classified as 0s that are actually classified as 1s.  The false positive rate is equal to one minus the true negative rate, thus the ROC is generated by plotting the sensivity (true positive rate) and specificity (true negative rate).  The ROC gives a sense about the tradeoff between sensitivity and specificity; a classifier that predicts at random will appear as the diagonal line. The closer the curve is to the upper left, the better overall accuracy of the model. \n",
    "\n",
    "This model represents the tradeoff in which the higher the true positives rate, the more false positive the classifier produces.  This is demonstrated in the ROC Curve in that it is very close to the upper left corner and its area under the curve (AUC) is 0.99, where a perfect classifier will have a ROC-AUC of 1.0."
   ]
  },
  {
   "cell_type": "code",
   "execution_count": 195,
   "metadata": {
    "collapsed": true,
    "scrolled": false
   },
   "outputs": [],
   "source": [
    "fpr, tpr, threshold = roc_curve(y_test, gs_multi.predict_proba(X_test)[:, 1])"
   ]
  },
  {
   "cell_type": "code",
   "execution_count": 196,
   "metadata": {
    "scrolled": false
   },
   "outputs": [
    {
     "data": {
      "image/png": "[encoded data removed]",
      "text/plain": [
       "<matplotlib.figure.Figure at 0x1a27df18d0>"
      ]
     },
     "metadata": {},
     "output_type": "display_data"
    }
   ],
   "source": [
    "plt.figure()\n",
    "plt.plot(fpr, tpr)\n",
    "plt.plot([0, 1], ls=\"--\")\n",
    "\n",
    "plt.title('ROC Curve')\n",
    "plt.xlabel('False Positive Rate')\n",
    "plt.ylabel('True Positive Rate');"
   ]
  },
  {
   "cell_type": "code",
   "execution_count": 197,
   "metadata": {},
   "outputs": [
    {
     "data": {
      "text/plain": [
       "0.9880782069623272"
      ]
     },
     "execution_count": 197,
     "metadata": {},
     "output_type": "execute_result"
    }
   ],
   "source": [
    "roc_auc_score(y_test, gs_multi.predict_proba(X_test)[:, 1])"
   ]
  },
  {
   "cell_type": "markdown",
   "metadata": {},
   "source": [
    "## TF-IDF Vectorizer with Logistic Regression Model"
   ]
  },
  {
   "cell_type": "markdown",
   "metadata": {},
   "source": [
    "Logistic regression is a model used to estimate the probability that an instance belongs to a particular class.  If the estimate probability is greater than 50%, then the model predicts that the instance belongs to that class.  In the case of TF-IDF, the probability of success is the scaled frequency (whether a term is common or rare among all documents).  The C is the inverse of regularization strength where the smaller values specify stronger regularization. \n",
    "The L1 and L2 are used to specify the penalty (simlar to Lasso/Ridge) in linear regression.  \"Class weight=balanced\" works by replicating the smaller class until you have as many samples as in the larger one.  I chose to try this since there was about a 60/40 split in my classes."
   ]
  },
  {
   "cell_type": "code",
   "execution_count": 198,
   "metadata": {
    "collapsed": true
   },
   "outputs": [],
   "source": [
    "pipe = Pipeline([\n",
    "    ('tfidf', TfidfVectorizer(stop_words=stop_word_list)),\n",
    "    ('logreg', LogisticRegression())])"
   ]
  },
  {
   "cell_type": "code",
   "execution_count": 199,
   "metadata": {
    "collapsed": true
   },
   "outputs": [],
   "source": [
    "params = {\n",
    "    'tfidf__max_features': [1000, 5000, 10000],\n",
    "    'tfidf__max_df': [0.5,0.6,0.7],\n",
    "    'tfidf__min_df': [2,3,4],\n",
    "    'tfidf__ngram_range': [(1,2)],\n",
    "    'logreg__penalty': ['l1', 'l2'],\n",
    "    'logreg__C':  [1e3, 1e4, 1e5],\n",
    "    'logreg__class_weight': [None, 'balanced']\n",
    "}"
   ]
  },
  {
   "cell_type": "code",
   "execution_count": 200,
   "metadata": {
    "collapsed": true
   },
   "outputs": [],
   "source": [
    "gs_logreg = GridSearchCV(pipe, param_grid=params, cv=3)"
   ]
  },
  {
   "cell_type": "code",
   "execution_count": 201,
   "metadata": {
    "collapsed": true
   },
   "outputs": [],
   "source": [
    "gs_logreg.fit(X_train, y_train);"
   ]
  },
  {
   "cell_type": "code",
   "execution_count": 202,
   "metadata": {},
   "outputs": [
    {
     "data": {
      "text/plain": [
       "(1.0, 0.9322033898305084)"
      ]
     },
     "execution_count": 202,
     "metadata": {},
     "output_type": "execute_result"
    }
   ],
   "source": [
    "gs_logreg.score(X_train, y_train), gs_logreg.score(X_test, y_test)"
   ]
  },
  {
   "cell_type": "code",
   "execution_count": 203,
   "metadata": {
    "scrolled": false
   },
   "outputs": [
    {
     "data": {
      "text/plain": [
       "{'logreg__C': 1000.0,\n",
       " 'logreg__class_weight': 'balanced',\n",
       " 'logreg__penalty': 'l2',\n",
       " 'tfidf__max_df': 0.5,\n",
       " 'tfidf__max_features': 5000,\n",
       " 'tfidf__min_df': 2,\n",
       " 'tfidf__ngram_range': (1, 2)}"
      ]
     },
     "execution_count": 203,
     "metadata": {},
     "output_type": "execute_result"
    }
   ],
   "source": [
    "gs_logreg.best_params_ "
   ]
  },
  {
   "cell_type": "markdown",
   "metadata": {},
   "source": [
    "#### Plot the Top Five Gridsearch Parameter Combinations"
   ]
  },
  {
   "cell_type": "code",
   "execution_count": 204,
   "metadata": {},
   "outputs": [
    {
     "data": {
      "text/html": [
       "<div>\n",
       "<style scoped>\n",
       "    .dataframe tbody tr th:only-of-type {\n",
       "        vertical-align: middle;\n",
       "    }\n",
       "\n",
       "    .dataframe tbody tr th {\n",
       "        vertical-align: top;\n",
       "    }\n",
       "\n",
       "    .dataframe thead th {\n",
       "        text-align: right;\n",
       "    }\n",
       "</style>\n",
       "<table border=\"1\" class=\"dataframe\">\n",
       "  <thead>\n",
       "    <tr style=\"text-align: right;\">\n",
       "      <th></th>\n",
       "      <th>params</th>\n",
       "    </tr>\n",
       "    <tr>\n",
       "      <th>mean_test_score</th>\n",
       "      <th></th>\n",
       "    </tr>\n",
       "  </thead>\n",
       "  <tbody>\n",
       "    <tr>\n",
       "      <th>0.942603</th>\n",
       "      <td>6</td>\n",
       "    </tr>\n",
       "    <tr>\n",
       "      <th>0.937753</th>\n",
       "      <td>6</td>\n",
       "    </tr>\n",
       "    <tr>\n",
       "      <th>0.936136</th>\n",
       "      <td>6</td>\n",
       "    </tr>\n",
       "    <tr>\n",
       "      <th>0.935327</th>\n",
       "      <td>1</td>\n",
       "    </tr>\n",
       "    <tr>\n",
       "      <th>0.934519</th>\n",
       "      <td>5</td>\n",
       "    </tr>\n",
       "  </tbody>\n",
       "</table>\n",
       "</div>"
      ],
      "text/plain": [
       "                 params\n",
       "mean_test_score        \n",
       "0.942603         6     \n",
       "0.937753         6     \n",
       "0.936136         6     \n",
       "0.935327         1     \n",
       "0.934519         5     "
      ]
     },
     "execution_count": 204,
     "metadata": {},
     "output_type": "execute_result"
    }
   ],
   "source": [
    "selected__logreg_params = pd.DataFrame(gs_logreg.cv_results_).loc[:, ['params', 'mean_test_score']] \\\n",
    ".groupby('mean_test_score').count().sort_values('mean_test_score', ascending=False)\n",
    "selected__logreg_params.head()"
   ]
  },
  {
   "cell_type": "markdown",
   "metadata": {},
   "source": [
    "There are a number of combinations that yield the same score, so I will pick one from each."
   ]
  },
  {
   "cell_type": "code",
   "execution_count": 208,
   "metadata": {},
   "outputs": [],
   "source": [
    "selected__logreg_params = pd.DataFrame(gs_logreg.cv_results_) \\\n",
    ".loc[:,['params', 'mean_test_score']].sort_values('mean_test_score', ascending=False)"
   ]
  },
  {
   "cell_type": "code",
   "execution_count": 210,
   "metadata": {
    "scrolled": true
   },
   "outputs": [
    {
     "data": {
      "text/html": [
       "<div>\n",
       "<style scoped>\n",
       "    .dataframe tbody tr th:only-of-type {\n",
       "        vertical-align: middle;\n",
       "    }\n",
       "\n",
       "    .dataframe tbody tr th {\n",
       "        vertical-align: top;\n",
       "    }\n",
       "\n",
       "    .dataframe thead th {\n",
       "        text-align: right;\n",
       "    }\n",
       "</style>\n",
       "<table border=\"1\" class=\"dataframe\">\n",
       "  <thead>\n",
       "    <tr style=\"text-align: right;\">\n",
       "      <th></th>\n",
       "      <th>params</th>\n",
       "      <th>mean_test_score</th>\n",
       "    </tr>\n",
       "  </thead>\n",
       "  <tbody>\n",
       "    <tr>\n",
       "      <th>87</th>\n",
       "      <td>{'logreg__C': 1000.0, 'logreg__class_weight': 'balanced', 'logreg__penalty': 'l2', 'tfidf__max_df': 0.5, 'tfidf__max_features': 10000, 'tfidf__min_df': 2, 'tfidf__ngram_range': (1, 2)}</td>\n",
       "      <td>0.942603</td>\n",
       "    </tr>\n",
       "    <tr>\n",
       "      <th>51</th>\n",
       "      <td>{'logreg__C': 1000.0, 'logreg__class_weight': None, 'logreg__penalty': 'l2', 'tfidf__max_df': 0.7, 'tfidf__max_features': 10000, 'tfidf__min_df': 2, 'tfidf__ngram_range': (1, 2)}</td>\n",
       "      <td>0.937753</td>\n",
       "    </tr>\n",
       "    <tr>\n",
       "      <th>210</th>\n",
       "      <td>{'logreg__C': 10000.0, 'logreg__class_weight': 'balanced', 'logreg__penalty': 'l2', 'tfidf__max_df': 0.7, 'tfidf__max_features': 5000, 'tfidf__min_df': 2, 'tfidf__ngram_range': (1, 2)}</td>\n",
       "      <td>0.936136</td>\n",
       "    </tr>\n",
       "    <tr>\n",
       "      <th>111</th>\n",
       "      <td>{'logreg__C': 10000.0, 'logreg__class_weight': None, 'logreg__penalty': 'l1', 'tfidf__max_df': 0.5, 'tfidf__max_features': 5000, 'tfidf__min_df': 2, 'tfidf__ngram_range': (1, 2)}</td>\n",
       "      <td>0.935327</td>\n",
       "    </tr>\n",
       "    <tr>\n",
       "      <th>36</th>\n",
       "      <td>{'logreg__C': 1000.0, 'logreg__class_weight': None, 'logreg__penalty': 'l2', 'tfidf__max_df': 0.6, 'tfidf__max_features': 1000, 'tfidf__min_df': 2, 'tfidf__ngram_range': (1, 2)}</td>\n",
       "      <td>0.934519</td>\n",
       "    </tr>\n",
       "  </tbody>\n",
       "</table>\n",
       "</div>"
      ],
      "text/plain": [
       "                                                                                                                                                                                       params  \\\n",
       "87   {'logreg__C': 1000.0, 'logreg__class_weight': 'balanced', 'logreg__penalty': 'l2', 'tfidf__max_df': 0.5, 'tfidf__max_features': 10000, 'tfidf__min_df': 2, 'tfidf__ngram_range': (1, 2)}   \n",
       "51   {'logreg__C': 1000.0, 'logreg__class_weight': None, 'logreg__penalty': 'l2', 'tfidf__max_df': 0.7, 'tfidf__max_features': 10000, 'tfidf__min_df': 2, 'tfidf__ngram_range': (1, 2)}         \n",
       "210  {'logreg__C': 10000.0, 'logreg__class_weight': 'balanced', 'logreg__penalty': 'l2', 'tfidf__max_df': 0.7, 'tfidf__max_features': 5000, 'tfidf__min_df': 2, 'tfidf__ngram_range': (1, 2)}   \n",
       "111  {'logreg__C': 10000.0, 'logreg__class_weight': None, 'logreg__penalty': 'l1', 'tfidf__max_df': 0.5, 'tfidf__max_features': 5000, 'tfidf__min_df': 2, 'tfidf__ngram_range': (1, 2)}         \n",
       "36   {'logreg__C': 1000.0, 'logreg__class_weight': None, 'logreg__penalty': 'l2', 'tfidf__max_df': 0.6, 'tfidf__max_features': 1000, 'tfidf__min_df': 2, 'tfidf__ngram_range': (1, 2)}          \n",
       "\n",
       "     mean_test_score  \n",
       "87   0.942603         \n",
       "51   0.937753         \n",
       "210  0.936136         \n",
       "111  0.935327         \n",
       "36   0.934519         "
      ]
     },
     "execution_count": 210,
     "metadata": {},
     "output_type": "execute_result"
    }
   ],
   "source": [
    "selected__logreg_params = pd.DataFrame(gs_logreg.cv_results_) \\\n",
    ".loc[[87, 51, 210, 111, 36],['params', 'mean_test_score']].sort_values('mean_test_score', ascending=False)\n",
    "selected__logreg_params.head()"
   ]
  },
  {
   "cell_type": "code",
   "execution_count": 211,
   "metadata": {
    "collapsed": true
   },
   "outputs": [],
   "source": [
    "x = np.arange(selected__logreg_params.shape[0])\n",
    "\n",
    "y = selected__logreg_params.mean_test_score.values"
   ]
  },
  {
   "cell_type": "code",
   "execution_count": 212,
   "metadata": {
    "scrolled": false
   },
   "outputs": [
    {
     "data": {
      "text/html": [
       "<style  type=\"text/css\" >\n",
       "    #T_db60ab8c_ba6e_11e8_b8c5_8c8590684ea5 th {\n",
       "          text-align: center;\n",
       "    }    #T_db60ab8c_ba6e_11e8_b8c5_8c8590684ea5row0_col0 {\n",
       "            width:  40em;\n",
       "            text-align:  center;\n",
       "        }    #T_db60ab8c_ba6e_11e8_b8c5_8c8590684ea5row0_col1 {\n",
       "            width:  40em;\n",
       "            text-align:  center;\n",
       "        }    #T_db60ab8c_ba6e_11e8_b8c5_8c8590684ea5row1_col0 {\n",
       "            width:  40em;\n",
       "            text-align:  center;\n",
       "        }    #T_db60ab8c_ba6e_11e8_b8c5_8c8590684ea5row1_col1 {\n",
       "            width:  40em;\n",
       "            text-align:  center;\n",
       "        }    #T_db60ab8c_ba6e_11e8_b8c5_8c8590684ea5row2_col0 {\n",
       "            width:  40em;\n",
       "            text-align:  center;\n",
       "        }    #T_db60ab8c_ba6e_11e8_b8c5_8c8590684ea5row2_col1 {\n",
       "            width:  40em;\n",
       "            text-align:  center;\n",
       "        }    #T_db60ab8c_ba6e_11e8_b8c5_8c8590684ea5row3_col0 {\n",
       "            width:  40em;\n",
       "            text-align:  center;\n",
       "        }    #T_db60ab8c_ba6e_11e8_b8c5_8c8590684ea5row3_col1 {\n",
       "            width:  40em;\n",
       "            text-align:  center;\n",
       "        }    #T_db60ab8c_ba6e_11e8_b8c5_8c8590684ea5row4_col0 {\n",
       "            width:  40em;\n",
       "            text-align:  center;\n",
       "        }    #T_db60ab8c_ba6e_11e8_b8c5_8c8590684ea5row4_col1 {\n",
       "            width:  40em;\n",
       "            text-align:  center;\n",
       "        }</style>  \n",
       "<table id=\"T_db60ab8c_ba6e_11e8_b8c5_8c8590684ea5\" > \n",
       "<thead>    <tr> \n",
       "        <th class=\"blank level0\" ></th> \n",
       "        <th class=\"col_heading level0 col0\" >params</th> \n",
       "        <th class=\"col_heading level0 col1\" >mean_test_score</th> \n",
       "    </tr></thead> \n",
       "<tbody>    <tr> \n",
       "        <th id=\"T_db60ab8c_ba6e_11e8_b8c5_8c8590684ea5level0_row0\" class=\"row_heading level0 row0\" >87</th> \n",
       "        <td id=\"T_db60ab8c_ba6e_11e8_b8c5_8c8590684ea5row0_col0\" class=\"data row0 col0\" >{'logreg__C': 1000.0, 'logreg__class_weight': 'balanced', 'logreg__penalty': 'l2', 'tfidf__max_df': 0.5, 'tfidf__max_features': 10000, 'tfidf__min_df': 2, 'tfidf__ngram_range': (1, 2)}</td> \n",
       "        <td id=\"T_db60ab8c_ba6e_11e8_b8c5_8c8590684ea5row0_col1\" class=\"data row0 col1\" >0.942603</td> \n",
       "    </tr>    <tr> \n",
       "        <th id=\"T_db60ab8c_ba6e_11e8_b8c5_8c8590684ea5level0_row1\" class=\"row_heading level0 row1\" >51</th> \n",
       "        <td id=\"T_db60ab8c_ba6e_11e8_b8c5_8c8590684ea5row1_col0\" class=\"data row1 col0\" >{'logreg__C': 1000.0, 'logreg__class_weight': None, 'logreg__penalty': 'l2', 'tfidf__max_df': 0.7, 'tfidf__max_features': 10000, 'tfidf__min_df': 2, 'tfidf__ngram_range': (1, 2)}</td> \n",
       "        <td id=\"T_db60ab8c_ba6e_11e8_b8c5_8c8590684ea5row1_col1\" class=\"data row1 col1\" >0.937753</td> \n",
       "    </tr>    <tr> \n",
       "        <th id=\"T_db60ab8c_ba6e_11e8_b8c5_8c8590684ea5level0_row2\" class=\"row_heading level0 row2\" >210</th> \n",
       "        <td id=\"T_db60ab8c_ba6e_11e8_b8c5_8c8590684ea5row2_col0\" class=\"data row2 col0\" >{'logreg__C': 10000.0, 'logreg__class_weight': 'balanced', 'logreg__penalty': 'l2', 'tfidf__max_df': 0.7, 'tfidf__max_features': 5000, 'tfidf__min_df': 2, 'tfidf__ngram_range': (1, 2)}</td> \n",
       "        <td id=\"T_db60ab8c_ba6e_11e8_b8c5_8c8590684ea5row2_col1\" class=\"data row2 col1\" >0.936136</td> \n",
       "    </tr>    <tr> \n",
       "        <th id=\"T_db60ab8c_ba6e_11e8_b8c5_8c8590684ea5level0_row3\" class=\"row_heading level0 row3\" >111</th> \n",
       "        <td id=\"T_db60ab8c_ba6e_11e8_b8c5_8c8590684ea5row3_col0\" class=\"data row3 col0\" >{'logreg__C': 10000.0, 'logreg__class_weight': None, 'logreg__penalty': 'l1', 'tfidf__max_df': 0.5, 'tfidf__max_features': 5000, 'tfidf__min_df': 2, 'tfidf__ngram_range': (1, 2)}</td> \n",
       "        <td id=\"T_db60ab8c_ba6e_11e8_b8c5_8c8590684ea5row3_col1\" class=\"data row3 col1\" >0.935327</td> \n",
       "    </tr>    <tr> \n",
       "        <th id=\"T_db60ab8c_ba6e_11e8_b8c5_8c8590684ea5level0_row4\" class=\"row_heading level0 row4\" >36</th> \n",
       "        <td id=\"T_db60ab8c_ba6e_11e8_b8c5_8c8590684ea5row4_col0\" class=\"data row4 col0\" >{'logreg__C': 1000.0, 'logreg__class_weight': None, 'logreg__penalty': 'l2', 'tfidf__max_df': 0.6, 'tfidf__max_features': 1000, 'tfidf__min_df': 2, 'tfidf__ngram_range': (1, 2)}</td> \n",
       "        <td id=\"T_db60ab8c_ba6e_11e8_b8c5_8c8590684ea5row4_col1\" class=\"data row4 col1\" >0.934519</td> \n",
       "    </tr></tbody> \n",
       "</table> "
      ],
      "text/plain": [
       "<pandas.io.formats.style.Styler at 0x10c1914a8>"
      ]
     },
     "execution_count": 212,
     "metadata": {},
     "output_type": "execute_result"
    },
    {
     "data": {
      "image/png": "[encoded data removed]",
      "text/plain": [
       "<matplotlib.figure.Figure at 0x1a1a590198>"
      ]
     },
     "metadata": {},
     "output_type": "display_data"
    }
   ],
   "source": [
    "plt.scatter(x = x, y = y, marker='s', s=100)\n",
    "plt.xticks(x, [87, 51, 210, 111, 36])\n",
    "plt.title('Top GridSearch Combos')\n",
    "plt.xlabel('Index Number')\n",
    "plt.ylabel('Mean Test Score'); \n",
    "\n",
    "df_logreg = selected__logreg_params\n",
    "\n",
    "d = dict(selector=\"th\",\n",
    "    props=[('text-align', 'center')])\n",
    "\n",
    "df_logreg.style.set_properties(**{'width':'40em', 'text-align':'center'})\\\n",
    ".set_table_styles([d])"
   ]
  },
  {
   "cell_type": "markdown",
   "metadata": {},
   "source": [
    "Again, there doesn't appear to be a big change in the mean test score when the different parameters are adjusted.  I might try expanding the upper range of max_df to see if it has any effect on the score."
   ]
  },
  {
   "cell_type": "markdown",
   "metadata": {},
   "source": [
    "#### Pickle Logistic Regression Model"
   ]
  },
  {
   "cell_type": "code",
   "execution_count": 213,
   "metadata": {
    "collapsed": true
   },
   "outputs": [],
   "source": [
    "with open('../Models/gs_logreg.pkl', 'wb+') as f:\n",
    "    pickle.dump(gs_logreg, f)"
   ]
  },
  {
   "cell_type": "markdown",
   "metadata": {},
   "source": [
    "#### Plot the Top 20 Coefficients Post-Vectorization"
   ]
  },
  {
   "cell_type": "code",
   "execution_count": 214,
   "metadata": {},
   "outputs": [
    {
     "data": {
      "text/html": [
       "<div>\n",
       "<style scoped>\n",
       "    .dataframe tbody tr th:only-of-type {\n",
       "        vertical-align: middle;\n",
       "    }\n",
       "\n",
       "    .dataframe tbody tr th {\n",
       "        vertical-align: top;\n",
       "    }\n",
       "\n",
       "    .dataframe thead th {\n",
       "        text-align: right;\n",
       "    }\n",
       "</style>\n",
       "<table border=\"1\" class=\"dataframe\">\n",
       "  <thead>\n",
       "    <tr style=\"text-align: right;\">\n",
       "      <th></th>\n",
       "      <th>0</th>\n",
       "    </tr>\n",
       "  </thead>\n",
       "  <tbody>\n",
       "    <tr>\n",
       "      <th>antenna</th>\n",
       "      <td>16.804436</td>\n",
       "    </tr>\n",
       "    <tr>\n",
       "      <th>tv</th>\n",
       "      <td>14.811928</td>\n",
       "    </tr>\n",
       "    <tr>\n",
       "      <th>cable</th>\n",
       "      <td>12.357769</td>\n",
       "    </tr>\n",
       "    <tr>\n",
       "      <th>roku</th>\n",
       "      <td>11.588804</td>\n",
       "    </tr>\n",
       "    <tr>\n",
       "      <th>directv</th>\n",
       "      <td>11.358209</td>\n",
       "    </tr>\n",
       "  </tbody>\n",
       "</table>\n",
       "</div>"
      ],
      "text/plain": [
       "                 0\n",
       "antenna  16.804436\n",
       "tv       14.811928\n",
       "cable    12.357769\n",
       "roku     11.588804\n",
       "directv  11.358209"
      ]
     },
     "execution_count": 214,
     "metadata": {},
     "output_type": "execute_result"
    }
   ],
   "source": [
    "log_df = pd.DataFrame(gs_logreg.best_estimator_.steps[1][1].coef_,\n",
    "                      columns = gs_logreg.best_estimator_.named_steps.tfidf.get_feature_names())\n",
    "log_df.T.sort_values(0, ascending=False).head()"
   ]
  },
  {
   "cell_type": "code",
   "execution_count": 215,
   "metadata": {
    "collapsed": true,
    "scrolled": true
   },
   "outputs": [],
   "source": [
    "bar = log_df.T.sort_values(0, ascending=False).head(20).rename(columns={0:'Weight'})\n",
    "bar = bar.reset_index().rename(columns={'index':'Word'})"
   ]
  },
  {
   "cell_type": "code",
   "execution_count": 216,
   "metadata": {},
   "outputs": [
    {
     "data": {
      "text/html": [
       "<div>\n",
       "<style scoped>\n",
       "    .dataframe tbody tr th:only-of-type {\n",
       "        vertical-align: middle;\n",
       "    }\n",
       "\n",
       "    .dataframe tbody tr th {\n",
       "        vertical-align: top;\n",
       "    }\n",
       "\n",
       "    .dataframe thead th {\n",
       "        text-align: right;\n",
       "    }\n",
       "</style>\n",
       "<table border=\"1\" class=\"dataframe\">\n",
       "  <thead>\n",
       "    <tr style=\"text-align: right;\">\n",
       "      <th></th>\n",
       "      <th>Word</th>\n",
       "      <th>Weight</th>\n",
       "    </tr>\n",
       "  </thead>\n",
       "  <tbody>\n",
       "    <tr>\n",
       "      <th>0</th>\n",
       "      <td>antenna</td>\n",
       "      <td>16.804436</td>\n",
       "    </tr>\n",
       "    <tr>\n",
       "      <th>1</th>\n",
       "      <td>tv</td>\n",
       "      <td>14.811928</td>\n",
       "    </tr>\n",
       "    <tr>\n",
       "      <th>2</th>\n",
       "      <td>cable</td>\n",
       "      <td>12.357769</td>\n",
       "    </tr>\n",
       "    <tr>\n",
       "      <th>3</th>\n",
       "      <td>roku</td>\n",
       "      <td>11.588804</td>\n",
       "    </tr>\n",
       "    <tr>\n",
       "      <th>4</th>\n",
       "      <td>directv</td>\n",
       "      <td>11.358209</td>\n",
       "    </tr>\n",
       "    <tr>\n",
       "      <th>5</th>\n",
       "      <td>cord</td>\n",
       "      <td>11.173628</td>\n",
       "    </tr>\n",
       "    <tr>\n",
       "      <th>6</th>\n",
       "      <td>service</td>\n",
       "      <td>10.991064</td>\n",
       "    </tr>\n",
       "    <tr>\n",
       "      <th>7</th>\n",
       "      <td>hulu</td>\n",
       "      <td>10.366121</td>\n",
       "    </tr>\n",
       "    <tr>\n",
       "      <th>8</th>\n",
       "      <td>fcc</td>\n",
       "      <td>9.518275</td>\n",
       "    </tr>\n",
       "    <tr>\n",
       "      <th>9</th>\n",
       "      <td>dvr</td>\n",
       "      <td>9.439499</td>\n",
       "    </tr>\n",
       "    <tr>\n",
       "      <th>10</th>\n",
       "      <td>channels</td>\n",
       "      <td>9.309786</td>\n",
       "    </tr>\n",
       "    <tr>\n",
       "      <th>11</th>\n",
       "      <td>netflixs</td>\n",
       "      <td>9.252517</td>\n",
       "    </tr>\n",
       "    <tr>\n",
       "      <th>12</th>\n",
       "      <td>channel</td>\n",
       "      <td>9.152630</td>\n",
       "    </tr>\n",
       "    <tr>\n",
       "      <th>13</th>\n",
       "      <td>chromecast</td>\n",
       "      <td>9.142258</td>\n",
       "    </tr>\n",
       "    <tr>\n",
       "      <th>14</th>\n",
       "      <td>netflix</td>\n",
       "      <td>8.782027</td>\n",
       "    </tr>\n",
       "    <tr>\n",
       "      <th>15</th>\n",
       "      <td>broadband</td>\n",
       "      <td>8.391737</td>\n",
       "    </tr>\n",
       "    <tr>\n",
       "      <th>16</th>\n",
       "      <td>hdhomerun</td>\n",
       "      <td>8.381707</td>\n",
       "    </tr>\n",
       "    <tr>\n",
       "      <th>17</th>\n",
       "      <td>streaming</td>\n",
       "      <td>8.240299</td>\n",
       "    </tr>\n",
       "    <tr>\n",
       "      <th>18</th>\n",
       "      <td>amazon</td>\n",
       "      <td>8.153341</td>\n",
       "    </tr>\n",
       "    <tr>\n",
       "      <th>19</th>\n",
       "      <td>sports</td>\n",
       "      <td>7.943278</td>\n",
       "    </tr>\n",
       "  </tbody>\n",
       "</table>\n",
       "</div>"
      ],
      "text/plain": [
       "          Word     Weight\n",
       "0   antenna     16.804436\n",
       "1   tv          14.811928\n",
       "2   cable       12.357769\n",
       "3   roku        11.588804\n",
       "4   directv     11.358209\n",
       "5   cord        11.173628\n",
       "6   service     10.991064\n",
       "7   hulu        10.366121\n",
       "8   fcc         9.518275 \n",
       "9   dvr         9.439499 \n",
       "10  channels    9.309786 \n",
       "11  netflixs    9.252517 \n",
       "12  channel     9.152630 \n",
       "13  chromecast  9.142258 \n",
       "14  netflix     8.782027 \n",
       "15  broadband   8.391737 \n",
       "16  hdhomerun   8.381707 \n",
       "17  streaming   8.240299 \n",
       "18  amazon      8.153341 \n",
       "19  sports      7.943278 "
      ]
     },
     "execution_count": 216,
     "metadata": {},
     "output_type": "execute_result"
    }
   ],
   "source": [
    "bar"
   ]
  },
  {
   "cell_type": "code",
   "execution_count": 217,
   "metadata": {},
   "outputs": [
    {
     "data": {
      "image/png": "[encoded data removed]",
      "text/plain": [
       "<matplotlib.figure.Figure at 0x1a276c76d8>"
      ]
     },
     "metadata": {},
     "output_type": "display_data"
    }
   ],
   "source": [
    "fig = bar.plot.bar('Word', 'Weight', figsize=(12, 8), legend=False, color='blue')\n",
    "fig.set_xlabel('Word', size=15)\n",
    "plt.xticks(size=12, rotation=45)\n",
    "fig.set_ylabel('Weight', size=15)\n",
    "fig.set_title('Logistic Regression Coefficients Post Vectorization', size=20);\n",
    "plt.tight_layout()"
   ]
  },
  {
   "cell_type": "markdown",
   "metadata": {},
   "source": [
    "#### Interpretation"
   ]
  },
  {
   "cell_type": "markdown",
   "metadata": {},
   "source": [
    "This plot shows the top 20 most positive coefficients of the grid searched logistic regression model.  "
   ]
  },
  {
   "cell_type": "markdown",
   "metadata": {},
   "source": [
    "#### Confusion Matrix for Logistic Regression Model"
   ]
  },
  {
   "cell_type": "markdown",
   "metadata": {},
   "source": [
    "This model performs the best in terms of accuracy and precision.  These scores were most likely helped by the tuning of parameters that we conducted in the gridsearch.   "
   ]
  },
  {
   "cell_type": "code",
   "execution_count": 218,
   "metadata": {
    "collapsed": true
   },
   "outputs": [],
   "source": [
    "y_pred = gs_logreg.best_estimator_.predict(X_test)\n",
    "y_proba = gs_logreg.predict_proba(X_test)"
   ]
  },
  {
   "cell_type": "code",
   "execution_count": 219,
   "metadata": {
    "collapsed": true
   },
   "outputs": [],
   "source": [
    "matrix_def = [['tn','fp'], ['fn','tp']]\n",
    "matrix = confusion_matrix(y_test, y_pred) \n",
    "tn, fp, fn, tp = matrix.ravel()"
   ]
  },
  {
   "cell_type": "code",
   "execution_count": 220,
   "metadata": {},
   "outputs": [
    {
     "name": "stdout",
     "output_type": "stream",
     "text": [
      "Matrix Definition\n",
      "[['tn' 'fp']\n",
      " ['fn' 'tp']]\n",
      "\n",
      "Confusion Matrix\n",
      "[[168  12]\n",
      " [ 16 217]]\n",
      "\n",
      "Accuracy: 0.9322033898305084\n",
      "\n",
      "             precision    recall  f1-score   support\n",
      "\n",
      "          0       0.91      0.93      0.92       180\n",
      "          1       0.95      0.93      0.94       233\n",
      "\n",
      "avg / total       0.93      0.93      0.93       413\n",
      "\n"
     ]
    }
   ],
   "source": [
    "print('Matrix Definition')\n",
    "print(np.array(matrix_def))\n",
    "print('')\n",
    "print('Confusion Matrix') \n",
    "print(matrix)\n",
    "accuracy = (tp+tn)/(tn+fp+fn+tp)\n",
    "precision = tp/(tp+fp)\n",
    "print('')\n",
    "print(f'Accuracy: {accuracy}')\n",
    "print('')\n",
    "print(classification_report(y_test,y_pred))"
   ]
  },
  {
   "cell_type": "markdown",
   "metadata": {},
   "source": [
    "#### Posts Where Y-Test and Y-Pred Don't Match"
   ]
  },
  {
   "cell_type": "markdown",
   "metadata": {},
   "source": [
    "In logistic regression algorithms the predicted values are based off of probability estimates. That is, each observation is given an explicit probability of belonging in each class. I use use predict_proba to see the predicted probabilities for the posts.  I will take some posts that were recorded as false positives and false negatives under this model and I will try to find some patterns that exist."
   ]
  },
  {
   "cell_type": "code",
   "execution_count": 221,
   "metadata": {
    "collapsed": true
   },
   "outputs": [],
   "source": [
    "model_analysis_df = pd.DataFrame(X_test, columns=['Raw Text'])\n",
    "model_analysis_df.reset_index(drop=True, inplace=True)"
   ]
  },
  {
   "cell_type": "code",
   "execution_count": 222,
   "metadata": {
    "collapsed": true,
    "scrolled": true
   },
   "outputs": [],
   "source": [
    "y_proba_df = pd.DataFrame(y_proba)\n",
    "y_proba_df.reset_index(drop=True, inplace=True)"
   ]
  },
  {
   "cell_type": "code",
   "execution_count": 223,
   "metadata": {},
   "outputs": [
    {
     "data": {
      "text/html": [
       "<div>\n",
       "<style scoped>\n",
       "    .dataframe tbody tr th:only-of-type {\n",
       "        vertical-align: middle;\n",
       "    }\n",
       "\n",
       "    .dataframe tbody tr th {\n",
       "        vertical-align: top;\n",
       "    }\n",
       "\n",
       "    .dataframe thead th {\n",
       "        text-align: right;\n",
       "    }\n",
       "</style>\n",
       "<table border=\"1\" class=\"dataframe\">\n",
       "  <thead>\n",
       "    <tr style=\"text-align: right;\">\n",
       "      <th></th>\n",
       "      <th>Raw Text</th>\n",
       "      <th>actual</th>\n",
       "      <th>predicted</th>\n",
       "      <th>probability</th>\n",
       "    </tr>\n",
       "  </thead>\n",
       "  <tbody>\n",
       "    <tr>\n",
       "      <th>0</th>\n",
       "      <td>directv now audio keeps skipping on my fire tv stick picture quality is good so its pretty annoying we have a netgear nighthawkhttps//expressgooglecom/product/mallwestlosangelesampdirectcheckoutamputmsourcegoogleshoppingamputmmediumproductadsamputmcampaigngsxamputmcontentcontrolmax router and im connected to our network via wifi but we have g fiber so wifi shouldnt be an issue right any ideas does the directv now app just suck on fire tv directv now audio quality on fire tv stick</td>\n",
       "      <td>1</td>\n",
       "      <td>1</td>\n",
       "      <td>0.999881</td>\n",
       "    </tr>\n",
       "    <tr>\n",
       "      <th>1</th>\n",
       "      <td>dont know if the files are still safe but when i go to igggames and i click literally anywhere not even an ad and i have ublock on it opens a tab to somewhere and recently it just tried to download something onto my computer automatically whenever id click a link the game it would do the same thing whats more is i tried turning off ublock to see how bad the ads are now and sure it enough it had that fake google popup for allowing notifications from the site with how bad the site is now i dont think its very worth it even if the files are safe edit i made a comment about all this on the contact me page and it says if any problem please call me right on top of the page it was waiting approval went over to check it and i guess it didnt get approved let alone addressed yup i definitely think igggames should be removed from the piracy megathread so igggames is cancer now</td>\n",
       "      <td>0</td>\n",
       "      <td>0</td>\n",
       "      <td>0.000016</td>\n",
       "    </tr>\n",
       "    <tr>\n",
       "      <th>2</th>\n",
       "      <td>as piracy is based around uploading copyrighted content how badly will article  affect us now its passed</td>\n",
       "      <td>0</td>\n",
       "      <td>0</td>\n",
       "      <td>0.004361</td>\n",
       "    </tr>\n",
       "    <tr>\n",
       "      <th>3</th>\n",
       "      <td>was wondering if anyone know any pirated game forums where people play multiplayer and such for pirated games i am about to start divinity original sin  definitive edition but was kinda wanting to play some lone wolf co op i cant just go to the normal forums or reddit lol if i am not allowed to post this on here i will delete thanks in advance  pirated game forums</td>\n",
       "      <td>0</td>\n",
       "      <td>0</td>\n",
       "      <td>0.000366</td>\n",
       "    </tr>\n",
       "    <tr>\n",
       "      <th>4</th>\n",
       "      <td>i read on a post on here that there are keygens for current versions of malwarebytes antimalware is that true is it true that current versions of malwarebytes antimalware still have a current keygen that works</td>\n",
       "      <td>0</td>\n",
       "      <td>0</td>\n",
       "      <td>0.117214</td>\n",
       "    </tr>\n",
       "  </tbody>\n",
       "</table>\n",
       "</div>"
      ],
      "text/plain": [
       "                                                                                                                                                                                                                                                                                                                                                                                                                                                                                                                                                                                                                                                                                                                                                                                                                                                                                                         Raw Text  \\\n",
       "0  directv now audio keeps skipping on my fire tv stick picture quality is good so its pretty annoying we have a netgear nighthawkhttps//expressgooglecom/product/mallwestlosangelesampdirectcheckoutamputmsourcegoogleshoppingamputmmediumproductadsamputmcampaigngsxamputmcontentcontrolmax router and im connected to our network via wifi but we have g fiber so wifi shouldnt be an issue right any ideas does the directv now app just suck on fire tv directv now audio quality on fire tv stick                                                                                                                                                                                                                                                                                                                                                                                                             \n",
       "1  dont know if the files are still safe but when i go to igggames and i click literally anywhere not even an ad and i have ublock on it opens a tab to somewhere and recently it just tried to download something onto my computer automatically whenever id click a link the game it would do the same thing whats more is i tried turning off ublock to see how bad the ads are now and sure it enough it had that fake google popup for allowing notifications from the site with how bad the site is now i dont think its very worth it even if the files are safe edit i made a comment about all this on the contact me page and it says if any problem please call me right on top of the page it was waiting approval went over to check it and i guess it didnt get approved let alone addressed yup i definitely think igggames should be removed from the piracy megathread so igggames is cancer now   \n",
       "2   as piracy is based around uploading copyrighted content how badly will article  affect us now its passed                                                                                                                                                                                                                                                                                                                                                                                                                                                                                                                                                                                                                                                                                                                                                                                                        \n",
       "3  was wondering if anyone know any pirated game forums where people play multiplayer and such for pirated games i am about to start divinity original sin  definitive edition but was kinda wanting to play some lone wolf co op i cant just go to the normal forums or reddit lol if i am not allowed to post this on here i will delete thanks in advance  pirated game forums                                                                                                                                                                                                                                                                                                                                                                                                                                                                                                                                   \n",
       "4  i read on a post on here that there are keygens for current versions of malwarebytes antimalware is that true is it true that current versions of malwarebytes antimalware still have a current keygen that works                                                                                                                                                                                                                                                                                                                                                                                                                                                                                                                                                                                                                                                                                                \n",
       "\n",
       "   actual  predicted  probability  \n",
       "0  1       1          0.999881     \n",
       "1  0       0          0.000016     \n",
       "2  0       0          0.004361     \n",
       "3  0       0          0.000366     \n",
       "4  0       0          0.117214     "
      ]
     },
     "execution_count": 223,
     "metadata": {},
     "output_type": "execute_result"
    }
   ],
   "source": [
    "model_analysis_df['actual'] = list(y_test)\n",
    "model_analysis_df['predicted'] = y_pred\n",
    "model_analysis_df['probability'] = y_proba_df[1]\n",
    "model_analysis_df.head()"
   ]
  },
  {
   "cell_type": "code",
   "execution_count": 224,
   "metadata": {
    "scrolled": true
   },
   "outputs": [
    {
     "data": {
      "text/html": [
       "<div>\n",
       "<style scoped>\n",
       "    .dataframe tbody tr th:only-of-type {\n",
       "        vertical-align: middle;\n",
       "    }\n",
       "\n",
       "    .dataframe tbody tr th {\n",
       "        vertical-align: top;\n",
       "    }\n",
       "\n",
       "    .dataframe thead th {\n",
       "        text-align: right;\n",
       "    }\n",
       "</style>\n",
       "<table border=\"1\" class=\"dataframe\">\n",
       "  <thead>\n",
       "    <tr style=\"text-align: right;\">\n",
       "      <th></th>\n",
       "      <th>Raw Text</th>\n",
       "      <th>actual</th>\n",
       "      <th>predicted</th>\n",
       "      <th>probability</th>\n",
       "    </tr>\n",
       "  </thead>\n",
       "  <tbody>\n",
       "    <tr>\n",
       "      <th>303</th>\n",
       "      <td>do all rippers of amazon/netflix video use screen capture or is there something to intercept the stream direct</td>\n",
       "      <td>0</td>\n",
       "      <td>1</td>\n",
       "      <td>0.988677</td>\n",
       "    </tr>\n",
       "    <tr>\n",
       "      <th>383</th>\n",
       "      <td>looking to watch the canelo vs triple g fight tomorrow night but ill be out of town so ill have to watch it on my phone any suggestions  any good places to watch ppv boxing on iphone</td>\n",
       "      <td>0</td>\n",
       "      <td>1</td>\n",
       "      <td>0.952065</td>\n",
       "    </tr>\n",
       "    <tr>\n",
       "      <th>189</th>\n",
       "      <td>hey guys i have a shield tv and im wondering if theres a good app i can use to stream nfl games this year and other sports  thanks best sports app for shield tv</td>\n",
       "      <td>0</td>\n",
       "      <td>1</td>\n",
       "      <td>0.942532</td>\n",
       "    </tr>\n",
       "    <tr>\n",
       "      <th>112</th>\n",
       "      <td>is there any way to be able to stream off of sites like gomovies from my phone to my chromecast without getting into trouble would i need a vpn on just my phone or also on my home wifi not sure what a good method would be  how can i stay safe streaming via chromecast from phone</td>\n",
       "      <td>0</td>\n",
       "      <td>1</td>\n",
       "      <td>0.883672</td>\n",
       "    </tr>\n",
       "    <tr>\n",
       "      <th>246</th>\n",
       "      <td>how can i watch condensed games</td>\n",
       "      <td>0</td>\n",
       "      <td>1</td>\n",
       "      <td>0.799275</td>\n",
       "    </tr>\n",
       "  </tbody>\n",
       "</table>\n",
       "</div>"
      ],
      "text/plain": [
       "                                                                                                                                                                                                                                                                                   Raw Text  \\\n",
       "303   do all rippers of amazon/netflix video use screen capture or is there something to intercept the stream direct                                                                                                                                                                          \n",
       "383  looking to watch the canelo vs triple g fight tomorrow night but ill be out of town so ill have to watch it on my phone any suggestions  any good places to watch ppv boxing on iphone                                                                                                   \n",
       "189  hey guys i have a shield tv and im wondering if theres a good app i can use to stream nfl games this year and other sports  thanks best sports app for shield tv                                                                                                                         \n",
       "112  is there any way to be able to stream off of sites like gomovies from my phone to my chromecast without getting into trouble would i need a vpn on just my phone or also on my home wifi not sure what a good method would be  how can i stay safe streaming via chromecast from phone   \n",
       "246   how can i watch condensed games                                                                                                                                                                                                                                                         \n",
       "\n",
       "     actual  predicted  probability  \n",
       "303  0       1          0.988677     \n",
       "383  0       1          0.952065     \n",
       "189  0       1          0.942532     \n",
       "112  0       1          0.883672     \n",
       "246  0       1          0.799275     "
      ]
     },
     "execution_count": 224,
     "metadata": {},
     "output_type": "execute_result"
    }
   ],
   "source": [
    "false_pos = model_analysis_df.loc[(model_analysis_df['actual'] < model_analysis_df['predicted'])] \\\n",
    ".sort_values('probability', ascending=False)\n",
    "false_pos.head()"
   ]
  },
  {
   "cell_type": "code",
   "execution_count": 225,
   "metadata": {
    "scrolled": false
   },
   "outputs": [
    {
     "data": {
      "text/html": [
       "<div>\n",
       "<style scoped>\n",
       "    .dataframe tbody tr th:only-of-type {\n",
       "        vertical-align: middle;\n",
       "    }\n",
       "\n",
       "    .dataframe tbody tr th {\n",
       "        vertical-align: top;\n",
       "    }\n",
       "\n",
       "    .dataframe thead th {\n",
       "        text-align: right;\n",
       "    }\n",
       "</style>\n",
       "<table border=\"1\" class=\"dataframe\">\n",
       "  <thead>\n",
       "    <tr style=\"text-align: right;\">\n",
       "      <th></th>\n",
       "      <th>Raw Text</th>\n",
       "      <th>actual</th>\n",
       "      <th>predicted</th>\n",
       "      <th>probability</th>\n",
       "    </tr>\n",
       "  </thead>\n",
       "  <tbody>\n",
       "    <tr>\n",
       "      <th>326</th>\n",
       "      <td>why google fiber is highspeed internets most successful failure</td>\n",
       "      <td>1</td>\n",
       "      <td>0</td>\n",
       "      <td>0.453003</td>\n",
       "    </tr>\n",
       "    <tr>\n",
       "      <th>239</th>\n",
       "      <td>looking for suggestion for a setup that would best address two homes primary residence and summer home</td>\n",
       "      <td>1</td>\n",
       "      <td>0</td>\n",
       "      <td>0.420593</td>\n",
       "    </tr>\n",
       "    <tr>\n",
       "      <th>391</th>\n",
       "      <td>twentytwo states ask us appeals court to reinstate net neutrality rules</td>\n",
       "      <td>1</td>\n",
       "      <td>0</td>\n",
       "      <td>0.343050</td>\n",
       "    </tr>\n",
       "    <tr>\n",
       "      <th>226</th>\n",
       "      <td>tsunami of data could consume one fifth of global electricity by   environment</td>\n",
       "      <td>1</td>\n",
       "      <td>0</td>\n",
       "      <td>0.338044</td>\n",
       "    </tr>\n",
       "    <tr>\n",
       "      <th>62</th>\n",
       "      <td>trump administration tells supreme court to wipe out decision upholding net neutrality</td>\n",
       "      <td>1</td>\n",
       "      <td>0</td>\n",
       "      <td>0.310185</td>\n",
       "    </tr>\n",
       "  </tbody>\n",
       "</table>\n",
       "</div>"
      ],
      "text/plain": [
       "                                                                                                    Raw Text  \\\n",
       "326   why google fiber is highspeed internets most successful failure                                          \n",
       "239   looking for suggestion for a setup that would best address two homes primary residence and summer home   \n",
       "391   twentytwo states ask us appeals court to reinstate net neutrality rules                                  \n",
       "226   tsunami of data could consume one fifth of global electricity by   environment                           \n",
       "62    trump administration tells supreme court to wipe out decision upholding net neutrality                   \n",
       "\n",
       "     actual  predicted  probability  \n",
       "326  1       0          0.453003     \n",
       "239  1       0          0.420593     \n",
       "391  1       0          0.343050     \n",
       "226  1       0          0.338044     \n",
       "62   1       0          0.310185     "
      ]
     },
     "execution_count": 225,
     "metadata": {},
     "output_type": "execute_result"
    }
   ],
   "source": [
    "false_neg = model_analysis_df.loc[(model_analysis_df['actual'] > model_analysis_df['predicted'])] \\\n",
    ".sort_values('probability', ascending=False)\n",
    "false_neg.head()"
   ]
  },
  {
   "cell_type": "code",
   "execution_count": 226,
   "metadata": {
    "scrolled": true
   },
   "outputs": [
    {
     "name": "stdout",
     "output_type": "stream",
     "text": [
      "1  do all rippers of amazon/netflix video use screen capture or is there something to intercept the stream direct\n",
      "2 looking to watch the canelo vs triple g fight tomorrow night but ill be out of town so ill have to watch it on my phone any suggestions  any good places to watch ppv boxing on iphone\n",
      "3 hey guys i have a shield tv and im wondering if theres a good app i can use to stream nfl games this year and other sports  thanks best sports app for shield tv\n",
      "4 is there any way to be able to stream off of sites like gomovies from my phone to my chromecast without getting into trouble would i need a vpn on just my phone or also on my home wifi not sure what a good method would be  how can i stay safe streaming via chromecast from phone\n",
      "5  how can i watch condensed games\n"
     ]
    }
   ],
   "source": [
    "for i, value in enumerate(list(false_pos.loc[:,'Raw Text'].head())):\n",
    "    print(i+1, value)"
   ]
  },
  {
   "cell_type": "markdown",
   "metadata": {},
   "source": [
    "#### Interpretation"
   ]
  },
  {
   "cell_type": "markdown",
   "metadata": {
    "collapsed": true
   },
   "source": [
    "In reading the top five posts that were recorded as false positives there are a number of words that would help explain why the algorithm misclassified these posts as cordcutters posts when they are in fact piracy posts.  Words like **netflix, stream, app, phone, sports, sites, games, websites, watch, tv shows, internet, just, use, want** are present in these posts and these were words that were featured in the post-vectorization top-20 lists and the statistically significant list that I calculated.  It is surprising that some of these posts were falsely predicted at such a high probability, but there were only four posts that were misclassified at a probability of over 80% so I think don't think it discounts the accuracy of this model."
   ]
  },
  {
   "cell_type": "code",
   "execution_count": 274,
   "metadata": {
    "scrolled": true
   },
   "outputs": [
    {
     "name": "stdout",
     "output_type": "stream",
     "text": [
      "1  why google fiber is highspeed internets most successful failure\n",
      "2  looking for suggestion for a setup that would best address two homes primary residence and summer home\n",
      "3  twentytwo states ask us appeals court to reinstate net neutrality rules\n",
      "4  tsunami of data could consume one fifth of global electricity by   environment\n",
      "5  trump administration tells supreme court to wipe out decision upholding net neutrality\n"
     ]
    }
   ],
   "source": [
    "for i, value in enumerate(list(false_neg.loc[:,'Raw Text'].head())):\n",
    "    print(i+1, value)"
   ]
  },
  {
   "cell_type": "markdown",
   "metadata": {},
   "source": [
    "#### Interpretation"
   ]
  },
  {
   "cell_type": "markdown",
   "metadata": {
    "collapsed": true
   },
   "source": [
    "These are the top five posts that were classified as piracy posts but were actually cordcutter posts.  These posts contain a number of words indicative of the top piracy features or statistically significant words, such as **google, internet, successful, net, data**.  Given that the top five false negative posts were predicted with a probabilty in the 30-45% range it is understandable that they would share a number of characteristics with piracy posts and could be misclassified as such."
   ]
  },
  {
   "cell_type": "markdown",
   "metadata": {},
   "source": [
    "#### ROC Score for Logistic Regression Model"
   ]
  },
  {
   "cell_type": "markdown",
   "metadata": {},
   "source": [
    "This model has a ROC-AUC score that is just slightly lower than the Multinomial NB model's, but it is still very high. "
   ]
  },
  {
   "cell_type": "code",
   "execution_count": 228,
   "metadata": {
    "collapsed": true,
    "scrolled": true
   },
   "outputs": [],
   "source": [
    "fpr, tpr, threshold = roc_curve(y_test, gs_logreg.predict_proba(X_test)[:, 1])"
   ]
  },
  {
   "cell_type": "code",
   "execution_count": 229,
   "metadata": {},
   "outputs": [
    {
     "data": {
      "image/png": "[encoded data removed]",
      "text/plain": [
       "<matplotlib.figure.Figure at 0x1a1a68e0b8>"
      ]
     },
     "metadata": {},
     "output_type": "display_data"
    }
   ],
   "source": [
    "plt.figure()\n",
    "plt.plot(fpr, tpr)\n",
    "plt.plot([0, 1], ls=\"--\")\n",
    "\n",
    "plt.title('ROC Curve')\n",
    "plt.xlabel('False Positive Rate')\n",
    "plt.ylabel('True Positive Rate');"
   ]
  },
  {
   "cell_type": "code",
   "execution_count": 230,
   "metadata": {},
   "outputs": [
    {
     "data": {
      "text/plain": [
       "0.983381020505484"
      ]
     },
     "execution_count": 230,
     "metadata": {},
     "output_type": "execute_result"
    }
   ],
   "source": [
    "roc_auc_score(y_test, gs_logreg.predict_proba(X_test)[:, 1])"
   ]
  },
  {
   "cell_type": "markdown",
   "metadata": {
    "collapsed": true
   },
   "source": [
    "## TFIDF Vectorizer with Random Forest Classifier "
   ]
  },
  {
   "cell_type": "markdown",
   "metadata": {},
   "source": [
    "Random Forest builds an ensemble of decision trees.  Instead of searching for the most important feature while splitting a node, Random Forest searches for the best feature among a random subset of features and each node only considers a subset of features when determining the best split.\n",
    "\n",
    "The n_estimators parameter sets the number of decision trees to include in the forest. When using random forest we are effectively training many decision tree models, so it is often useful to use all available cores by setting n_jobs=-1.  Leaf is the end node of a decision tree. A smaller leaf makes the model more prone to capturing noise in train data. The min_samples_split represents the minimum number of data points placed in a node before the node is split.  I tried the class_weight parameter again to address my slightly unbalanced classes."
   ]
  },
  {
   "cell_type": "code",
   "execution_count": 232,
   "metadata": {
    "collapsed": true
   },
   "outputs": [],
   "source": [
    "pipe = Pipeline([\n",
    "    ('tfidf', TfidfVectorizer(stop_words=stop_word_list)),\n",
    "    ('rf', RandomForestClassifier())])"
   ]
  },
  {
   "cell_type": "code",
   "execution_count": 233,
   "metadata": {
    "collapsed": true
   },
   "outputs": [],
   "source": [
    "params = {\n",
    "    'tfidf__max_features': [1000, 2000],\n",
    "    'tfidf__max_df': [0.5, 0.6, 0.7],\n",
    "    'tfidf__min_df': [2,3,4],\n",
    "    'tfidf__ngram_range': [(1,2)],\n",
    "    'rf__n_estimators': [50, 100],\n",
    "    'rf__n_jobs': [1],\n",
    "    'rf__min_samples_split': [2, 10, 20],\n",
    "    'rf__min_samples_leaf': [10, 20],\n",
    "    'rf__class_weight': [None, 'balanced']\n",
    "}"
   ]
  },
  {
   "cell_type": "code",
   "execution_count": 234,
   "metadata": {
    "collapsed": true
   },
   "outputs": [],
   "source": [
    "gs_rf = GridSearchCV(pipe, param_grid=params, cv=3)"
   ]
  },
  {
   "cell_type": "code",
   "execution_count": 235,
   "metadata": {
    "collapsed": true
   },
   "outputs": [],
   "source": [
    "gs_rf.fit(X_train, y_train);"
   ]
  },
  {
   "cell_type": "code",
   "execution_count": 236,
   "metadata": {},
   "outputs": [
    {
     "data": {
      "text/plain": [
       "(0.9070331447049312, 0.8861985472154964)"
      ]
     },
     "execution_count": 236,
     "metadata": {},
     "output_type": "execute_result"
    }
   ],
   "source": [
    "gs_rf.score(X_train, y_train), gs_rf.score(X_test, y_test)"
   ]
  },
  {
   "cell_type": "code",
   "execution_count": 237,
   "metadata": {
    "scrolled": false
   },
   "outputs": [
    {
     "data": {
      "text/plain": [
       "{'rf__class_weight': None,\n",
       " 'rf__min_samples_leaf': 10,\n",
       " 'rf__min_samples_split': 2,\n",
       " 'rf__n_estimators': 50,\n",
       " 'rf__n_jobs': 1,\n",
       " 'tfidf__max_df': 0.5,\n",
       " 'tfidf__max_features': 1000,\n",
       " 'tfidf__min_df': 2,\n",
       " 'tfidf__ngram_range': (1, 2)}"
      ]
     },
     "execution_count": 237,
     "metadata": {},
     "output_type": "execute_result"
    }
   ],
   "source": [
    "gs_rf.best_params_ "
   ]
  },
  {
   "cell_type": "markdown",
   "metadata": {},
   "source": [
    "#### Plot the Top Five Gridsearch Parameter Combinations"
   ]
  },
  {
   "cell_type": "code",
   "execution_count": 249,
   "metadata": {},
   "outputs": [
    {
     "data": {
      "text/html": [
       "<div>\n",
       "<style scoped>\n",
       "    .dataframe tbody tr th:only-of-type {\n",
       "        vertical-align: middle;\n",
       "    }\n",
       "\n",
       "    .dataframe tbody tr th {\n",
       "        vertical-align: top;\n",
       "    }\n",
       "\n",
       "    .dataframe thead th {\n",
       "        text-align: right;\n",
       "    }\n",
       "</style>\n",
       "<table border=\"1\" class=\"dataframe\">\n",
       "  <thead>\n",
       "    <tr style=\"text-align: right;\">\n",
       "      <th></th>\n",
       "      <th>params</th>\n",
       "    </tr>\n",
       "    <tr>\n",
       "      <th>mean_test_score</th>\n",
       "      <th></th>\n",
       "    </tr>\n",
       "  </thead>\n",
       "  <tbody>\n",
       "    <tr>\n",
       "      <th>0.888440</th>\n",
       "      <td>1</td>\n",
       "    </tr>\n",
       "    <tr>\n",
       "      <th>0.883589</th>\n",
       "      <td>1</td>\n",
       "    </tr>\n",
       "    <tr>\n",
       "      <th>0.881973</th>\n",
       "      <td>1</td>\n",
       "    </tr>\n",
       "    <tr>\n",
       "      <th>0.881164</th>\n",
       "      <td>2</td>\n",
       "    </tr>\n",
       "    <tr>\n",
       "      <th>0.880356</th>\n",
       "      <td>2</td>\n",
       "    </tr>\n",
       "  </tbody>\n",
       "</table>\n",
       "</div>"
      ],
      "text/plain": [
       "                 params\n",
       "mean_test_score        \n",
       "0.888440         1     \n",
       "0.883589         1     \n",
       "0.881973         1     \n",
       "0.881164         2     \n",
       "0.880356         2     "
      ]
     },
     "execution_count": 249,
     "metadata": {},
     "output_type": "execute_result"
    }
   ],
   "source": [
    "selected__rf_params = pd.DataFrame(gs_rf.cv_results_).loc[:, ['params', 'mean_test_score']] \\\n",
    ".groupby('mean_test_score').count().sort_values('mean_test_score', ascending=False)\n",
    "selected__rf_params.head()"
   ]
  },
  {
   "cell_type": "markdown",
   "metadata": {},
   "source": [
    "There are a number of combinations that yield the same score, so I will pick one from each."
   ]
  },
  {
   "cell_type": "code",
   "execution_count": 250,
   "metadata": {},
   "outputs": [],
   "source": [
    "selected__rf_params = pd.DataFrame(gs_rf.cv_results_) \\\n",
    ".loc[:,['params', 'mean_test_score']].sort_values('mean_test_score', ascending=False)"
   ]
  },
  {
   "cell_type": "code",
   "execution_count": 251,
   "metadata": {},
   "outputs": [
    {
     "data": {
      "text/html": [
       "<div>\n",
       "<style scoped>\n",
       "    .dataframe tbody tr th:only-of-type {\n",
       "        vertical-align: middle;\n",
       "    }\n",
       "\n",
       "    .dataframe tbody tr th {\n",
       "        vertical-align: top;\n",
       "    }\n",
       "\n",
       "    .dataframe thead th {\n",
       "        text-align: right;\n",
       "    }\n",
       "</style>\n",
       "<table border=\"1\" class=\"dataframe\">\n",
       "  <thead>\n",
       "    <tr style=\"text-align: right;\">\n",
       "      <th></th>\n",
       "      <th>params</th>\n",
       "      <th>mean_test_score</th>\n",
       "    </tr>\n",
       "  </thead>\n",
       "  <tbody>\n",
       "    <tr>\n",
       "      <th>0</th>\n",
       "      <td>{'rf__class_weight': None, 'rf__min_samples_leaf': 10, 'rf__min_samples_split': 2, 'rf__n_estimators': 50, 'rf__n_jobs': 1, 'tfidf__max_df': 0.5, 'tfidf__max_features': 1000, 'tfidf__min_df': 2, 'tfidf__ngram_range': (1, 2)}</td>\n",
       "      <td>0.888440</td>\n",
       "    </tr>\n",
       "    <tr>\n",
       "      <th>20</th>\n",
       "      <td>{'rf__class_weight': None, 'rf__min_samples_leaf': 10, 'rf__min_samples_split': 2, 'rf__n_estimators': 100, 'rf__n_jobs': 1, 'tfidf__max_df': 0.5, 'tfidf__max_features': 1000, 'tfidf__min_df': 4, 'tfidf__ngram_range': (1, 2)}</td>\n",
       "      <td>0.883589</td>\n",
       "    </tr>\n",
       "    <tr>\n",
       "      <th>103</th>\n",
       "      <td>{'rf__class_weight': None, 'rf__min_samples_leaf': 10, 'rf__min_samples_split': 20, 'rf__n_estimators': 100, 'rf__n_jobs': 1, 'tfidf__max_df': 0.7, 'tfidf__max_features': 1000, 'tfidf__min_df': 3, 'tfidf__ngram_range': (1, 2)}</td>\n",
       "      <td>0.881973</td>\n",
       "    </tr>\n",
       "    <tr>\n",
       "      <th>55</th>\n",
       "      <td>{'rf__class_weight': None, 'rf__min_samples_leaf': 10, 'rf__min_samples_split': 10, 'rf__n_estimators': 100, 'rf__n_jobs': 1, 'tfidf__max_df': 0.5, 'tfidf__max_features': 1000, 'tfidf__min_df': 3, 'tfidf__ngram_range': (1, 2)}</td>\n",
       "      <td>0.881164</td>\n",
       "    </tr>\n",
       "    <tr>\n",
       "      <th>36</th>\n",
       "      <td>{'rf__class_weight': None, 'rf__min_samples_leaf': 10, 'rf__min_samples_split': 10, 'rf__n_estimators': 50, 'rf__n_jobs': 1, 'tfidf__max_df': 0.5, 'tfidf__max_features': 1000, 'tfidf__min_df': 2, 'tfidf__ngram_range': (1, 2)}</td>\n",
       "      <td>0.880356</td>\n",
       "    </tr>\n",
       "  </tbody>\n",
       "</table>\n",
       "</div>"
      ],
      "text/plain": [
       "                                                                                                                                                                                                                                 params  \\\n",
       "0    {'rf__class_weight': None, 'rf__min_samples_leaf': 10, 'rf__min_samples_split': 2, 'rf__n_estimators': 50, 'rf__n_jobs': 1, 'tfidf__max_df': 0.5, 'tfidf__max_features': 1000, 'tfidf__min_df': 2, 'tfidf__ngram_range': (1, 2)}     \n",
       "20   {'rf__class_weight': None, 'rf__min_samples_leaf': 10, 'rf__min_samples_split': 2, 'rf__n_estimators': 100, 'rf__n_jobs': 1, 'tfidf__max_df': 0.5, 'tfidf__max_features': 1000, 'tfidf__min_df': 4, 'tfidf__ngram_range': (1, 2)}    \n",
       "103  {'rf__class_weight': None, 'rf__min_samples_leaf': 10, 'rf__min_samples_split': 20, 'rf__n_estimators': 100, 'rf__n_jobs': 1, 'tfidf__max_df': 0.7, 'tfidf__max_features': 1000, 'tfidf__min_df': 3, 'tfidf__ngram_range': (1, 2)}   \n",
       "55   {'rf__class_weight': None, 'rf__min_samples_leaf': 10, 'rf__min_samples_split': 10, 'rf__n_estimators': 100, 'rf__n_jobs': 1, 'tfidf__max_df': 0.5, 'tfidf__max_features': 1000, 'tfidf__min_df': 3, 'tfidf__ngram_range': (1, 2)}   \n",
       "36   {'rf__class_weight': None, 'rf__min_samples_leaf': 10, 'rf__min_samples_split': 10, 'rf__n_estimators': 50, 'rf__n_jobs': 1, 'tfidf__max_df': 0.5, 'tfidf__max_features': 1000, 'tfidf__min_df': 2, 'tfidf__ngram_range': (1, 2)}    \n",
       "\n",
       "     mean_test_score  \n",
       "0    0.888440         \n",
       "20   0.883589         \n",
       "103  0.881973         \n",
       "55   0.881164         \n",
       "36   0.880356         "
      ]
     },
     "execution_count": 251,
     "metadata": {},
     "output_type": "execute_result"
    }
   ],
   "source": [
    "selected__rf_params = pd.DataFrame(gs_rf.cv_results_) \\\n",
    ".loc[[0, 20, 103, 55, 36],['params', 'mean_test_score']].sort_values('mean_test_score', ascending=False)\n",
    "selected__rf_params.head()"
   ]
  },
  {
   "cell_type": "code",
   "execution_count": 252,
   "metadata": {},
   "outputs": [],
   "source": [
    "x = np.arange(selected__rf_params.shape[0])\n",
    "\n",
    "y = selected__rf_params.mean_test_score.values"
   ]
  },
  {
   "cell_type": "code",
   "execution_count": 253,
   "metadata": {},
   "outputs": [
    {
     "data": {
      "text/html": [
       "<style  type=\"text/css\" >\n",
       "    #T_93723734_ba71_11e8_b668_8c8590684ea5 th {\n",
       "          text-align: center;\n",
       "    }    #T_93723734_ba71_11e8_b668_8c8590684ea5row0_col0 {\n",
       "            width:  40em;\n",
       "            text-align:  center;\n",
       "        }    #T_93723734_ba71_11e8_b668_8c8590684ea5row0_col1 {\n",
       "            width:  40em;\n",
       "            text-align:  center;\n",
       "        }    #T_93723734_ba71_11e8_b668_8c8590684ea5row1_col0 {\n",
       "            width:  40em;\n",
       "            text-align:  center;\n",
       "        }    #T_93723734_ba71_11e8_b668_8c8590684ea5row1_col1 {\n",
       "            width:  40em;\n",
       "            text-align:  center;\n",
       "        }    #T_93723734_ba71_11e8_b668_8c8590684ea5row2_col0 {\n",
       "            width:  40em;\n",
       "            text-align:  center;\n",
       "        }    #T_93723734_ba71_11e8_b668_8c8590684ea5row2_col1 {\n",
       "            width:  40em;\n",
       "            text-align:  center;\n",
       "        }    #T_93723734_ba71_11e8_b668_8c8590684ea5row3_col0 {\n",
       "            width:  40em;\n",
       "            text-align:  center;\n",
       "        }    #T_93723734_ba71_11e8_b668_8c8590684ea5row3_col1 {\n",
       "            width:  40em;\n",
       "            text-align:  center;\n",
       "        }    #T_93723734_ba71_11e8_b668_8c8590684ea5row4_col0 {\n",
       "            width:  40em;\n",
       "            text-align:  center;\n",
       "        }    #T_93723734_ba71_11e8_b668_8c8590684ea5row4_col1 {\n",
       "            width:  40em;\n",
       "            text-align:  center;\n",
       "        }</style>  \n",
       "<table id=\"T_93723734_ba71_11e8_b668_8c8590684ea5\" > \n",
       "<thead>    <tr> \n",
       "        <th class=\"blank level0\" ></th> \n",
       "        <th class=\"col_heading level0 col0\" >params</th> \n",
       "        <th class=\"col_heading level0 col1\" >mean_test_score</th> \n",
       "    </tr></thead> \n",
       "<tbody>    <tr> \n",
       "        <th id=\"T_93723734_ba71_11e8_b668_8c8590684ea5level0_row0\" class=\"row_heading level0 row0\" >0</th> \n",
       "        <td id=\"T_93723734_ba71_11e8_b668_8c8590684ea5row0_col0\" class=\"data row0 col0\" >{'rf__class_weight': None, 'rf__min_samples_leaf': 10, 'rf__min_samples_split': 2, 'rf__n_estimators': 50, 'rf__n_jobs': 1, 'tfidf__max_df': 0.5, 'tfidf__max_features': 1000, 'tfidf__min_df': 2, 'tfidf__ngram_range': (1, 2)}</td> \n",
       "        <td id=\"T_93723734_ba71_11e8_b668_8c8590684ea5row0_col1\" class=\"data row0 col1\" >0.88844</td> \n",
       "    </tr>    <tr> \n",
       "        <th id=\"T_93723734_ba71_11e8_b668_8c8590684ea5level0_row1\" class=\"row_heading level0 row1\" >20</th> \n",
       "        <td id=\"T_93723734_ba71_11e8_b668_8c8590684ea5row1_col0\" class=\"data row1 col0\" >{'rf__class_weight': None, 'rf__min_samples_leaf': 10, 'rf__min_samples_split': 2, 'rf__n_estimators': 100, 'rf__n_jobs': 1, 'tfidf__max_df': 0.5, 'tfidf__max_features': 1000, 'tfidf__min_df': 4, 'tfidf__ngram_range': (1, 2)}</td> \n",
       "        <td id=\"T_93723734_ba71_11e8_b668_8c8590684ea5row1_col1\" class=\"data row1 col1\" >0.883589</td> \n",
       "    </tr>    <tr> \n",
       "        <th id=\"T_93723734_ba71_11e8_b668_8c8590684ea5level0_row2\" class=\"row_heading level0 row2\" >103</th> \n",
       "        <td id=\"T_93723734_ba71_11e8_b668_8c8590684ea5row2_col0\" class=\"data row2 col0\" >{'rf__class_weight': None, 'rf__min_samples_leaf': 10, 'rf__min_samples_split': 20, 'rf__n_estimators': 100, 'rf__n_jobs': 1, 'tfidf__max_df': 0.7, 'tfidf__max_features': 1000, 'tfidf__min_df': 3, 'tfidf__ngram_range': (1, 2)}</td> \n",
       "        <td id=\"T_93723734_ba71_11e8_b668_8c8590684ea5row2_col1\" class=\"data row2 col1\" >0.881973</td> \n",
       "    </tr>    <tr> \n",
       "        <th id=\"T_93723734_ba71_11e8_b668_8c8590684ea5level0_row3\" class=\"row_heading level0 row3\" >55</th> \n",
       "        <td id=\"T_93723734_ba71_11e8_b668_8c8590684ea5row3_col0\" class=\"data row3 col0\" >{'rf__class_weight': None, 'rf__min_samples_leaf': 10, 'rf__min_samples_split': 10, 'rf__n_estimators': 100, 'rf__n_jobs': 1, 'tfidf__max_df': 0.5, 'tfidf__max_features': 1000, 'tfidf__min_df': 3, 'tfidf__ngram_range': (1, 2)}</td> \n",
       "        <td id=\"T_93723734_ba71_11e8_b668_8c8590684ea5row3_col1\" class=\"data row3 col1\" >0.881164</td> \n",
       "    </tr>    <tr> \n",
       "        <th id=\"T_93723734_ba71_11e8_b668_8c8590684ea5level0_row4\" class=\"row_heading level0 row4\" >36</th> \n",
       "        <td id=\"T_93723734_ba71_11e8_b668_8c8590684ea5row4_col0\" class=\"data row4 col0\" >{'rf__class_weight': None, 'rf__min_samples_leaf': 10, 'rf__min_samples_split': 10, 'rf__n_estimators': 50, 'rf__n_jobs': 1, 'tfidf__max_df': 0.5, 'tfidf__max_features': 1000, 'tfidf__min_df': 2, 'tfidf__ngram_range': (1, 2)}</td> \n",
       "        <td id=\"T_93723734_ba71_11e8_b668_8c8590684ea5row4_col1\" class=\"data row4 col1\" >0.880356</td> \n",
       "    </tr></tbody> \n",
       "</table> "
      ],
      "text/plain": [
       "<pandas.io.formats.style.Styler at 0x1a1ebd75c0>"
      ]
     },
     "execution_count": 253,
     "metadata": {},
     "output_type": "execute_result"
    },
    {
     "data": {
      "image/png": "[encoded data removed]",
      "text/plain": [
       "<matplotlib.figure.Figure at 0x1a2b3a30f0>"
      ]
     },
     "metadata": {},
     "output_type": "display_data"
    }
   ],
   "source": [
    "plt.scatter(x = x, y = y, marker='s', s=100)\n",
    "plt.xticks(x, [0, 20, 103, 55, 36])\n",
    "plt.title('Top GridSearch Combos')\n",
    "plt.xlabel('Index Number')\n",
    "plt.ylabel('Mean Test Score'); \n",
    "\n",
    "df_rf = selected__rf_params\n",
    "\n",
    "d = dict(selector=\"th\",\n",
    "    props=[('text-align', 'center')])\n",
    "\n",
    "df_rf.style.set_properties(**{'width':'40em', 'text-align':'center'})\\\n",
    ".set_table_styles([d])"
   ]
  },
  {
   "cell_type": "markdown",
   "metadata": {},
   "source": [
    "There is a good amount of variation in the parameters of the top mean test scores and it is difficult to determine whether one parameter is affecting the score more than others. "
   ]
  },
  {
   "cell_type": "markdown",
   "metadata": {},
   "source": [
    "#### Pickle Random Forest Classifier"
   ]
  },
  {
   "cell_type": "code",
   "execution_count": 254,
   "metadata": {
    "collapsed": true
   },
   "outputs": [],
   "source": [
    "with open('../Models/gs_rt.pkl', 'wb+') as f:\n",
    "    pickle.dump(gs_rf, f)"
   ]
  },
  {
   "cell_type": "markdown",
   "metadata": {},
   "source": [
    "#### Confusion Matrix for Random Forest Classifier"
   ]
  },
  {
   "cell_type": "code",
   "execution_count": 255,
   "metadata": {
    "collapsed": true
   },
   "outputs": [],
   "source": [
    "y_pred = gs_rf.best_estimator_.predict(X_test)"
   ]
  },
  {
   "cell_type": "code",
   "execution_count": 256,
   "metadata": {
    "collapsed": true
   },
   "outputs": [],
   "source": [
    "matrix_def = [['tn','fp'], ['fn','tp']]\n",
    "matrix = confusion_matrix(y_test, y_pred) \n",
    "tn, fp, fn, tp = matrix.ravel()"
   ]
  },
  {
   "cell_type": "code",
   "execution_count": 257,
   "metadata": {
    "scrolled": true
   },
   "outputs": [
    {
     "name": "stdout",
     "output_type": "stream",
     "text": [
      "Matrix Definition\n",
      "[['tn' 'fp']\n",
      " ['fn' 'tp']]\n",
      "\n",
      "Confusion Matrix\n",
      "[[143  37]\n",
      " [ 10 223]]\n",
      "\n",
      "Accuracy: 0.8861985472154964\n",
      "\n",
      "             precision    recall  f1-score   support\n",
      "\n",
      "          0       0.93      0.79      0.86       180\n",
      "          1       0.86      0.96      0.90       233\n",
      "\n",
      "avg / total       0.89      0.89      0.88       413\n",
      "\n"
     ]
    }
   ],
   "source": [
    "print('Matrix Definition')\n",
    "print(np.array(matrix_def))\n",
    "print('')\n",
    "print('Confusion Matrix') \n",
    "print(matrix)\n",
    "accuracy = (tp+tn)/(tn+fp+fn+tp)\n",
    "precision = tp/(tp+fp)\n",
    "print('')\n",
    "print(f'Accuracy: {accuracy}')\n",
    "print('')\n",
    "print(classification_report(y_test,y_pred))"
   ]
  },
  {
   "cell_type": "markdown",
   "metadata": {},
   "source": [
    "#### ROC Score for Random Forest Classifier"
   ]
  },
  {
   "cell_type": "code",
   "execution_count": 258,
   "metadata": {
    "collapsed": true
   },
   "outputs": [],
   "source": [
    "fpr, tpr, threshold = roc_curve(y_test, gs_rf.predict_proba(X_test)[:, 1])"
   ]
  },
  {
   "cell_type": "code",
   "execution_count": 259,
   "metadata": {
    "scrolled": true
   },
   "outputs": [
    {
     "data": {
      "image/png": "[encoded data removed]",
      "text/plain": [
       "<matplotlib.figure.Figure at 0x1a1efb2dd8>"
      ]
     },
     "metadata": {},
     "output_type": "display_data"
    }
   ],
   "source": [
    "plt.figure()\n",
    "plt.plot(fpr, tpr)\n",
    "plt.plot([0, 1], ls=\"--\")\n",
    "\n",
    "plt.title('ROC Curve')\n",
    "plt.xlabel('False Positive Rate')\n",
    "plt.ylabel('True Positive Rate');"
   ]
  },
  {
   "cell_type": "code",
   "execution_count": 260,
   "metadata": {
    "scrolled": true
   },
   "outputs": [
    {
     "data": {
      "text/plain": [
       "0.9593228421554602"
      ]
     },
     "execution_count": 260,
     "metadata": {},
     "output_type": "execute_result"
    }
   ],
   "source": [
    "roc_auc_score(y_test, gs_rf.predict_proba(X_test)[:, 1])"
   ]
  },
  {
   "cell_type": "markdown",
   "metadata": {},
   "source": [
    "## TFIDF Vectorizer Decision Tree Classifier"
   ]
  },
  {
   "cell_type": "markdown",
   "metadata": {},
   "source": [
    "A decision tree divides the data set into smaller data sets until reaching a small enough set that contains data points that fall under one class. A partition is considered to be pure once all data of a specific class exists in it.  The min_samples_split represents the minimum number of samples required to split an internal node and the min_samples_leaf represents the minimum number of samples required to be at a leaf node."
   ]
  },
  {
   "cell_type": "code",
   "execution_count": 261,
   "metadata": {
    "collapsed": true
   },
   "outputs": [],
   "source": [
    "pipe = Pipeline([\n",
    "    ('tfidf', TfidfVectorizer(stop_words=stop_word_list)),\n",
    "    ('dt', DecisionTreeClassifier())])"
   ]
  },
  {
   "cell_type": "code",
   "execution_count": 262,
   "metadata": {
    "collapsed": true
   },
   "outputs": [],
   "source": [
    "params = {\n",
    "    'tfidf__max_features': [1000, 2000],\n",
    "    'tfidf__max_df': [0.5, 0.6, 0.7],\n",
    "    'tfidf__min_df': [2,3,4],\n",
    "    'tfidf__ngram_range': [(1,2)],\n",
    "    'dt__min_samples_split': [10, 20],\n",
    "    'dt__min_samples_leaf': [5, 10],\n",
    "    'dt__class_weight': [None, 'balanced']\n",
    "}"
   ]
  },
  {
   "cell_type": "code",
   "execution_count": 263,
   "metadata": {
    "collapsed": true
   },
   "outputs": [],
   "source": [
    "gs_dt = GridSearchCV(pipe, param_grid=params, cv=3)"
   ]
  },
  {
   "cell_type": "code",
   "execution_count": 264,
   "metadata": {
    "collapsed": true
   },
   "outputs": [],
   "source": [
    "gs_dt.fit(X_train, y_train);"
   ]
  },
  {
   "cell_type": "code",
   "execution_count": 265,
   "metadata": {},
   "outputs": [
    {
     "data": {
      "text/plain": [
       "(0.9070331447049312, 0.8087167070217918)"
      ]
     },
     "execution_count": 265,
     "metadata": {},
     "output_type": "execute_result"
    }
   ],
   "source": [
    "gs_dt.score(X_train, y_train), gs_dt.score(X_test, y_test)"
   ]
  },
  {
   "cell_type": "code",
   "execution_count": 266,
   "metadata": {},
   "outputs": [
    {
     "data": {
      "text/plain": [
       "{'dt__class_weight': None,\n",
       " 'dt__min_samples_leaf': 5,\n",
       " 'dt__min_samples_split': 20,\n",
       " 'tfidf__max_df': 0.5,\n",
       " 'tfidf__max_features': 2000,\n",
       " 'tfidf__min_df': 3,\n",
       " 'tfidf__ngram_range': (1, 2)}"
      ]
     },
     "execution_count": 266,
     "metadata": {},
     "output_type": "execute_result"
    }
   ],
   "source": [
    "gs_dt.best_params_ "
   ]
  },
  {
   "cell_type": "markdown",
   "metadata": {},
   "source": [
    "#### Pickle Decision Tree Classifier"
   ]
  },
  {
   "cell_type": "code",
   "execution_count": 267,
   "metadata": {
    "collapsed": true
   },
   "outputs": [],
   "source": [
    "with open('../Models/gs_dt.pkl', 'wb+') as f:\n",
    "    pickle.dump(gs_dt, f)"
   ]
  },
  {
   "cell_type": "markdown",
   "metadata": {
    "collapsed": true
   },
   "source": [
    "#### Confusion Matrix for Decision Tree Classifier"
   ]
  },
  {
   "cell_type": "markdown",
   "metadata": {},
   "source": [
    "The accuracy and precision scores are worse under this model than the logistic and multinomial NB models.  Due to the decision tree's tendency to overfit, it tends to not produce great results if the training data is somewhat different thant the scoring data.  "
   ]
  },
  {
   "cell_type": "code",
   "execution_count": 268,
   "metadata": {
    "collapsed": true
   },
   "outputs": [],
   "source": [
    "y_pred = gs_dt.best_estimator_.predict(X_test)"
   ]
  },
  {
   "cell_type": "code",
   "execution_count": 269,
   "metadata": {
    "collapsed": true
   },
   "outputs": [],
   "source": [
    "matrix_def = [['tn','fp'], ['fn','tp']]\n",
    "matrix = confusion_matrix(y_test, y_pred) \n",
    "tn, fp, fn, tp = matrix.ravel()"
   ]
  },
  {
   "cell_type": "code",
   "execution_count": 270,
   "metadata": {},
   "outputs": [
    {
     "name": "stdout",
     "output_type": "stream",
     "text": [
      "Matrix Definition\n",
      "[['tn' 'fp']\n",
      " ['fn' 'tp']]\n",
      "\n",
      "Confusion Matrix\n",
      "[[139  41]\n",
      " [ 38 195]]\n",
      "\n",
      "Accuracy: 0.8087167070217918\n",
      "\n",
      "             precision    recall  f1-score   support\n",
      "\n",
      "          0       0.79      0.77      0.78       180\n",
      "          1       0.83      0.84      0.83       233\n",
      "\n",
      "avg / total       0.81      0.81      0.81       413\n",
      "\n"
     ]
    }
   ],
   "source": [
    "print('Matrix Definition')\n",
    "print(np.array(matrix_def))\n",
    "print('')\n",
    "print('Confusion Matrix') \n",
    "print(matrix)\n",
    "accuracy = (tp+tn)/(tn+fp+fn+tp)\n",
    "precision = tp/(tp+fp)\n",
    "print('')\n",
    "print(f'Accuracy: {accuracy}')\n",
    "print('')\n",
    "print(classification_report(y_test,y_pred))"
   ]
  },
  {
   "cell_type": "markdown",
   "metadata": {},
   "source": [
    "#### ROC Score for Decision Tree Classifier"
   ]
  },
  {
   "cell_type": "code",
   "execution_count": 271,
   "metadata": {
    "collapsed": true
   },
   "outputs": [],
   "source": [
    "fpr, tpr, threshold = roc_curve(y_test, gs_dt.predict_proba(X_test)[:, 1])"
   ]
  },
  {
   "cell_type": "code",
   "execution_count": 272,
   "metadata": {},
   "outputs": [
    {
     "data": {
      "image/png": "[encoded data removed]",
      "text/plain": [
       "<matplotlib.figure.Figure at 0x1a1fcdb278>"
      ]
     },
     "metadata": {},
     "output_type": "display_data"
    }
   ],
   "source": [
    "plt.figure()\n",
    "plt.plot(fpr, tpr)\n",
    "plt.plot([0, 1], ls=\"--\")\n",
    "\n",
    "plt.title('ROC Curve')\n",
    "plt.xlabel('False Positive Rate')\n",
    "plt.ylabel('True Positive Rate');"
   ]
  },
  {
   "cell_type": "code",
   "execution_count": 273,
   "metadata": {},
   "outputs": [
    {
     "data": {
      "text/plain": [
       "0.8945398187887459"
      ]
     },
     "execution_count": 273,
     "metadata": {},
     "output_type": "execute_result"
    }
   ],
   "source": [
    "roc_auc_score(y_test, gs_dt.predict_proba(X_test)[:, 1])"
   ]
  },
  {
   "cell_type": "markdown",
   "metadata": {},
   "source": [
    "# <center>Scores Table</center>"
   ]
  },
  {
   "cell_type": "markdown",
   "metadata": {},
   "source": [
    "<center>Model</center>                   |<center>Accuracy</center>   |<center>ROC AUC</center>\n",
    ":--------------------------------------- |--------------|-------------|------------------------\n",
    "Multinomial Naives Bayes</center>        |<center>0.939</center>      |<center>0.988</center>\n",
    "Logistic Regression</center>             |<center>0.932</center>      |<center>0.983</center> \n",
    "Random Forest</center>                   |<center>0.886</center>      |<center>0.959</center>\n",
    "Decision Tree</center>                   |<center>0.809</center>      |<center>0.895</center>"
   ]
  }
 ],
 "metadata": {
  "kernelspec": {
   "display_name": "Python 3",
   "language": "python",
   "name": "python3"
  },
  "language_info": {
   "codemirror_mode": {
    "name": "ipython",
    "version": 3
   },
   "file_extension": ".py",
   "mimetype": "text/x-python",
   "name": "python",
   "nbconvert_exporter": "python",
   "pygments_lexer": "ipython3",
   "version": "3.6.6"
  }
 },
 "nbformat": 4,
 "nbformat_minor": 2
}
