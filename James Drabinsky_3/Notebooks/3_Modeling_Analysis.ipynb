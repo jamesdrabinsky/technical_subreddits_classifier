{
 "cells": [
  {
   "cell_type": "markdown",
   "metadata": {},
   "source": [
    "## Import Modules"
   ]
  },
  {
   "cell_type": "code",
   "execution_count": 1,
   "metadata": {
    "collapsed": true
   },
   "outputs": [],
   "source": [
    "from sklearn.model_selection import train_test_split, GridSearchCV\n",
    "from sklearn.pipeline import Pipeline\n",
    "from sklearn.preprocessing import StandardScaler, MinMaxScaler\n",
    "from sklearn.linear_model import LogisticRegression\n",
    "from sklearn.naive_bayes import MultinomialNB, BernoulliNB\n",
    "from sklearn.tree import DecisionTreeClassifier\n",
    "from sklearn.svm import SVC\n",
    "from sklearn.ensemble import RandomForestClassifier, BaggingClassifier, AdaBoostClassifier, GradientBoostingClassifier\n",
    "from sklearn.metrics import accuracy_score, confusion_matrix, roc_auc_score, roc_curve\n",
    "from sklearn.feature_extraction.text import TfidfVectorizer\n",
    "import pandas as pd\n",
    "import numpy as np\n",
    "import random\n",
    "import matplotlib.pyplot as plt\n",
    "import seaborn as sns\n",
    "from imblearn.over_sampling import RandomOverSampler\n",
    "import pickle\n",
    "\n",
    "%matplotlib inline\n",
    "plt.style.use('fivethirtyeight')\n",
    "\n",
    "np.random.seed(42)"
   ]
  },
  {
   "cell_type": "markdown",
   "metadata": {},
   "source": [
    "## Load Clean DataFrame"
   ]
  },
  {
   "cell_type": "code",
   "execution_count": 2,
   "metadata": {
    "collapsed": true
   },
   "outputs": [],
   "source": [
    "with open('./Data/clean_df.pkl', 'rb') as f:\n",
    "    df = pickle.load(f)"
   ]
  },
  {
   "cell_type": "markdown",
   "metadata": {},
   "source": [
    "## Import Stopword List"
   ]
  },
  {
   "cell_type": "code",
   "execution_count": 3,
   "metadata": {
    "collapsed": true
   },
   "outputs": [],
   "source": [
    "with open('./Data/stop_word_list.pkl', 'rb') as f:\n",
    "    stop_word_list = pickle.load(f)"
   ]
  },
  {
   "cell_type": "markdown",
   "metadata": {},
   "source": [
    "## Set Up X and y Variables and Train Test Split"
   ]
  },
  {
   "cell_type": "code",
   "execution_count": 4,
   "metadata": {
    "collapsed": true
   },
   "outputs": [],
   "source": [
    "X = df['selftext'] + \" \" + df['title']\n",
    "y = list(df['label'])"
   ]
  },
  {
   "cell_type": "code",
   "execution_count": 5,
   "metadata": {
    "collapsed": true
   },
   "outputs": [],
   "source": [
    "X_train, X_test, y_train, y_test = train_test_split(X,y, stratify=y, random_state=42)"
   ]
  },
  {
   "cell_type": "markdown",
   "metadata": {},
   "source": [
    "## TFIDF Vectorizer with Multinomial Naive Bayes Model"
   ]
  },
  {
   "cell_type": "markdown",
   "metadata": {
    "collapsed": true
   },
   "source": [
    "The Naive Bayes classifier assumes that the value of a particular feature is independent of the value of any other feature.  The Multinomial Naive Baytes model is used when the columns of your X are integer counts but it can also work with fractional counts such as tf-idf."
   ]
  },
  {
   "cell_type": "code",
   "execution_count": 6,
   "metadata": {
    "collapsed": true
   },
   "outputs": [],
   "source": [
    "pipe = Pipeline([\n",
    "    ('tfidf', TfidfVectorizer(stop_words=stop_word_list)),\n",
    "    ('model', MultinomialNB())])"
   ]
  },
  {
   "cell_type": "code",
   "execution_count": 7,
   "metadata": {
    "collapsed": true
   },
   "outputs": [],
   "source": [
    "params = {\n",
    "    'tfidf__max_features': [1000],\n",
    "    'tfidf__max_df': [0.6],\n",
    "    'tfidf__min_df': [3],\n",
    "    'tfidf__ngram_range': [(1,2)]\n",
    "}"
   ]
  },
  {
   "cell_type": "code",
   "execution_count": 8,
   "metadata": {
    "collapsed": true
   },
   "outputs": [],
   "source": [
    "gs_multi = GridSearchCV(pipe, param_grid=params, cv=3)"
   ]
  },
  {
   "cell_type": "code",
   "execution_count": 9,
   "metadata": {
    "collapsed": true
   },
   "outputs": [],
   "source": [
    "gs_multi.fit(X_train, y_train);"
   ]
  },
  {
   "cell_type": "code",
   "execution_count": 10,
   "metadata": {},
   "outputs": [
    {
     "data": {
      "text/plain": [
       "(0.9600340136054422, 0.9338422391857506)"
      ]
     },
     "execution_count": 10,
     "metadata": {},
     "output_type": "execute_result"
    }
   ],
   "source": [
    "gs_multi.score(X_train, y_train), gs_multi.score(X_test, y_test)"
   ]
  },
  {
   "cell_type": "code",
   "execution_count": 11,
   "metadata": {},
   "outputs": [
    {
     "data": {
      "text/plain": [
       "{'tfidf__max_df': 0.6,\n",
       " 'tfidf__max_features': 1000,\n",
       " 'tfidf__min_df': 3,\n",
       " 'tfidf__ngram_range': (1, 2)}"
      ]
     },
     "execution_count": 11,
     "metadata": {},
     "output_type": "execute_result"
    }
   ],
   "source": [
    "gs_multi.best_params_ "
   ]
  },
  {
   "cell_type": "markdown",
   "metadata": {},
   "source": [
    "#### Pickle Multinomial Naives Bayes Model"
   ]
  },
  {
   "cell_type": "code",
   "execution_count": 12,
   "metadata": {
    "collapsed": true
   },
   "outputs": [],
   "source": [
    "with open('./Models/gs_multi.pkl', 'wb+') as f:\n",
    "    pickle.dump(gs_multi, f)"
   ]
  },
  {
   "cell_type": "markdown",
   "metadata": {},
   "source": [
    "#### Plot the Top 20 Words Post-Vectorization"
   ]
  },
  {
   "cell_type": "code",
   "execution_count": 13,
   "metadata": {},
   "outputs": [
    {
     "data": {
      "text/html": [
       "<div>\n",
       "<style scoped>\n",
       "    .dataframe tbody tr th:only-of-type {\n",
       "        vertical-align: middle;\n",
       "    }\n",
       "\n",
       "    .dataframe tbody tr th {\n",
       "        vertical-align: top;\n",
       "    }\n",
       "\n",
       "    .dataframe thead th {\n",
       "        text-align: right;\n",
       "    }\n",
       "</style>\n",
       "<table border=\"1\" class=\"dataframe\">\n",
       "  <thead>\n",
       "    <tr style=\"text-align: right;\">\n",
       "      <th></th>\n",
       "      <th>abc</th>\n",
       "      <th>able</th>\n",
       "      <th>able watch</th>\n",
       "      <th>access</th>\n",
       "      <th>account</th>\n",
       "      <th>accounts</th>\n",
       "      <th>activate</th>\n",
       "      <th>actually</th>\n",
       "      <th>add</th>\n",
       "      <th>adding</th>\n",
       "      <th>...</th>\n",
       "      <th>xfinity</th>\n",
       "      <th>year</th>\n",
       "      <th>years</th>\n",
       "      <th>years ago</th>\n",
       "      <th>yes</th>\n",
       "      <th>yesterday</th>\n",
       "      <th>youtube</th>\n",
       "      <th>youtube tv</th>\n",
       "      <th>youtubetv</th>\n",
       "      <th>yttv</th>\n",
       "    </tr>\n",
       "  </thead>\n",
       "  <tbody>\n",
       "    <tr>\n",
       "      <th>0</th>\n",
       "      <td>0.0</td>\n",
       "      <td>0.0</td>\n",
       "      <td>0.0</td>\n",
       "      <td>0.0</td>\n",
       "      <td>0.0</td>\n",
       "      <td>0.0</td>\n",
       "      <td>0.0</td>\n",
       "      <td>0.0</td>\n",
       "      <td>0.0</td>\n",
       "      <td>0.0</td>\n",
       "      <td>...</td>\n",
       "      <td>0.0</td>\n",
       "      <td>0.0</td>\n",
       "      <td>0.0</td>\n",
       "      <td>0.0</td>\n",
       "      <td>0.0</td>\n",
       "      <td>0.0</td>\n",
       "      <td>0.0</td>\n",
       "      <td>0.0</td>\n",
       "      <td>0.0</td>\n",
       "      <td>0.0</td>\n",
       "    </tr>\n",
       "    <tr>\n",
       "      <th>1</th>\n",
       "      <td>0.0</td>\n",
       "      <td>0.0</td>\n",
       "      <td>0.0</td>\n",
       "      <td>0.0</td>\n",
       "      <td>0.0</td>\n",
       "      <td>0.0</td>\n",
       "      <td>0.0</td>\n",
       "      <td>0.0</td>\n",
       "      <td>0.0</td>\n",
       "      <td>0.0</td>\n",
       "      <td>...</td>\n",
       "      <td>0.0</td>\n",
       "      <td>0.0</td>\n",
       "      <td>0.0</td>\n",
       "      <td>0.0</td>\n",
       "      <td>0.0</td>\n",
       "      <td>0.0</td>\n",
       "      <td>0.0</td>\n",
       "      <td>0.0</td>\n",
       "      <td>0.0</td>\n",
       "      <td>0.0</td>\n",
       "    </tr>\n",
       "    <tr>\n",
       "      <th>2</th>\n",
       "      <td>0.0</td>\n",
       "      <td>0.0</td>\n",
       "      <td>0.0</td>\n",
       "      <td>0.0</td>\n",
       "      <td>0.0</td>\n",
       "      <td>0.0</td>\n",
       "      <td>0.0</td>\n",
       "      <td>0.0</td>\n",
       "      <td>0.0</td>\n",
       "      <td>0.0</td>\n",
       "      <td>...</td>\n",
       "      <td>0.0</td>\n",
       "      <td>0.0</td>\n",
       "      <td>0.0</td>\n",
       "      <td>0.0</td>\n",
       "      <td>0.0</td>\n",
       "      <td>0.0</td>\n",
       "      <td>0.0</td>\n",
       "      <td>0.0</td>\n",
       "      <td>0.0</td>\n",
       "      <td>0.0</td>\n",
       "    </tr>\n",
       "    <tr>\n",
       "      <th>3</th>\n",
       "      <td>0.0</td>\n",
       "      <td>0.0</td>\n",
       "      <td>0.0</td>\n",
       "      <td>0.0</td>\n",
       "      <td>0.0</td>\n",
       "      <td>0.0</td>\n",
       "      <td>0.0</td>\n",
       "      <td>0.0</td>\n",
       "      <td>0.0</td>\n",
       "      <td>0.0</td>\n",
       "      <td>...</td>\n",
       "      <td>0.0</td>\n",
       "      <td>0.0</td>\n",
       "      <td>0.0</td>\n",
       "      <td>0.0</td>\n",
       "      <td>0.0</td>\n",
       "      <td>0.0</td>\n",
       "      <td>0.0</td>\n",
       "      <td>0.0</td>\n",
       "      <td>0.0</td>\n",
       "      <td>0.0</td>\n",
       "    </tr>\n",
       "    <tr>\n",
       "      <th>4</th>\n",
       "      <td>0.0</td>\n",
       "      <td>0.0</td>\n",
       "      <td>0.0</td>\n",
       "      <td>0.0</td>\n",
       "      <td>0.0</td>\n",
       "      <td>0.0</td>\n",
       "      <td>0.0</td>\n",
       "      <td>0.0</td>\n",
       "      <td>0.0</td>\n",
       "      <td>0.0</td>\n",
       "      <td>...</td>\n",
       "      <td>0.0</td>\n",
       "      <td>0.0</td>\n",
       "      <td>0.0</td>\n",
       "      <td>0.0</td>\n",
       "      <td>0.0</td>\n",
       "      <td>0.0</td>\n",
       "      <td>0.0</td>\n",
       "      <td>0.0</td>\n",
       "      <td>0.0</td>\n",
       "      <td>0.0</td>\n",
       "    </tr>\n",
       "  </tbody>\n",
       "</table>\n",
       "<p>5 rows × 1000 columns</p>\n",
       "</div>"
      ],
      "text/plain": [
       "   abc  able  able watch  access  account  accounts  activate  actually  add  \\\n",
       "0  0.0   0.0         0.0     0.0      0.0       0.0       0.0       0.0  0.0   \n",
       "1  0.0   0.0         0.0     0.0      0.0       0.0       0.0       0.0  0.0   \n",
       "2  0.0   0.0         0.0     0.0      0.0       0.0       0.0       0.0  0.0   \n",
       "3  0.0   0.0         0.0     0.0      0.0       0.0       0.0       0.0  0.0   \n",
       "4  0.0   0.0         0.0     0.0      0.0       0.0       0.0       0.0  0.0   \n",
       "\n",
       "   adding  ...   xfinity  year  years  years ago  yes  yesterday  youtube  \\\n",
       "0     0.0  ...       0.0   0.0    0.0        0.0  0.0        0.0      0.0   \n",
       "1     0.0  ...       0.0   0.0    0.0        0.0  0.0        0.0      0.0   \n",
       "2     0.0  ...       0.0   0.0    0.0        0.0  0.0        0.0      0.0   \n",
       "3     0.0  ...       0.0   0.0    0.0        0.0  0.0        0.0      0.0   \n",
       "4     0.0  ...       0.0   0.0    0.0        0.0  0.0        0.0      0.0   \n",
       "\n",
       "   youtube tv  youtubetv  yttv  \n",
       "0         0.0        0.0   0.0  \n",
       "1         0.0        0.0   0.0  \n",
       "2         0.0        0.0   0.0  \n",
       "3         0.0        0.0   0.0  \n",
       "4         0.0        0.0   0.0  \n",
       "\n",
       "[5 rows x 1000 columns]"
      ]
     },
     "execution_count": 13,
     "metadata": {},
     "output_type": "execute_result"
    }
   ],
   "source": [
    "sparse_data = gs_multi.best_estimator_.named_steps.tfidf.transform(X_train).toarray()\n",
    "sparse_columns = gs_multi.best_estimator_.named_steps.tfidf.get_feature_names()\n",
    "\n",
    "df_tfidf = pd.SparseDataFrame(data = sparse_data, \n",
    "                               columns = sparse_columns, \n",
    "                               default_fill_value=0)\n",
    "\n",
    "df_tfidf.head()"
   ]
  },
  {
   "cell_type": "code",
   "execution_count": 14,
   "metadata": {},
   "outputs": [
    {
     "data": {
      "text/html": [
       "<div>\n",
       "<style scoped>\n",
       "    .dataframe tbody tr th:only-of-type {\n",
       "        vertical-align: middle;\n",
       "    }\n",
       "\n",
       "    .dataframe tbody tr th {\n",
       "        vertical-align: top;\n",
       "    }\n",
       "\n",
       "    .dataframe thead th {\n",
       "        text-align: right;\n",
       "    }\n",
       "</style>\n",
       "<table border=\"1\" class=\"dataframe\">\n",
       "  <thead>\n",
       "    <tr style=\"text-align: right;\">\n",
       "      <th></th>\n",
       "      <th>abc</th>\n",
       "      <th>able</th>\n",
       "      <th>able watch</th>\n",
       "      <th>access</th>\n",
       "      <th>account</th>\n",
       "      <th>accounts</th>\n",
       "      <th>activate</th>\n",
       "      <th>actually</th>\n",
       "      <th>add</th>\n",
       "      <th>adding</th>\n",
       "      <th>...</th>\n",
       "      <th>year</th>\n",
       "      <th>years</th>\n",
       "      <th>years ago</th>\n",
       "      <th>yes</th>\n",
       "      <th>yesterday</th>\n",
       "      <th>youtube</th>\n",
       "      <th>youtube tv</th>\n",
       "      <th>youtubetv</th>\n",
       "      <th>yttv</th>\n",
       "      <th>0</th>\n",
       "    </tr>\n",
       "  </thead>\n",
       "  <tbody>\n",
       "    <tr>\n",
       "      <th>0</th>\n",
       "      <td>0.0</td>\n",
       "      <td>0.0</td>\n",
       "      <td>0.0</td>\n",
       "      <td>0.0</td>\n",
       "      <td>0.0</td>\n",
       "      <td>0.0</td>\n",
       "      <td>0.0</td>\n",
       "      <td>0.0</td>\n",
       "      <td>0.0</td>\n",
       "      <td>0.0</td>\n",
       "      <td>...</td>\n",
       "      <td>0.0</td>\n",
       "      <td>0.0</td>\n",
       "      <td>0.0</td>\n",
       "      <td>0.0</td>\n",
       "      <td>0.0</td>\n",
       "      <td>0.0</td>\n",
       "      <td>0.0</td>\n",
       "      <td>0.0</td>\n",
       "      <td>0.0</td>\n",
       "      <td>1.0</td>\n",
       "    </tr>\n",
       "    <tr>\n",
       "      <th>1</th>\n",
       "      <td>0.0</td>\n",
       "      <td>0.0</td>\n",
       "      <td>0.0</td>\n",
       "      <td>0.0</td>\n",
       "      <td>0.0</td>\n",
       "      <td>0.0</td>\n",
       "      <td>0.0</td>\n",
       "      <td>0.0</td>\n",
       "      <td>0.0</td>\n",
       "      <td>0.0</td>\n",
       "      <td>...</td>\n",
       "      <td>0.0</td>\n",
       "      <td>0.0</td>\n",
       "      <td>0.0</td>\n",
       "      <td>0.0</td>\n",
       "      <td>0.0</td>\n",
       "      <td>0.0</td>\n",
       "      <td>0.0</td>\n",
       "      <td>0.0</td>\n",
       "      <td>0.0</td>\n",
       "      <td>0.0</td>\n",
       "    </tr>\n",
       "    <tr>\n",
       "      <th>2</th>\n",
       "      <td>0.0</td>\n",
       "      <td>0.0</td>\n",
       "      <td>0.0</td>\n",
       "      <td>0.0</td>\n",
       "      <td>0.0</td>\n",
       "      <td>0.0</td>\n",
       "      <td>0.0</td>\n",
       "      <td>0.0</td>\n",
       "      <td>0.0</td>\n",
       "      <td>0.0</td>\n",
       "      <td>...</td>\n",
       "      <td>0.0</td>\n",
       "      <td>0.0</td>\n",
       "      <td>0.0</td>\n",
       "      <td>0.0</td>\n",
       "      <td>0.0</td>\n",
       "      <td>0.0</td>\n",
       "      <td>0.0</td>\n",
       "      <td>0.0</td>\n",
       "      <td>0.0</td>\n",
       "      <td>1.0</td>\n",
       "    </tr>\n",
       "    <tr>\n",
       "      <th>3</th>\n",
       "      <td>0.0</td>\n",
       "      <td>0.0</td>\n",
       "      <td>0.0</td>\n",
       "      <td>0.0</td>\n",
       "      <td>0.0</td>\n",
       "      <td>0.0</td>\n",
       "      <td>0.0</td>\n",
       "      <td>0.0</td>\n",
       "      <td>0.0</td>\n",
       "      <td>0.0</td>\n",
       "      <td>...</td>\n",
       "      <td>0.0</td>\n",
       "      <td>0.0</td>\n",
       "      <td>0.0</td>\n",
       "      <td>0.0</td>\n",
       "      <td>0.0</td>\n",
       "      <td>0.0</td>\n",
       "      <td>0.0</td>\n",
       "      <td>0.0</td>\n",
       "      <td>0.0</td>\n",
       "      <td>0.0</td>\n",
       "    </tr>\n",
       "    <tr>\n",
       "      <th>4</th>\n",
       "      <td>0.0</td>\n",
       "      <td>0.0</td>\n",
       "      <td>0.0</td>\n",
       "      <td>0.0</td>\n",
       "      <td>0.0</td>\n",
       "      <td>0.0</td>\n",
       "      <td>0.0</td>\n",
       "      <td>0.0</td>\n",
       "      <td>0.0</td>\n",
       "      <td>0.0</td>\n",
       "      <td>...</td>\n",
       "      <td>0.0</td>\n",
       "      <td>0.0</td>\n",
       "      <td>0.0</td>\n",
       "      <td>0.0</td>\n",
       "      <td>0.0</td>\n",
       "      <td>0.0</td>\n",
       "      <td>0.0</td>\n",
       "      <td>0.0</td>\n",
       "      <td>0.0</td>\n",
       "      <td>1.0</td>\n",
       "    </tr>\n",
       "  </tbody>\n",
       "</table>\n",
       "<p>5 rows × 1001 columns</p>\n",
       "</div>"
      ],
      "text/plain": [
       "   abc  able  able watch  access  account  accounts  activate  actually  add  \\\n",
       "0  0.0   0.0         0.0     0.0      0.0       0.0       0.0       0.0  0.0   \n",
       "1  0.0   0.0         0.0     0.0      0.0       0.0       0.0       0.0  0.0   \n",
       "2  0.0   0.0         0.0     0.0      0.0       0.0       0.0       0.0  0.0   \n",
       "3  0.0   0.0         0.0     0.0      0.0       0.0       0.0       0.0  0.0   \n",
       "4  0.0   0.0         0.0     0.0      0.0       0.0       0.0       0.0  0.0   \n",
       "\n",
       "   adding ...   year  years  years ago  yes  yesterday  youtube  youtube tv  \\\n",
       "0     0.0 ...    0.0    0.0        0.0  0.0        0.0      0.0         0.0   \n",
       "1     0.0 ...    0.0    0.0        0.0  0.0        0.0      0.0         0.0   \n",
       "2     0.0 ...    0.0    0.0        0.0  0.0        0.0      0.0         0.0   \n",
       "3     0.0 ...    0.0    0.0        0.0  0.0        0.0      0.0         0.0   \n",
       "4     0.0 ...    0.0    0.0        0.0  0.0        0.0      0.0         0.0   \n",
       "\n",
       "   youtubetv  yttv    0  \n",
       "0        0.0   0.0  1.0  \n",
       "1        0.0   0.0  0.0  \n",
       "2        0.0   0.0  1.0  \n",
       "3        0.0   0.0  0.0  \n",
       "4        0.0   0.0  1.0  \n",
       "\n",
       "[5 rows x 1001 columns]"
      ]
     },
     "execution_count": 14,
     "metadata": {},
     "output_type": "execute_result"
    }
   ],
   "source": [
    "df_tfidf = df_tfidf.join(pd.DataFrame(y_test))\n",
    "df_tfidf.head()\n",
    "#Could use this as visual"
   ]
  },
  {
   "cell_type": "code",
   "execution_count": 15,
   "metadata": {
    "collapsed": true
   },
   "outputs": [],
   "source": [
    "df_tfidf.rename(columns = {0: 'ytest'}, inplace=True)\n",
    "df_tfidf = df_tfidf.groupby('ytest').mean().T\n",
    "df_tfidf.columns = ['Piracy', 'Cordcutters']\n",
    "df_tfidf = df_tfidf.iloc[:,::-1]"
   ]
  },
  {
   "cell_type": "code",
   "execution_count": 16,
   "metadata": {
    "scrolled": true
   },
   "outputs": [
    {
     "data": {
      "image/png": "[encoded data removed]",
      "text/plain": [
       "<matplotlib.figure.Figure at 0x1a1aed6b38>"
      ]
     },
     "metadata": {},
     "output_type": "display_data"
    }
   ],
   "source": [
    "cc_tfidf_plot = df_tfidf.sort_values('Cordcutters', ascending=False)[:20]\n",
    "piracy_tfidf_plot = df_tfidf.sort_values('Piracy', ascending=False)[:20]\n",
    "\n",
    "figure, ax = plt.subplots(nrows = 2, ncols = 1, figsize = (12,15))\n",
    "ax[0].set_xlabel('Words')\n",
    "ax[1].set_xlabel('Words')\n",
    "ax[0].set_ylabel('Score')\n",
    "ax[1].set_ylabel('Score')\n",
    "\n",
    "cc_tfidf_plot[:20].plot(ax = ax[0], title = 'Highest TFIDF Score in Cordcutters Subreddit Post Vectorization', kind='bar')\n",
    "piracy_tfidf_plot[:20].plot(ax = ax[1], title = 'Highest TFIDF Score in Piracy Subreddit Post Vectorization', kind='bar')\n",
    "\n",
    "figure.tight_layout();"
   ]
  },
  {
   "cell_type": "markdown",
   "metadata": {},
   "source": [
    "#### Common Words Between Cordcutters and Piracy after Count Vectorization and TFIDF"
   ]
  },
  {
   "cell_type": "code",
   "execution_count": 17,
   "metadata": {},
   "outputs": [
    {
     "data": {
      "text/plain": [
       "['tv',\n",
       " 'just',\n",
       " 'streaming',\n",
       " 'new',\n",
       " 'antenna',\n",
       " 'use',\n",
       " 'service',\n",
       " 'watch',\n",
       " 'channels',\n",
       " 'want',\n",
       " 'sports']"
      ]
     },
     "execution_count": 17,
     "metadata": {},
     "output_type": "execute_result"
    }
   ],
   "source": [
    "cc_vec = ['tv', 'antenna', 'just', 'channels', 'streaming', 'internet', 'cable',\n",
    "'live', 'like', 'service', 'watch', 'use', 'new', 'want', 'channel', 'sports',\n",
    "'need', 'ive', 'cord', 'month'] \n",
    "\n",
    "cc_tiffy = list(df_tfidf.sort_values('Cordcutters', ascending=False)[:20].index)\n",
    "\n",
    "[i for i in cc_tiffy if i in cc_vec]"
   ]
  },
  {
   "cell_type": "code",
   "execution_count": 18,
   "metadata": {},
   "outputs": [
    {
     "data": {
      "text/plain": [
       "['just', 'like', 'games', 'know', 'ive']"
      ]
     },
     "execution_count": 18,
     "metadata": {},
     "output_type": "execute_result"
    }
   ],
   "source": [
    "piracy_vec = ['download', 'im', 'just', 'know', 'like','use', 'dont',\n",
    "              'ampxb','ive','torrent','games','file', 'way','good','files',\n",
    "              'piracy', 'version', 'need', 'windows', 'site']\n",
    "\n",
    "piracy_tiffy = list(df_tfidf.sort_values('Piracy', ascending=False)[:20].index)\n",
    "\n",
    "[i for i in piracy_tiffy if i in piracy_vec]"
   ]
  },
  {
   "cell_type": "code",
   "execution_count": 19,
   "metadata": {
    "collapsed": true
   },
   "outputs": [],
   "source": [
    "# cc_tfidf_plot = df_tfidf.sort_values('Cordcutters', ascending=False)[:20]\n",
    "# piracy_tfidf_plot = df_tfidf.sort_values('Piracy', ascending=False)[:20]\n",
    "\n",
    "# piracy_tfidf_plot[:20].plot(kind='bar',\n",
    "#                        figsize=(20,10), fontsize=25, rot=45)\n",
    "\n",
    "# plt.xlabel('Words', fontsize=25)\n",
    "# plt.ylabel('Score', fontsize=25)\n",
    "# plt.title(s= 'Highest TFIDF Score in Piracy Subreddit', fontsize=25)\n",
    "\n",
    "# figure.tight_layout();"
   ]
  },
  {
   "cell_type": "markdown",
   "metadata": {},
   "source": [
    "#### Confusion Matrix for Multinomial Naives Bayes Model"
   ]
  },
  {
   "cell_type": "markdown",
   "metadata": {},
   "source": [
    "In this confusion matrix true positives would be the number of posts that were predicted as 1s and are actually classified as 1s and true negatives would be the number of posts predicted as 0s and are actually classified as 0s.  We can see by the accuracy score (all correct/all) and the precision score (all positives/predicted positives) that this model is able to effectively predict which subreddit a post originates from."
   ]
  },
  {
   "cell_type": "code",
   "execution_count": 20,
   "metadata": {
    "collapsed": true
   },
   "outputs": [],
   "source": [
    "y_pred = gs_multi.best_estimator_.predict(X_test)"
   ]
  },
  {
   "cell_type": "code",
   "execution_count": 21,
   "metadata": {
    "collapsed": true
   },
   "outputs": [],
   "source": [
    "matrix_def = [['tn','fp'], ['fn','tp']]\n",
    "matrix = confusion_matrix(y_test, y_pred) \n",
    "tn, fp, fn, tp = matrix.ravel()"
   ]
  },
  {
   "cell_type": "code",
   "execution_count": 22,
   "metadata": {
    "scrolled": false
   },
   "outputs": [
    {
     "name": "stdout",
     "output_type": "stream",
     "text": [
      "Matrix Definition\n",
      "[['tn' 'fp']\n",
      " ['fn' 'tp']]\n",
      "\n",
      "Confusion Matrix\n",
      "[[142  17]\n",
      " [  9 225]]\n",
      "\n",
      "Accuracy: 0.9338422391857506\n",
      "Precision: 0.9297520661157025\n"
     ]
    }
   ],
   "source": [
    "print('Matrix Definition')\n",
    "print(np.array(matrix_def))\n",
    "print('')\n",
    "print('Confusion Matrix') \n",
    "print(matrix)\n",
    "accuracy = (tp+tn)/(tn+fp+fn+tp)\n",
    "precision = tp/(tp+fp)\n",
    "print('')\n",
    "print(f'Accuracy: {accuracy}')\n",
    "print(f'Precision: {precision}')"
   ]
  },
  {
   "cell_type": "markdown",
   "metadata": {},
   "source": [
    "#### ROC Score for Multinomial Naives Bayes Model"
   ]
  },
  {
   "cell_type": "markdown",
   "metadata": {},
   "source": [
    "The Receiver Operating Curve (ROC) plots the true positive rate against the false positive rate.  The false positive rate in this case would be the posts predicted as 1s that are actually classified as 0s and the false negatives would be the posts classified as 0s that are actually classified as 1s.  The false positive rate is equal to one minus the true negative rate, thus the ROC is generated by plotting the sensivity (true positive rate) and specificity (true negative rate).  The ROC gives a sense about the tradeoff between sensitivity and specificity and the closer the curve is to the upper left, the better overall accuracy of the model. \n",
    "\n",
    "This model represnts the tradeoff in which the higher the true positive rate, the more false positive the classifier produces.  This is demonstrated in the ROC Curve in that it is very close to the upper left corner and its area under the curve (AUC) is 0.98, where a perfect classifier will have a ROC-AUC of 1."
   ]
  },
  {
   "cell_type": "code",
   "execution_count": 23,
   "metadata": {
    "collapsed": true,
    "scrolled": false
   },
   "outputs": [],
   "source": [
    "fpr, tpr, threshold = roc_curve(y_test, gs_multi.predict_proba(X_test)[:, 1])"
   ]
  },
  {
   "cell_type": "code",
   "execution_count": 24,
   "metadata": {
    "scrolled": true
   },
   "outputs": [
    {
     "data": {
      "image/png": "[encoded data removed]",
      "text/plain": [
       "<matplotlib.figure.Figure at 0x1a1afe0390>"
      ]
     },
     "metadata": {},
     "output_type": "display_data"
    }
   ],
   "source": [
    "plt.figure()\n",
    "plt.plot(fpr, tpr)\n",
    "\n",
    "\n",
    "plt.xlabel('False Positive Rate')\n",
    "plt.ylabel('True Positive Rate');"
   ]
  },
  {
   "cell_type": "code",
   "execution_count": 25,
   "metadata": {},
   "outputs": [
    {
     "data": {
      "text/plain": [
       "0.9894640649357631"
      ]
     },
     "execution_count": 25,
     "metadata": {},
     "output_type": "execute_result"
    }
   ],
   "source": [
    "roc_auc_score(y_test, gs_multi.predict_proba(X_test)[:, 1])"
   ]
  },
  {
   "cell_type": "markdown",
   "metadata": {},
   "source": [
    "## TFIDF Vectorizer with Logistic Regression Model"
   ]
  },
  {
   "cell_type": "markdown",
   "metadata": {},
   "source": [
    "Logistic regression is a model used to estimate the probability that an instance belongs to a particular class.  If the estimate probability is greater than 50%, then the model predicts that the instance belongs to that class.  In the case of TFIDF, the probability of success is the scalerd frequency (whether a term is common or rare among all documents).  The C is the inverse of regularization strength where the smaller values specify stronger regularization. \n",
    "The L1 and L2 are used to specify the penalty (simlar to Lasso/Ridge) in linear regression.  \"Class weight=balanced\" works by replicating the smaller class until you have as many samples as in the larger one.  I chose to use this since there was about a 60/40 split in my classes."
   ]
  },
  {
   "cell_type": "code",
   "execution_count": 26,
   "metadata": {
    "collapsed": true
   },
   "outputs": [],
   "source": [
    "pipe = Pipeline([\n",
    "    ('tfidf', TfidfVectorizer(stop_words=stop_word_list)),\n",
    "    ('logreg', LogisticRegression())])\n",
    "\n",
    "#use idf and smooth idf"
   ]
  },
  {
   "cell_type": "code",
   "execution_count": 27,
   "metadata": {
    "collapsed": true
   },
   "outputs": [],
   "source": [
    "params = {\n",
    "    'tfidf__max_features': [2000],\n",
    "    'tfidf__max_df': [0.6],\n",
    "    'tfidf__min_df': [3],\n",
    "    'tfidf__ngram_range': [(1,2)],\n",
    "    'logreg__penalty': ['l2'],\n",
    "    'logreg__C': [1],\n",
    "    'logreg__class_weight': ['balanced']\n",
    "}"
   ]
  },
  {
   "cell_type": "code",
   "execution_count": 28,
   "metadata": {
    "collapsed": true
   },
   "outputs": [],
   "source": [
    "gs_logreg = GridSearchCV(pipe, param_grid=params, cv=3)"
   ]
  },
  {
   "cell_type": "code",
   "execution_count": 29,
   "metadata": {
    "collapsed": true
   },
   "outputs": [],
   "source": [
    "gs_logreg.fit(X_train, y_train);"
   ]
  },
  {
   "cell_type": "code",
   "execution_count": 30,
   "metadata": {},
   "outputs": [
    {
     "data": {
      "text/plain": [
       "(0.9812925170068028, 0.9465648854961832)"
      ]
     },
     "execution_count": 30,
     "metadata": {},
     "output_type": "execute_result"
    }
   ],
   "source": [
    "gs_logreg.score(X_train, y_train), gs_logreg.score(X_test, y_test)"
   ]
  },
  {
   "cell_type": "code",
   "execution_count": 31,
   "metadata": {
    "scrolled": false
   },
   "outputs": [
    {
     "data": {
      "text/plain": [
       "{'logreg__C': 1,\n",
       " 'logreg__class_weight': 'balanced',\n",
       " 'logreg__penalty': 'l2',\n",
       " 'tfidf__max_df': 0.6,\n",
       " 'tfidf__max_features': 2000,\n",
       " 'tfidf__min_df': 3,\n",
       " 'tfidf__ngram_range': (1, 2)}"
      ]
     },
     "execution_count": 31,
     "metadata": {},
     "output_type": "execute_result"
    }
   ],
   "source": [
    "gs_logreg.best_params_ "
   ]
  },
  {
   "cell_type": "markdown",
   "metadata": {},
   "source": [
    "#### Pickle Logistic Regression Model"
   ]
  },
  {
   "cell_type": "code",
   "execution_count": 32,
   "metadata": {
    "collapsed": true
   },
   "outputs": [],
   "source": [
    "with open('./Models/gs_logreg.pkl', 'wb+') as f:\n",
    "    pickle.dump(gs_logreg, f)"
   ]
  },
  {
   "cell_type": "markdown",
   "metadata": {},
   "source": [
    "#### Confusion Matrix for Logistic Regression Model"
   ]
  },
  {
   "cell_type": "markdown",
   "metadata": {},
   "source": [
    "This model performs the best in terms of accuracy and precision.  These scores were most likely helped by the tuning of parameters that we conducted in the gridsearch.   "
   ]
  },
  {
   "cell_type": "code",
   "execution_count": 33,
   "metadata": {
    "collapsed": true
   },
   "outputs": [],
   "source": [
    "y_pred = gs_logreg.best_estimator_.predict(X_test)\n",
    "y_proba = gs_logreg.predict_proba(X_test)"
   ]
  },
  {
   "cell_type": "code",
   "execution_count": 34,
   "metadata": {
    "collapsed": true
   },
   "outputs": [],
   "source": [
    "matrix_def = [['tn','fp'], ['fn','tp']]\n",
    "matrix = confusion_matrix(y_test, y_pred) \n",
    "tn, fp, fn, tp = matrix.ravel()\n",
    "\n",
    "#look at all rows where y_pred and y_test are not martching up."
   ]
  },
  {
   "cell_type": "code",
   "execution_count": 35,
   "metadata": {},
   "outputs": [
    {
     "name": "stdout",
     "output_type": "stream",
     "text": [
      "Matrix Definition\n",
      "[['tn' 'fp']\n",
      " ['fn' 'tp']]\n",
      "\n",
      "Confusion Matrix\n",
      "[[151   8]\n",
      " [ 13 221]]\n",
      "\n",
      "Accuracy: 0.9465648854961832\n",
      "Precision: 0.9650655021834061\n"
     ]
    }
   ],
   "source": [
    "print('Matrix Definition')\n",
    "print(np.array(matrix_def))\n",
    "print('')\n",
    "print('Confusion Matrix') \n",
    "print(matrix)\n",
    "accuracy = (tp+tn)/(tn+fp+fn+tp)\n",
    "precision = tp/(tp+fp)\n",
    "print('')\n",
    "print(f'Accuracy: {accuracy}')\n",
    "print(f'Precision: {precision}')\n",
    "\n",
    "#Pull out in Xtest the false positives and false negatives and fidn out why model is trippign up "
   ]
  },
  {
   "cell_type": "markdown",
   "metadata": {},
   "source": [
    "#### Posts Where Y-Test and Y-Pred Don't Match"
   ]
  },
  {
   "cell_type": "markdown",
   "metadata": {},
   "source": [
    "I will take some posts that were false positives and false negatives under this model and I will try to demonstrate some patterns that exist during my presentation."
   ]
  },
  {
   "cell_type": "code",
   "execution_count": 36,
   "metadata": {
    "collapsed": true
   },
   "outputs": [],
   "source": [
    "model_analysis_df = pd.DataFrame(X_test, columns=['Raw Text'])\n",
    "model_analysis_df.reset_index(drop=True, inplace=True)"
   ]
  },
  {
   "cell_type": "code",
   "execution_count": 37,
   "metadata": {
    "collapsed": true,
    "scrolled": true
   },
   "outputs": [],
   "source": [
    "y_proba_df = pd.DataFrame(y_proba)\n",
    "y_proba_df.reset_index(drop=True, inplace=True)"
   ]
  },
  {
   "cell_type": "code",
   "execution_count": 38,
   "metadata": {},
   "outputs": [
    {
     "data": {
      "text/html": [
       "<div>\n",
       "<style scoped>\n",
       "    .dataframe tbody tr th:only-of-type {\n",
       "        vertical-align: middle;\n",
       "    }\n",
       "\n",
       "    .dataframe tbody tr th {\n",
       "        vertical-align: top;\n",
       "    }\n",
       "\n",
       "    .dataframe thead th {\n",
       "        text-align: right;\n",
       "    }\n",
       "</style>\n",
       "<table border=\"1\" class=\"dataframe\">\n",
       "  <thead>\n",
       "    <tr style=\"text-align: right;\">\n",
       "      <th></th>\n",
       "      <th>Raw Text</th>\n",
       "      <th>actual</th>\n",
       "      <th>predicted</th>\n",
       "      <th>probability</th>\n",
       "    </tr>\n",
       "  </thead>\n",
       "  <tbody>\n",
       "    <tr>\n",
       "      <th>0</th>\n",
       "      <td>what is a good antenna for my area  here my li...</td>\n",
       "      <td>1</td>\n",
       "      <td>1</td>\n",
       "      <td>0.765103</td>\n",
       "    </tr>\n",
       "    <tr>\n",
       "      <th>1</th>\n",
       "      <td>i have a k video of the original star wars mov...</td>\n",
       "      <td>0</td>\n",
       "      <td>0</td>\n",
       "      <td>0.235725</td>\n",
       "    </tr>\n",
       "    <tr>\n",
       "      <th>2</th>\n",
       "      <td>frustrated cordcutter hereneed some help with ...</td>\n",
       "      <td>1</td>\n",
       "      <td>1</td>\n",
       "      <td>0.792755</td>\n",
       "    </tr>\n",
       "    <tr>\n",
       "      <th>3</th>\n",
       "      <td>i tried installing it with this method https//...</td>\n",
       "      <td>0</td>\n",
       "      <td>0</td>\n",
       "      <td>0.185841</td>\n",
       "    </tr>\n",
       "    <tr>\n",
       "      <th>4</th>\n",
       "      <td>i have an hdtv with only one coaxial input i b...</td>\n",
       "      <td>1</td>\n",
       "      <td>1</td>\n",
       "      <td>0.871274</td>\n",
       "    </tr>\n",
       "  </tbody>\n",
       "</table>\n",
       "</div>"
      ],
      "text/plain": [
       "                                            Raw Text  actual  predicted  \\\n",
       "0  what is a good antenna for my area  here my li...       1          1   \n",
       "1  i have a k video of the original star wars mov...       0          0   \n",
       "2  frustrated cordcutter hereneed some help with ...       1          1   \n",
       "3  i tried installing it with this method https//...       0          0   \n",
       "4  i have an hdtv with only one coaxial input i b...       1          1   \n",
       "\n",
       "   probability  \n",
       "0     0.765103  \n",
       "1     0.235725  \n",
       "2     0.792755  \n",
       "3     0.185841  \n",
       "4     0.871274  "
      ]
     },
     "execution_count": 38,
     "metadata": {},
     "output_type": "execute_result"
    }
   ],
   "source": [
    "model_analysis_df['actual'] = list(y_test)\n",
    "model_analysis_df['predicted'] = y_pred\n",
    "model_analysis_df['probability'] = y_proba_df[1]\n",
    "model_analysis_df.head()"
   ]
  },
  {
   "cell_type": "code",
   "execution_count": 39,
   "metadata": {
    "scrolled": true
   },
   "outputs": [
    {
     "data": {
      "text/html": [
       "<div>\n",
       "<style scoped>\n",
       "    .dataframe tbody tr th:only-of-type {\n",
       "        vertical-align: middle;\n",
       "    }\n",
       "\n",
       "    .dataframe tbody tr th {\n",
       "        vertical-align: top;\n",
       "    }\n",
       "\n",
       "    .dataframe thead th {\n",
       "        text-align: right;\n",
       "    }\n",
       "</style>\n",
       "<table border=\"1\" class=\"dataframe\">\n",
       "  <thead>\n",
       "    <tr style=\"text-align: right;\">\n",
       "      <th></th>\n",
       "      <th>Raw Text</th>\n",
       "      <th>actual</th>\n",
       "      <th>predicted</th>\n",
       "      <th>probability</th>\n",
       "    </tr>\n",
       "  </thead>\n",
       "  <tbody>\n",
       "    <tr>\n",
       "      <th>12</th>\n",
       "      <td>i am trying to watch the arrow but cant on net...</td>\n",
       "      <td>0</td>\n",
       "      <td>1</td>\n",
       "      <td>0.662967</td>\n",
       "    </tr>\n",
       "    <tr>\n",
       "      <th>16</th>\n",
       "      <td>jurassicworldfallenkingdompwebdlddhfgt or  jur...</td>\n",
       "      <td>0</td>\n",
       "      <td>1</td>\n",
       "      <td>0.579002</td>\n",
       "    </tr>\n",
       "    <tr>\n",
       "      <th>17</th>\n",
       "      <td>whenever i try to watch  hour movies i always ...</td>\n",
       "      <td>0</td>\n",
       "      <td>1</td>\n",
       "      <td>0.565523</td>\n",
       "    </tr>\n",
       "    <tr>\n",
       "      <th>31</th>\n",
       "      <td>maybe i will take the th or th one</td>\n",
       "      <td>0</td>\n",
       "      <td>1</td>\n",
       "      <td>0.512740</td>\n",
       "    </tr>\n",
       "    <tr>\n",
       "      <th>113</th>\n",
       "      <td>has anyone figured out how to do this yet been...</td>\n",
       "      <td>0</td>\n",
       "      <td>1</td>\n",
       "      <td>0.505578</td>\n",
       "    </tr>\n",
       "    <tr>\n",
       "      <th>214</th>\n",
       "      <td>without my isp becoming suspicious how many pe...</td>\n",
       "      <td>0</td>\n",
       "      <td>1</td>\n",
       "      <td>0.510168</td>\n",
       "    </tr>\n",
       "    <tr>\n",
       "      <th>259</th>\n",
       "      <td>tldr  why can i buy big mac at a reasonable pr...</td>\n",
       "      <td>0</td>\n",
       "      <td>1</td>\n",
       "      <td>0.503015</td>\n",
       "    </tr>\n",
       "    <tr>\n",
       "      <th>366</th>\n",
       "      <td>dish is hiring an investigator to research an...</td>\n",
       "      <td>0</td>\n",
       "      <td>1</td>\n",
       "      <td>0.527790</td>\n",
       "    </tr>\n",
       "  </tbody>\n",
       "</table>\n",
       "</div>"
      ],
      "text/plain": [
       "                                              Raw Text  actual  predicted  \\\n",
       "12   i am trying to watch the arrow but cant on net...       0          1   \n",
       "16   jurassicworldfallenkingdompwebdlddhfgt or  jur...       0          1   \n",
       "17   whenever i try to watch  hour movies i always ...       0          1   \n",
       "31                  maybe i will take the th or th one       0          1   \n",
       "113  has anyone figured out how to do this yet been...       0          1   \n",
       "214  without my isp becoming suspicious how many pe...       0          1   \n",
       "259  tldr  why can i buy big mac at a reasonable pr...       0          1   \n",
       "366   dish is hiring an investigator to research an...       0          1   \n",
       "\n",
       "     probability  \n",
       "12      0.662967  \n",
       "16      0.579002  \n",
       "17      0.565523  \n",
       "31      0.512740  \n",
       "113     0.505578  \n",
       "214     0.510168  \n",
       "259     0.503015  \n",
       "366     0.527790  "
      ]
     },
     "execution_count": 39,
     "metadata": {},
     "output_type": "execute_result"
    }
   ],
   "source": [
    "false_pos = model_analysis_df.loc[(model_analysis_df['actual'] < model_analysis_df['predicted'])]\n",
    "false_pos"
   ]
  },
  {
   "cell_type": "code",
   "execution_count": 40,
   "metadata": {
    "scrolled": false
   },
   "outputs": [
    {
     "data": {
      "text/html": [
       "<div>\n",
       "<style scoped>\n",
       "    .dataframe tbody tr th:only-of-type {\n",
       "        vertical-align: middle;\n",
       "    }\n",
       "\n",
       "    .dataframe tbody tr th {\n",
       "        vertical-align: top;\n",
       "    }\n",
       "\n",
       "    .dataframe thead th {\n",
       "        text-align: right;\n",
       "    }\n",
       "</style>\n",
       "<table border=\"1\" class=\"dataframe\">\n",
       "  <thead>\n",
       "    <tr style=\"text-align: right;\">\n",
       "      <th></th>\n",
       "      <th>Raw Text</th>\n",
       "      <th>actual</th>\n",
       "      <th>predicted</th>\n",
       "      <th>probability</th>\n",
       "    </tr>\n",
       "  </thead>\n",
       "  <tbody>\n",
       "    <tr>\n",
       "      <th>11</th>\n",
       "      <td>there is some good content on free streaming m...</td>\n",
       "      <td>1</td>\n",
       "      <td>0</td>\n",
       "      <td>0.307998</td>\n",
       "    </tr>\n",
       "    <tr>\n",
       "      <th>24</th>\n",
       "      <td>netflix has deleted every user review ever po...</td>\n",
       "      <td>1</td>\n",
       "      <td>0</td>\n",
       "      <td>0.487513</td>\n",
       "    </tr>\n",
       "    <tr>\n",
       "      <th>48</th>\n",
       "      <td>it seems that simpsons world is no longer a fe...</td>\n",
       "      <td>1</td>\n",
       "      <td>0</td>\n",
       "      <td>0.328863</td>\n",
       "    </tr>\n",
       "    <tr>\n",
       "      <th>62</th>\n",
       "      <td>i have gb left afraid ill go over my cap help</td>\n",
       "      <td>1</td>\n",
       "      <td>0</td>\n",
       "      <td>0.379535</td>\n",
       "    </tr>\n",
       "    <tr>\n",
       "      <th>65</th>\n",
       "      <td>every movie it works for a few minutes then th...</td>\n",
       "      <td>1</td>\n",
       "      <td>0</td>\n",
       "      <td>0.395047</td>\n",
       "    </tr>\n",
       "    <tr>\n",
       "      <th>82</th>\n",
       "      <td>fubo rolling out more k beta broadcasts</td>\n",
       "      <td>1</td>\n",
       "      <td>0</td>\n",
       "      <td>0.482258</td>\n",
       "    </tr>\n",
       "    <tr>\n",
       "      <th>89</th>\n",
       "      <td>moviepass is uncanceling peoples accounts</td>\n",
       "      <td>1</td>\n",
       "      <td>0</td>\n",
       "      <td>0.429816</td>\n",
       "    </tr>\n",
       "    <tr>\n",
       "      <th>195</th>\n",
       "      <td>i feel silly paying for all the same free cont...</td>\n",
       "      <td>1</td>\n",
       "      <td>0</td>\n",
       "      <td>0.482292</td>\n",
       "    </tr>\n",
       "    <tr>\n",
       "      <th>197</th>\n",
       "      <td>i know now is direct from them and go is from ...</td>\n",
       "      <td>1</td>\n",
       "      <td>0</td>\n",
       "      <td>0.381693</td>\n",
       "    </tr>\n",
       "    <tr>\n",
       "      <th>229</th>\n",
       "      <td>tribune calls off b buyout by sinclair</td>\n",
       "      <td>1</td>\n",
       "      <td>0</td>\n",
       "      <td>0.470162</td>\n",
       "    </tr>\n",
       "    <tr>\n",
       "      <th>238</th>\n",
       "      <td>i was hoping amazons online version would fix ...</td>\n",
       "      <td>1</td>\n",
       "      <td>0</td>\n",
       "      <td>0.311946</td>\n",
       "    </tr>\n",
       "    <tr>\n",
       "      <th>362</th>\n",
       "      <td>is it that is  what is vrv any idea how much its</td>\n",
       "      <td>1</td>\n",
       "      <td>0</td>\n",
       "      <td>0.393069</td>\n",
       "    </tr>\n",
       "    <tr>\n",
       "      <th>364</th>\n",
       "      <td>anyone get a working guide with plex yet i tho...</td>\n",
       "      <td>1</td>\n",
       "      <td>0</td>\n",
       "      <td>0.429065</td>\n",
       "    </tr>\n",
       "  </tbody>\n",
       "</table>\n",
       "</div>"
      ],
      "text/plain": [
       "                                              Raw Text  actual  predicted  \\\n",
       "11   there is some good content on free streaming m...       1          0   \n",
       "24    netflix has deleted every user review ever po...       1          0   \n",
       "48   it seems that simpsons world is no longer a fe...       1          0   \n",
       "62       i have gb left afraid ill go over my cap help       1          0   \n",
       "65   every movie it works for a few minutes then th...       1          0   \n",
       "82             fubo rolling out more k beta broadcasts       1          0   \n",
       "89           moviepass is uncanceling peoples accounts       1          0   \n",
       "195  i feel silly paying for all the same free cont...       1          0   \n",
       "197  i know now is direct from them and go is from ...       1          0   \n",
       "229             tribune calls off b buyout by sinclair       1          0   \n",
       "238  i was hoping amazons online version would fix ...       1          0   \n",
       "362   is it that is  what is vrv any idea how much its       1          0   \n",
       "364  anyone get a working guide with plex yet i tho...       1          0   \n",
       "\n",
       "     probability  \n",
       "11      0.307998  \n",
       "24      0.487513  \n",
       "48      0.328863  \n",
       "62      0.379535  \n",
       "65      0.395047  \n",
       "82      0.482258  \n",
       "89      0.429816  \n",
       "195     0.482292  \n",
       "197     0.381693  \n",
       "229     0.470162  \n",
       "238     0.311946  \n",
       "362     0.393069  \n",
       "364     0.429065  "
      ]
     },
     "execution_count": 40,
     "metadata": {},
     "output_type": "execute_result"
    }
   ],
   "source": [
    "false_neg = model_analysis_df.loc[(model_analysis_df['actual'] > model_analysis_df['predicted'])]\n",
    "false_neg"
   ]
  },
  {
   "cell_type": "code",
   "execution_count": 41,
   "metadata": {},
   "outputs": [
    {
     "name": "stdout",
     "output_type": "stream",
     "text": [
      "1 i am trying to watch the arrow but cant on netflix because im in canada tried using a vpn but netflix detected it are there any other ways to get past this or any other websites to watch this show how to watch netflix shows not available in my region\n",
      "2 jurassicworldfallenkingdompwebdlddhfgt or  jurassicworldpwebdlhacevoethd which one is best ethd or fgt\n",
      "3 whenever i try to watch  hour movies i always have to pause and let it load a little but even then i still encounter buffers i have about /mbps at home and i still cant watch anything consistently stable i was wondering if leonflix would add an online feature where we can download movies and tv shows and watch it without the internet if theres another way of downloading movies and tv shows safely for now please link me to those sources thank you download/offline feature\n",
      "4  maybe i will take the th or th one\n",
      "5 has anyone figured out how to do this yet been trying different ways and just cant figure out how to do it yet any advice would be great trying to rip a book off of barnes amp nobles student app yuzu\n",
      "6 without my isp becoming suspicious how many people can i give access to my plex\n",
      "7 tldr  why can i buy big mac at a reasonable price and should pay  for a triplea game mcdonalds adjusts the big mac and the whole menu prices according to the local market where they operate while games tv shows movies dont im from a poor country the government doesnt care about digital rights because we have deeper issues to resolve still people around the internet make me feel bad for stealing yes i know it is theft by the meaning i get it but please first listen then judge my salary is way lower than any developed country the digital goods cost a global rate even more the goods are more expansive as a result of currency conversions electronics are wayyyyy more expansive due to importing taxes  higher so i earn less than any developed country i pay more for the digital products and pay even more for electronics pc ps for the lucky of us screen/tv etc why dont people get the issue i think the question of illegal or not should consider more factors than just some meaningless words on a sheet of paper are people in developed countries blind or are they obsessed with fixing the world if they have this kind of obsession why wont they protest for the lowest salaries in the poor countries instead of calling poor people pirates dont i deserve some entertainment in a reasonable price like a big mac im not looking for a way to justify theft but i suggest it is necessary to look at the phenomenon broadly and not only with a narrow eye why dont the digital products adjust their prices according to the local market the few who do that arent doing it in such a competitive price as local solutions why people from a developed country can buy electronics in msrp and they never do it always cheaper while i should pay extra  from the msrp on tax i didnt even talk about education and software as opportunities for some opportunities they will never have in undeveloped countries without piracy edit with further thoughts i think the issue can relate to some in developed countries as well while some people in developed countries got lucky enough to be born into a family which can afford them a good education while some dont and they still want opportunities with online courses and software or maybe just entertainment  how can you be lucky enough to be born into a stable family and still have the nerve to preach to people who do not for this question i dont know the answer i hope people will stop judging others based on experiences they never had why some people dont get pirates\n",
      "8  dish is hiring an investigator to research and monitor pirates\n"
     ]
    }
   ],
   "source": [
    "for i, value in enumerate(list(false_pos.loc[:,'Raw Text'])):\n",
    "    print(i+1, value)"
   ]
  },
  {
   "cell_type": "code",
   "execution_count": 42,
   "metadata": {},
   "outputs": [
    {
     "name": "stdout",
     "output_type": "stream",
     "text": [
      "1 there is some good content on free streaming media channels but scrolling through the menus is a major annoyance is anyone aware of a web site that lists whats showing from each of these sources i know whats showing needs clarification title year genres rating link to description on source may be sufficient perhaps this is a candidate for ifttt i would rather not start solving that problem if someone else already has any allinone pluto crackle vudu and so forth reference\n",
      "2  netflix has deleted every user review ever posted to its website\n",
      "3 it seems that simpsons world is no longer a feature when i click on simpsons i get just an episode list of   or  episodes per season clicking more episodes brings me to a clunky episode list by season what happened to the different style playlists etc anyone know what happened to simpsons world on fxnow fire tv\n",
      "4  i have gb left afraid ill go over my cap help\n",
      "5 every movie it works for a few minutes then the video freezes and audio keeps playing for a minute then it completely freezes ive hard reset xbox and restarted the app to no avail its disappointing because i love this app thanks has tubi tv stopped working correctly on xbox one for anyone else\n",
      "6  fubo rolling out more k beta broadcasts\n",
      "7  moviepass is uncanceling peoples accounts\n",
      "8 i feel silly paying for all the same free content i already get the only thing i want is background play its super slimy that that is behind the paywall whats everyone elses experience with it anyone got youtube premium\n",
      "9 i know now is direct from them and go is from your provider just wondering what the differences in content are is there a difference between hbo now and hbogo\n",
      "10  tribune calls off b buyout by sinclair\n",
      "11 i was hoping amazons online version would fix things but it has the same problems as the dvd version  choppedoff heads due to zoomingin on the video  cgi stretched to widescreen when it was supposed to be square  ratio  bad pal to ntsc conversion honestly my nonwidescreen babylon  stored on super vhs recorded when the show was still in firstrun looks better than either the amazon or dvd widescreen versions    babylon  in widescreen looks terrible\n",
      "12 is it that is  what is vrv any idea how much its\n",
      "13 anyone get a working guide with plex yet i thought about building one with schedules direct using my local guide and a west coast guide and then manually adding it as an xml file to plex which plex lets you do  but that all seems like too much work any word about time frames i know emby has a guide hdhomerun premium east coast plex\n"
     ]
    }
   ],
   "source": [
    "for i, value in enumerate(list(false_neg.loc[:,'Raw Text'])):\n",
    "    print(i+1, value)"
   ]
  },
  {
   "cell_type": "markdown",
   "metadata": {},
   "source": [
    "#### ROC Score for Logistic Regression Model"
   ]
  },
  {
   "cell_type": "markdown",
   "metadata": {},
   "source": [
    "This model has a ROC-AUC score that is just slightly lower than the Multinomial NB model's, but it is still very high. "
   ]
  },
  {
   "cell_type": "code",
   "execution_count": 43,
   "metadata": {
    "collapsed": true,
    "scrolled": true
   },
   "outputs": [],
   "source": [
    "fpr, tpr, threshold = roc_curve(y_test, gs_logreg.predict_proba(X_test)[:, 1])"
   ]
  },
  {
   "cell_type": "code",
   "execution_count": 44,
   "metadata": {},
   "outputs": [
    {
     "data": {
      "image/png": "[encoded data removed]",
      "text/plain": [
       "<matplotlib.figure.Figure at 0x10bdb6400>"
      ]
     },
     "metadata": {},
     "output_type": "display_data"
    }
   ],
   "source": [
    "plt.figure()\n",
    "plt.plot(fpr, tpr)\n",
    "\n",
    "\n",
    "plt.xlabel('False Positive Rate')\n",
    "plt.ylabel('True Positive Rate');"
   ]
  },
  {
   "cell_type": "code",
   "execution_count": 45,
   "metadata": {},
   "outputs": [
    {
     "data": {
      "text/plain": [
       "0.9907944955114767"
      ]
     },
     "execution_count": 45,
     "metadata": {},
     "output_type": "execute_result"
    }
   ],
   "source": [
    "roc_auc_score(y_test, gs_logreg.predict_proba(X_test)[:, 1])"
   ]
  },
  {
   "cell_type": "markdown",
   "metadata": {
    "collapsed": true
   },
   "source": [
    "## TFIDF Vectorizer with Random Forest Classifier "
   ]
  },
  {
   "cell_type": "markdown",
   "metadata": {},
   "source": [
    "Random Forest builds an ensemble of decision trees.  Instead of searching for the most important feature while splitting a node, Random Forest searches for the best feature among a random subset of features."
   ]
  },
  {
   "cell_type": "code",
   "execution_count": 46,
   "metadata": {
    "collapsed": true
   },
   "outputs": [],
   "source": [
    "pipe = Pipeline([\n",
    "    ('tfidf', TfidfVectorizer(stop_words=stop_word_list)),\n",
    "    ('rf', RandomForestClassifier())])"
   ]
  },
  {
   "cell_type": "code",
   "execution_count": 47,
   "metadata": {
    "collapsed": true
   },
   "outputs": [],
   "source": [
    "params = {\n",
    "    'tfidf__max_features': [2000],\n",
    "    'tfidf__max_df': [0.7],\n",
    "    'tfidf__min_df': [4],\n",
    "    'tfidf__ngram_range': [(1,2)],\n",
    "    'rf__n_estimators': [100],\n",
    "    'rf__n_jobs': [1],\n",
    "    'rf__min_samples_split': [3],\n",
    "    'rf__min_samples_leaf': [3],\n",
    "    'rf__class_weight': [None, 'balanced', 'balanced_subsample']\n",
    "}"
   ]
  },
  {
   "cell_type": "code",
   "execution_count": 48,
   "metadata": {
    "collapsed": true
   },
   "outputs": [],
   "source": [
    "gs_rf = GridSearchCV(pipe, param_grid=params, cv=3)"
   ]
  },
  {
   "cell_type": "code",
   "execution_count": 49,
   "metadata": {
    "collapsed": true
   },
   "outputs": [],
   "source": [
    "gs_rf.fit(X_train, y_train);"
   ]
  },
  {
   "cell_type": "code",
   "execution_count": 50,
   "metadata": {},
   "outputs": [
    {
     "data": {
      "text/plain": [
       "(0.9549319727891157, 0.9211195928753181)"
      ]
     },
     "execution_count": 50,
     "metadata": {},
     "output_type": "execute_result"
    }
   ],
   "source": [
    "gs_rf.score(X_train, y_train), gs_rf.score(X_test, y_test)"
   ]
  },
  {
   "cell_type": "code",
   "execution_count": 51,
   "metadata": {
    "scrolled": true
   },
   "outputs": [
    {
     "data": {
      "text/plain": [
       "{'rf__class_weight': None,\n",
       " 'rf__min_samples_leaf': 3,\n",
       " 'rf__min_samples_split': 3,\n",
       " 'rf__n_estimators': 100,\n",
       " 'rf__n_jobs': 1,\n",
       " 'tfidf__max_df': 0.7,\n",
       " 'tfidf__max_features': 2000,\n",
       " 'tfidf__min_df': 4,\n",
       " 'tfidf__ngram_range': (1, 2)}"
      ]
     },
     "execution_count": 51,
     "metadata": {},
     "output_type": "execute_result"
    }
   ],
   "source": [
    "gs_rf.best_params_ "
   ]
  },
  {
   "cell_type": "markdown",
   "metadata": {},
   "source": [
    "#### Pickle Random Forest Classifier"
   ]
  },
  {
   "cell_type": "code",
   "execution_count": 52,
   "metadata": {
    "collapsed": true
   },
   "outputs": [],
   "source": [
    "with open('./Models/gs_rt.pkl', 'wb+') as f:\n",
    "    pickle.dump(gs_rf, f)"
   ]
  },
  {
   "cell_type": "markdown",
   "metadata": {},
   "source": [
    "#### Confusion Matrix for Random Forest Classifier"
   ]
  },
  {
   "cell_type": "code",
   "execution_count": 53,
   "metadata": {
    "collapsed": true
   },
   "outputs": [],
   "source": [
    "y_pred = gs_rf.best_estimator_.predict(X_test)"
   ]
  },
  {
   "cell_type": "code",
   "execution_count": 54,
   "metadata": {
    "collapsed": true
   },
   "outputs": [],
   "source": [
    "matrix_def = [['tn','fp'], ['fn','tp']]\n",
    "matrix = confusion_matrix(y_test, y_pred) \n",
    "tn, fp, fn, tp = matrix.ravel()"
   ]
  },
  {
   "cell_type": "code",
   "execution_count": 55,
   "metadata": {
    "scrolled": true
   },
   "outputs": [
    {
     "name": "stdout",
     "output_type": "stream",
     "text": [
      "Matrix Definition\n",
      "[['tn' 'fp']\n",
      " ['fn' 'tp']]\n",
      "\n",
      "Confusion Matrix\n",
      "[[136  23]\n",
      " [  8 226]]\n",
      "\n",
      "Accuracy: 0.9211195928753181\n",
      "Precision: 0.9076305220883534\n"
     ]
    }
   ],
   "source": [
    "print('Matrix Definition')\n",
    "print(np.array(matrix_def))\n",
    "print('')\n",
    "print('Confusion Matrix') \n",
    "print(matrix)\n",
    "accuracy = (tp+tn)/(tn+fp+fn+tp)\n",
    "precision = tp/(tp+fp)\n",
    "print('')\n",
    "print(f'Accuracy: {accuracy}')\n",
    "print(f'Precision: {precision}')"
   ]
  },
  {
   "cell_type": "markdown",
   "metadata": {},
   "source": [
    "#### ROC Score"
   ]
  },
  {
   "cell_type": "code",
   "execution_count": 56,
   "metadata": {
    "collapsed": true
   },
   "outputs": [],
   "source": [
    "fpr, tpr, threshold = roc_curve(y_test, gs_rf.predict_proba(X_test)[:, 1])"
   ]
  },
  {
   "cell_type": "code",
   "execution_count": 57,
   "metadata": {
    "scrolled": true
   },
   "outputs": [
    {
     "data": {
      "image/png": "[encoded data removed]",
      "text/plain": [
       "<matplotlib.figure.Figure at 0x1a1b941d30>"
      ]
     },
     "metadata": {},
     "output_type": "display_data"
    }
   ],
   "source": [
    "plt.figure()\n",
    "plt.plot(fpr, tpr)\n",
    "\n",
    "\n",
    "plt.xlabel('False Positive Rate')\n",
    "plt.ylabel('True Positive Rate')\n",
    "\n",
    "plt.show()"
   ]
  },
  {
   "cell_type": "code",
   "execution_count": 58,
   "metadata": {
    "scrolled": true
   },
   "outputs": [
    {
     "data": {
      "text/plain": [
       "0.985096489813471"
      ]
     },
     "execution_count": 58,
     "metadata": {},
     "output_type": "execute_result"
    }
   ],
   "source": [
    "roc_auc_score(y_test, gs_rf.predict_proba(X_test)[:, 1])"
   ]
  },
  {
   "cell_type": "markdown",
   "metadata": {},
   "source": [
    "## TFIDF Vectorizer Decision Tree Classifier"
   ]
  },
  {
   "cell_type": "markdown",
   "metadata": {},
   "source": [
    "A decision tree divides the data set into smaller data sets until reaching a small enough set that contains data points that fall under one class. A partition is considered to be pure once all data of a specific class exists in it.  The min_samples_split represents the minimum number of samples required to split an internal node and the min_samples_leaf represents the minimum number of samples required to be at a leaf node."
   ]
  },
  {
   "cell_type": "code",
   "execution_count": 59,
   "metadata": {
    "collapsed": true
   },
   "outputs": [],
   "source": [
    "pipe = Pipeline([\n",
    "    ('tfidf', TfidfVectorizer(stop_words=stop_word_list)),\n",
    "    ('dt', DecisionTreeClassifier())])"
   ]
  },
  {
   "cell_type": "code",
   "execution_count": 60,
   "metadata": {
    "collapsed": true
   },
   "outputs": [],
   "source": [
    "params = {\n",
    "    'tfidf__max_features': [1000],\n",
    "    'tfidf__max_df': [0.7],\n",
    "    'tfidf__min_df': [3],\n",
    "    'tfidf__ngram_range': [(1,2)],\n",
    "    'dt__min_samples_split': [4],\n",
    "    'dt__min_samples_leaf': [2],\n",
    "    'dt__class_weight': ['balanced']\n",
    "}"
   ]
  },
  {
   "cell_type": "code",
   "execution_count": 61,
   "metadata": {
    "collapsed": true
   },
   "outputs": [],
   "source": [
    "gs_dt = GridSearchCV(pipe, param_grid=params, cv=3)"
   ]
  },
  {
   "cell_type": "code",
   "execution_count": 62,
   "metadata": {
    "collapsed": true
   },
   "outputs": [],
   "source": [
    "gs_dt.fit(X_train, y_train);"
   ]
  },
  {
   "cell_type": "code",
   "execution_count": 63,
   "metadata": {},
   "outputs": [
    {
     "data": {
      "text/plain": [
       "(0.9498299319727891, 0.8854961832061069)"
      ]
     },
     "execution_count": 63,
     "metadata": {},
     "output_type": "execute_result"
    }
   ],
   "source": [
    "gs_dt.score(X_train, y_train), gs_dt.score(X_test, y_test)"
   ]
  },
  {
   "cell_type": "code",
   "execution_count": 64,
   "metadata": {},
   "outputs": [
    {
     "data": {
      "text/plain": [
       "{'dt__class_weight': 'balanced',\n",
       " 'dt__min_samples_leaf': 2,\n",
       " 'dt__min_samples_split': 4,\n",
       " 'tfidf__max_df': 0.7,\n",
       " 'tfidf__max_features': 1000,\n",
       " 'tfidf__min_df': 3,\n",
       " 'tfidf__ngram_range': (1, 2)}"
      ]
     },
     "execution_count": 64,
     "metadata": {},
     "output_type": "execute_result"
    }
   ],
   "source": [
    "gs_dt.best_params_ "
   ]
  },
  {
   "cell_type": "markdown",
   "metadata": {},
   "source": [
    "#### Pickle Decision Tree Classifier"
   ]
  },
  {
   "cell_type": "code",
   "execution_count": 65,
   "metadata": {
    "collapsed": true
   },
   "outputs": [],
   "source": [
    "with open('./Models/gs_dt.pkl', 'wb+') as f:\n",
    "    pickle.dump(gs_dt, f)"
   ]
  },
  {
   "cell_type": "markdown",
   "metadata": {
    "collapsed": true
   },
   "source": [
    "#### Confusion Matrix for Decision Tree Classifier"
   ]
  },
  {
   "cell_type": "markdown",
   "metadata": {},
   "source": [
    "The accuracy and precision scores are significantly worse under this model than the logistical and Multinomial NB models.  Due to the decision tree's tendency to overfit, it tends to not produce great results if the training data is somewhat different thant the scoring data.  "
   ]
  },
  {
   "cell_type": "code",
   "execution_count": 66,
   "metadata": {
    "collapsed": true
   },
   "outputs": [],
   "source": [
    "y_pred = gs_dt.best_estimator_.predict(X_test)"
   ]
  },
  {
   "cell_type": "code",
   "execution_count": 67,
   "metadata": {
    "collapsed": true
   },
   "outputs": [],
   "source": [
    "matrix_def = [['tn','fp'], ['fn','tp']]\n",
    "matrix = confusion_matrix(y_test, y_pred) \n",
    "tn, fp, fn, tp = matrix.ravel()"
   ]
  },
  {
   "cell_type": "code",
   "execution_count": 68,
   "metadata": {},
   "outputs": [
    {
     "name": "stdout",
     "output_type": "stream",
     "text": [
      "Matrix Definition\n",
      "[['tn' 'fp']\n",
      " ['fn' 'tp']]\n",
      "\n",
      "Confusion Matrix\n",
      "[[151   8]\n",
      " [ 37 197]]\n",
      "\n",
      "Accuracy: 0.8854961832061069\n",
      "Precision: 0.9609756097560975\n"
     ]
    }
   ],
   "source": [
    "print('Matrix Definition')\n",
    "print(np.array(matrix_def))\n",
    "print('')\n",
    "print('Confusion Matrix') \n",
    "print(matrix)\n",
    "accuracy = (tp+tn)/(tn+fp+fn+tp)\n",
    "precision = tp/(tp+fp)\n",
    "print('')\n",
    "print(f'Accuracy: {accuracy}')\n",
    "print(f'Precision: {precision}')"
   ]
  },
  {
   "cell_type": "markdown",
   "metadata": {},
   "source": [
    "#### ROC Score"
   ]
  },
  {
   "cell_type": "code",
   "execution_count": 69,
   "metadata": {
    "collapsed": true
   },
   "outputs": [],
   "source": [
    "fpr, tpr, threshold = roc_curve(y_test, gs_dt.predict_proba(X_test)[:, 1])"
   ]
  },
  {
   "cell_type": "code",
   "execution_count": 70,
   "metadata": {},
   "outputs": [
    {
     "data": {
      "image/png": "[encoded data removed]",
      "text/plain": [
       "<matplotlib.figure.Figure at 0x1a2495ddd8>"
      ]
     },
     "metadata": {},
     "output_type": "display_data"
    }
   ],
   "source": [
    "plt.figure()\n",
    "plt.plot(fpr, tpr)\n",
    "\n",
    "\n",
    "plt.xlabel('False Positive Rate')\n",
    "plt.ylabel('True Positive Rate');"
   ]
  },
  {
   "cell_type": "code",
   "execution_count": 71,
   "metadata": {},
   "outputs": [
    {
     "data": {
      "text/plain": [
       "0.9223915497500403"
      ]
     },
     "execution_count": 71,
     "metadata": {},
     "output_type": "execute_result"
    }
   ],
   "source": [
    "roc_auc_score(y_test, gs_dt.predict_proba(X_test)[:, 1])"
   ]
  },
  {
   "cell_type": "markdown",
   "metadata": {},
   "source": [
    "# <center>Scores Table</center>"
   ]
  },
  {
   "cell_type": "markdown",
   "metadata": {},
   "source": [
    "<center>Model</center>                   |<center>Test Score</center> |<center>ROC AUC</center>\n",
    ":--------------------------------------- |--------------|-------------|------------------------\n",
    "Multinomial Naives Bayes</center>        |<center>0.936</center>      |<center>0.988</center>\n",
    "Logistic Regression</center>             |<center>0.946</center>      |<center>0.987</center> \n",
    "Random Forest</center>                   |<center>0.911</center>      |<center>0.978</center>\n",
    "Decision Tree</center>                   |<center>0.842</center>      |<center>0.880</center>"
   ]
  }
 ],
 "metadata": {
  "kernelspec": {
   "display_name": "Python 3",
   "language": "python",
   "name": "python3"
  },
  "language_info": {
   "codemirror_mode": {
    "name": "ipython",
    "version": 3
   },
   "file_extension": ".py",
   "mimetype": "text/x-python",
   "name": "python",
   "nbconvert_exporter": "python",
   "pygments_lexer": "ipython3",
   "version": "3.6.6"
  }
 },
 "nbformat": 4,
 "nbformat_minor": 2
}
