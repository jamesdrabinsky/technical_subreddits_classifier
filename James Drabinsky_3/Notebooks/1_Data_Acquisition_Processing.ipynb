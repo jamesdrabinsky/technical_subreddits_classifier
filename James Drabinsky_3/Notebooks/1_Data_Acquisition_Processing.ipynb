{
 "cells": [
  {
   "cell_type": "markdown",
   "metadata": {},
   "source": [
    "## Import Modules"
   ]
  },
  {
   "cell_type": "code",
   "execution_count": 2,
   "metadata": {
    "collapsed": true
   },
   "outputs": [],
   "source": [
    "import requests\n",
    "import pandas as pd\n",
    "import time\n",
    "import json\n",
    "import pickle\n",
    "import requests\n",
    "from bs4 import BeautifulSoup  \n",
    "from nltk.stem import WordNetLemmatizer\n",
    "import re\n",
    "from sklearn.feature_extraction.text import ENGLISH_STOP_WORDS"
   ]
  },
  {
   "cell_type": "markdown",
   "metadata": {},
   "source": [
    "## Scrape Data "
   ]
  },
  {
   "cell_type": "markdown",
   "metadata": {},
   "source": [
    "#### Cordcutters Subreddit"
   ]
  },
  {
   "cell_type": "code",
   "execution_count": 3,
   "metadata": {
    "collapsed": true
   },
   "outputs": [],
   "source": [
    "url_cord = 'https://www.reddit.com/r/cordcutters.json'"
   ]
  },
  {
   "cell_type": "code",
   "execution_count": 4,
   "metadata": {},
   "outputs": [
    {
     "name": "stdout",
     "output_type": "stream",
     "text": [
      "https://www.reddit.com/r/cordcutters.json\n",
      "https://www.reddit.com/r/cordcutters.json?after=t3_9fsbv9\n",
      "https://www.reddit.com/r/cordcutters.json?after=t3_9fhvkx\n",
      "https://www.reddit.com/r/cordcutters.json?after=t3_9fcf5g\n",
      "https://www.reddit.com/r/cordcutters.json?after=t3_9f32mh\n",
      "https://www.reddit.com/r/cordcutters.json?after=t3_9epu2b\n",
      "https://www.reddit.com/r/cordcutters.json?after=t3_9e8ka8\n",
      "https://www.reddit.com/r/cordcutters.json?after=t3_9dvy97\n",
      "https://www.reddit.com/r/cordcutters.json?after=t3_9dq7rq\n",
      "https://www.reddit.com/r/cordcutters.json?after=t3_9cxmdc\n",
      "https://www.reddit.com/r/cordcutters.json?after=t3_9cq5w8\n",
      "https://www.reddit.com/r/cordcutters.json?after=t3_9cnrx2\n",
      "https://www.reddit.com/r/cordcutters.json?after=t3_9c4zeh\n",
      "https://www.reddit.com/r/cordcutters.json?after=t3_9bvpzf\n",
      "https://www.reddit.com/r/cordcutters.json?after=t3_9bnzpz\n",
      "https://www.reddit.com/r/cordcutters.json?after=t3_9bdre1\n",
      "https://www.reddit.com/r/cordcutters.json?after=t3_9b5yqs\n",
      "https://www.reddit.com/r/cordcutters.json?after=t3_9arvga\n",
      "https://www.reddit.com/r/cordcutters.json?after=t3_9ai31m\n",
      "https://www.reddit.com/r/cordcutters.json?after=t3_9a2xjn\n",
      "https://www.reddit.com/r/cordcutters.json?after=t3_99tc3b\n",
      "https://www.reddit.com/r/cordcutters.json?after=t3_99f1yv\n",
      "https://www.reddit.com/r/cordcutters.json?after=t3_98xmeg\n",
      "https://www.reddit.com/r/cordcutters.json?after=t3_98mcu5\n",
      "https://www.reddit.com/r/cordcutters.json?after=t3_98bu3m\n",
      "https://www.reddit.com/r/cordcutters.json?after=t3_97wgtb\n",
      "https://www.reddit.com/r/cordcutters.json?after=t3_97h1ge\n",
      "https://www.reddit.com/r/cordcutters.json?after=t3_97d6n3\n",
      "https://www.reddit.com/r/cordcutters.json?after=t3_9712cl\n",
      "https://www.reddit.com/r/cordcutters.json?after=t3_96kiad\n",
      "https://www.reddit.com/r/cordcutters.json?after=t3_96873b\n",
      "https://www.reddit.com/r/cordcutters.json?after=t3_95z529\n",
      "https://www.reddit.com/r/cordcutters.json?after=t3_95mlov\n",
      "https://www.reddit.com/r/cordcutters.json?after=t3_95iu8e\n",
      "https://www.reddit.com/r/cordcutters.json?after=t3_952vhd\n",
      "https://www.reddit.com/r/cordcutters.json?after=t3_94prs6\n",
      "https://www.reddit.com/r/cordcutters.json?after=t3_942y1r\n",
      "https://www.reddit.com/r/cordcutters.json?after=t3_940dtb\n"
     ]
    }
   ],
   "source": [
    "posts_cord = []\n",
    "after = None \n",
    "\n",
    "for i in range(40):\n",
    "    if after == None: \n",
    "        current_url = url_cord\n",
    "    else:\n",
    "        current_url = url_cord + '?after=' + after\n",
    "    print(current_url)\n",
    "    res = requests.get(current_url, headers={'User-agent': 'Cordcutters'})\n",
    "    if res.status_code != 200:\n",
    "        print('Status error', res.status_code)\n",
    "        break\n",
    "    current_dict = res.json()\n",
    "    current_post = [p['data'] for p in current_dict['data']['children']]\n",
    "    posts_cord.extend(current_post)\n",
    "    after = current_dict['data']['after'] \n",
    "    if after == None:\n",
    "        break\n",
    "\n",
    "    time.sleep(1)"
   ]
  },
  {
   "cell_type": "markdown",
   "metadata": {},
   "source": [
    "#### Import Cordcutters Data"
   ]
  },
  {
   "cell_type": "code",
   "execution_count": 6,
   "metadata": {
    "scrolled": false
   },
   "outputs": [],
   "source": [
    "with open('../Data/cordcutters_list', 'w') as f:\n",
    "    json.dump(posts_cord, f) "
   ]
  },
  {
   "cell_type": "code",
   "execution_count": 7,
   "metadata": {
    "collapsed": true
   },
   "outputs": [],
   "source": [
    "with open('../Data/cordcutters_list', 'r') as f:\n",
    "    post_cords_from_json = json.loads(f.read())"
   ]
  },
  {
   "cell_type": "code",
   "execution_count": 8,
   "metadata": {},
   "outputs": [
    {
     "name": "stdout",
     "output_type": "stream",
     "text": [
      "cc dict count: 932\n"
     ]
    }
   ],
   "source": [
    "print('cc dict count:', len(post_cords_from_json))"
   ]
  },
  {
   "cell_type": "markdown",
   "metadata": {},
   "source": [
    "#### Piracy Subreddit"
   ]
  },
  {
   "cell_type": "code",
   "execution_count": 9,
   "metadata": {
    "collapsed": true
   },
   "outputs": [],
   "source": [
    "piracy_url = 'https://www.reddit.com/r/Piracy.json'"
   ]
  },
  {
   "cell_type": "code",
   "execution_count": 10,
   "metadata": {},
   "outputs": [
    {
     "name": "stdout",
     "output_type": "stream",
     "text": [
      "https://www.reddit.com/r/Piracy.json\n",
      "https://www.reddit.com/r/Piracy.json?after=t3_9gbtxr\n",
      "https://www.reddit.com/r/Piracy.json?after=t3_9ggdty\n",
      "https://www.reddit.com/r/Piracy.json?after=t3_9g30u8\n",
      "https://www.reddit.com/r/Piracy.json?after=t3_9g9wd7\n",
      "https://www.reddit.com/r/Piracy.json?after=t3_9g5hdt\n",
      "https://www.reddit.com/r/Piracy.json?after=t3_9g4tyf\n",
      "https://www.reddit.com/r/Piracy.json?after=t3_9fw1ct\n",
      "https://www.reddit.com/r/Piracy.json?after=t3_9fyvx1\n",
      "https://www.reddit.com/r/Piracy.json?after=t3_9foui9\n",
      "https://www.reddit.com/r/Piracy.json?after=t3_9fk45s\n",
      "https://www.reddit.com/r/Piracy.json?after=t3_9fjcbe\n",
      "https://www.reddit.com/r/Piracy.json?after=t3_9ferwt\n",
      "https://www.reddit.com/r/Piracy.json?after=t3_9f3ak0\n",
      "https://www.reddit.com/r/Piracy.json?after=t3_9f6eh1\n",
      "https://www.reddit.com/r/Piracy.json?after=t3_9exk58\n",
      "https://www.reddit.com/r/Piracy.json?after=t3_9ew6y2\n",
      "https://www.reddit.com/r/Piracy.json?after=t3_9emr5f\n",
      "https://www.reddit.com/r/Piracy.json?after=t3_9eovmg\n",
      "https://www.reddit.com/r/Piracy.json?after=t3_9egnqq\n",
      "https://www.reddit.com/r/Piracy.json?after=t3_9eause\n",
      "https://www.reddit.com/r/Piracy.json?after=t3_9e6fec\n",
      "https://www.reddit.com/r/Piracy.json?after=t3_9e74e3\n",
      "https://www.reddit.com/r/Piracy.json?after=t3_9ds5ec\n",
      "https://www.reddit.com/r/Piracy.json?after=t3_9dt1pz\n",
      "https://www.reddit.com/r/Piracy.json?after=t3_9dqnwy\n",
      "https://www.reddit.com/r/Piracy.json?after=t3_9d619q\n",
      "https://www.reddit.com/r/Piracy.json?after=t3_9d1p7c\n",
      "https://www.reddit.com/r/Piracy.json?after=t3_9d00fd\n"
     ]
    }
   ],
   "source": [
    "posts_pir = []\n",
    "after = None \n",
    "\n",
    "for i in range(40):\n",
    "    if after == None: \n",
    "        current_url = piracy_url\n",
    "    else:\n",
    "        current_url = piracy_url + '?after=' + after\n",
    "    print(current_url)\n",
    "    res = requests.get(current_url, headers={'User-agent': 'Piracy'})\n",
    "    if res.status_code != 200:\n",
    "        print('Status error', res.status_code)\n",
    "        break\n",
    "    current_dict = res.json()\n",
    "    current_post = [p['data'] for p in current_dict['data']['children']]\n",
    "    posts_pir.extend(current_post)\n",
    "    after = current_dict['data']['after'] \n",
    "    if after == None:\n",
    "        break\n",
    "\n",
    "    time.sleep(1)"
   ]
  },
  {
   "cell_type": "markdown",
   "metadata": {},
   "source": [
    "#### Import Piracy Data"
   ]
  },
  {
   "cell_type": "code",
   "execution_count": 11,
   "metadata": {
    "collapsed": true
   },
   "outputs": [],
   "source": [
    "with open('../Data/piracy_list', 'w') as f:\n",
    "    json.dump(posts_pir, f) "
   ]
  },
  {
   "cell_type": "code",
   "execution_count": 12,
   "metadata": {
    "collapsed": true
   },
   "outputs": [],
   "source": [
    "with open('../Data/piracy_list', 'r') as f:\n",
    "    post_pir_from_json = json.loads(f.read())"
   ]
  },
  {
   "cell_type": "code",
   "execution_count": 13,
   "metadata": {},
   "outputs": [
    {
     "name": "stdout",
     "output_type": "stream",
     "text": [
      "pir dict count: 718\n"
     ]
    }
   ],
   "source": [
    "print('pir dict count:', len(post_pir_from_json))"
   ]
  },
  {
   "cell_type": "markdown",
   "metadata": {},
   "source": [
    "## Convert JSON Data into DataFrame"
   ]
  },
  {
   "cell_type": "code",
   "execution_count": 14,
   "metadata": {
    "collapsed": true
   },
   "outputs": [],
   "source": [
    "def posts_to_df(posts, features = ['subreddit', 'author', 'title', 'selftext', 'created_utc', 'num_comments']):\n",
    "    feat_dict = [{feat : post[feat] for feat in features}  for post in posts]\n",
    "    return pd.DataFrame(feat_dict)"
   ]
  },
  {
   "cell_type": "code",
   "execution_count": 15,
   "metadata": {
    "scrolled": true
   },
   "outputs": [
    {
     "data": {
      "text/html": [
       "<div>\n",
       "<style scoped>\n",
       "    .dataframe tbody tr th:only-of-type {\n",
       "        vertical-align: middle;\n",
       "    }\n",
       "\n",
       "    .dataframe tbody tr th {\n",
       "        vertical-align: top;\n",
       "    }\n",
       "\n",
       "    .dataframe thead th {\n",
       "        text-align: right;\n",
       "    }\n",
       "</style>\n",
       "<table border=\"1\" class=\"dataframe\">\n",
       "  <thead>\n",
       "    <tr style=\"text-align: right;\">\n",
       "      <th></th>\n",
       "      <th>author</th>\n",
       "      <th>created_utc</th>\n",
       "      <th>num_comments</th>\n",
       "      <th>over_18</th>\n",
       "      <th>score</th>\n",
       "      <th>selftext</th>\n",
       "      <th>subreddit</th>\n",
       "      <th>title</th>\n",
       "    </tr>\n",
       "  </thead>\n",
       "  <tbody>\n",
       "    <tr>\n",
       "      <th>0</th>\n",
       "      <td>frostcall</td>\n",
       "      <td>1.533159e+09</td>\n",
       "      <td>134</td>\n",
       "      <td>False</td>\n",
       "      <td>150</td>\n",
       "      <td>For greater details on this topic, please refe...</td>\n",
       "      <td>cordcutters</td>\n",
       "      <td>NFL viewing guide for Cord Cutter's</td>\n",
       "    </tr>\n",
       "    <tr>\n",
       "      <th>1</th>\n",
       "      <td>RokLebowski</td>\n",
       "      <td>1.537134e+09</td>\n",
       "      <td>27</td>\n",
       "      <td>False</td>\n",
       "      <td>97</td>\n",
       "      <td></td>\n",
       "      <td>cordcutters</td>\n",
       "      <td>Roku Ultra 4K HDR w/ Voice Remote is $79.99 on...</td>\n",
       "    </tr>\n",
       "    <tr>\n",
       "      <th>2</th>\n",
       "      <td>UniversalFapture</td>\n",
       "      <td>1.537152e+09</td>\n",
       "      <td>13</td>\n",
       "      <td>False</td>\n",
       "      <td>13</td>\n",
       "      <td>In college so i’m  dying to watch my shows.</td>\n",
       "      <td>cordcutters</td>\n",
       "      <td>What apps do you guys use for live TV?</td>\n",
       "    </tr>\n",
       "    <tr>\n",
       "      <th>3</th>\n",
       "      <td>dsmitty166</td>\n",
       "      <td>1.537128e+09</td>\n",
       "      <td>33</td>\n",
       "      <td>False</td>\n",
       "      <td>40</td>\n",
       "      <td>Anyone move to Hulu Live TV? \\n\\nHulu Pros: HG...</td>\n",
       "      <td>cordcutters</td>\n",
       "      <td>YTTV vs Hulu Live</td>\n",
       "    </tr>\n",
       "    <tr>\n",
       "      <th>4</th>\n",
       "      <td>ricslash</td>\n",
       "      <td>1.537124e+09</td>\n",
       "      <td>17</td>\n",
       "      <td>False</td>\n",
       "      <td>38</td>\n",
       "      <td></td>\n",
       "      <td>cordcutters</td>\n",
       "      <td>Another pesky help me choose my antenna questi...</td>\n",
       "    </tr>\n",
       "  </tbody>\n",
       "</table>\n",
       "</div>"
      ],
      "text/plain": [
       "             author   created_utc  num_comments  over_18  score  \\\n",
       "0         frostcall  1.533159e+09           134    False    150   \n",
       "1       RokLebowski  1.537134e+09            27    False     97   \n",
       "2  UniversalFapture  1.537152e+09            13    False     13   \n",
       "3        dsmitty166  1.537128e+09            33    False     40   \n",
       "4          ricslash  1.537124e+09            17    False     38   \n",
       "\n",
       "                                            selftext    subreddit  \\\n",
       "0  For greater details on this topic, please refe...  cordcutters   \n",
       "1                                                     cordcutters   \n",
       "2        In college so i’m  dying to watch my shows.  cordcutters   \n",
       "3  Anyone move to Hulu Live TV? \\n\\nHulu Pros: HG...  cordcutters   \n",
       "4                                                     cordcutters   \n",
       "\n",
       "                                               title  \n",
       "0                NFL viewing guide for Cord Cutter's  \n",
       "1  Roku Ultra 4K HDR w/ Voice Remote is $79.99 on...  \n",
       "2             What apps do you guys use for live TV?  \n",
       "3                                  YTTV vs Hulu Live  \n",
       "4  Another pesky help me choose my antenna questi...  "
      ]
     },
     "execution_count": 15,
     "metadata": {},
     "output_type": "execute_result"
    }
   ],
   "source": [
    "feature_list = ['subreddit', 'author', 'title', 'selftext', 'created_utc', 'num_comments','score','over_18',\n",
    "                'score']\n",
    "df_cordcutters = posts_to_df(post_cords_from_json, features=feature_list)\n",
    "\n",
    "df_cordcutters.head()"
   ]
  },
  {
   "cell_type": "code",
   "execution_count": 16,
   "metadata": {},
   "outputs": [
    {
     "data": {
      "text/html": [
       "<div>\n",
       "<style scoped>\n",
       "    .dataframe tbody tr th:only-of-type {\n",
       "        vertical-align: middle;\n",
       "    }\n",
       "\n",
       "    .dataframe tbody tr th {\n",
       "        vertical-align: top;\n",
       "    }\n",
       "\n",
       "    .dataframe thead th {\n",
       "        text-align: right;\n",
       "    }\n",
       "</style>\n",
       "<table border=\"1\" class=\"dataframe\">\n",
       "  <thead>\n",
       "    <tr style=\"text-align: right;\">\n",
       "      <th></th>\n",
       "      <th>author</th>\n",
       "      <th>created_utc</th>\n",
       "      <th>num_comments</th>\n",
       "      <th>over_18</th>\n",
       "      <th>score</th>\n",
       "      <th>selftext</th>\n",
       "      <th>subreddit</th>\n",
       "      <th>title</th>\n",
       "    </tr>\n",
       "  </thead>\n",
       "  <tbody>\n",
       "    <tr>\n",
       "      <th>0</th>\n",
       "      <td>AutoModerator</td>\n",
       "      <td>1.537107e+09</td>\n",
       "      <td>39</td>\n",
       "      <td>False</td>\n",
       "      <td>8</td>\n",
       "      <td>This thread is for the r/Piracy community to d...</td>\n",
       "      <td>Piracy</td>\n",
       "      <td>Weekly General Discussion Thread (September 16...</td>\n",
       "    </tr>\n",
       "    <tr>\n",
       "      <th>1</th>\n",
       "      <td>Pyr0Cry0</td>\n",
       "      <td>1.537164e+09</td>\n",
       "      <td>108</td>\n",
       "      <td>False</td>\n",
       "      <td>397</td>\n",
       "      <td></td>\n",
       "      <td>Piracy</td>\n",
       "      <td>Experienced Movie Pirate Starter Pack</td>\n",
       "    </tr>\n",
       "    <tr>\n",
       "      <th>2</th>\n",
       "      <td>mecyborg</td>\n",
       "      <td>1.537163e+09</td>\n",
       "      <td>32</td>\n",
       "      <td>False</td>\n",
       "      <td>134</td>\n",
       "      <td></td>\n",
       "      <td>Piracy</td>\n",
       "      <td>PSArips has seeded 1 Petabyte data. Do you lik...</td>\n",
       "    </tr>\n",
       "    <tr>\n",
       "      <th>3</th>\n",
       "      <td>Boogertwilliams</td>\n",
       "      <td>1.537132e+09</td>\n",
       "      <td>125</td>\n",
       "      <td>False</td>\n",
       "      <td>521</td>\n",
       "      <td></td>\n",
       "      <td>Piracy</td>\n",
       "      <td>Ubisoft pissing people off already now. WTF is...</td>\n",
       "    </tr>\n",
       "    <tr>\n",
       "      <th>4</th>\n",
       "      <td>boa05</td>\n",
       "      <td>1.537083e+09</td>\n",
       "      <td>42</td>\n",
       "      <td>False</td>\n",
       "      <td>1384</td>\n",
       "      <td></td>\n",
       "      <td>Piracy</td>\n",
       "      <td>It's ironic he could save others from death, b...</td>\n",
       "    </tr>\n",
       "  </tbody>\n",
       "</table>\n",
       "</div>"
      ],
      "text/plain": [
       "            author   created_utc  num_comments  over_18  score  \\\n",
       "0    AutoModerator  1.537107e+09            39    False      8   \n",
       "1         Pyr0Cry0  1.537164e+09           108    False    397   \n",
       "2         mecyborg  1.537163e+09            32    False    134   \n",
       "3  Boogertwilliams  1.537132e+09           125    False    521   \n",
       "4            boa05  1.537083e+09            42    False   1384   \n",
       "\n",
       "                                            selftext subreddit  \\\n",
       "0  This thread is for the r/Piracy community to d...    Piracy   \n",
       "1                                                       Piracy   \n",
       "2                                                       Piracy   \n",
       "3                                                       Piracy   \n",
       "4                                                       Piracy   \n",
       "\n",
       "                                               title  \n",
       "0  Weekly General Discussion Thread (September 16...  \n",
       "1              Experienced Movie Pirate Starter Pack  \n",
       "2  PSArips has seeded 1 Petabyte data. Do you lik...  \n",
       "3  Ubisoft pissing people off already now. WTF is...  \n",
       "4  It's ironic he could save others from death, b...  "
      ]
     },
     "execution_count": 16,
     "metadata": {},
     "output_type": "execute_result"
    }
   ],
   "source": [
    "df_piracy = posts_to_df(post_pir_from_json, features=feature_list)\n",
    "\n",
    "df_piracy.head()"
   ]
  },
  {
   "cell_type": "markdown",
   "metadata": {},
   "source": [
    "#### Concatenate the DataFrames"
   ]
  },
  {
   "cell_type": "code",
   "execution_count": 17,
   "metadata": {
    "collapsed": true
   },
   "outputs": [],
   "source": [
    "df = pd.concat([df_cordcutters, df_piracy], axis=0, ignore_index=True)"
   ]
  },
  {
   "cell_type": "markdown",
   "metadata": {},
   "source": [
    "#### Create a Boolean Column"
   ]
  },
  {
   "cell_type": "code",
   "execution_count": 18,
   "metadata": {
    "collapsed": true
   },
   "outputs": [],
   "source": [
    "df['label'] = df['subreddit'].map(lambda x: 1 if x == 'cordcutters' else 0)"
   ]
  },
  {
   "cell_type": "code",
   "execution_count": 19,
   "metadata": {},
   "outputs": [
    {
     "data": {
      "text/html": [
       "<div>\n",
       "<style scoped>\n",
       "    .dataframe tbody tr th:only-of-type {\n",
       "        vertical-align: middle;\n",
       "    }\n",
       "\n",
       "    .dataframe tbody tr th {\n",
       "        vertical-align: top;\n",
       "    }\n",
       "\n",
       "    .dataframe thead th {\n",
       "        text-align: right;\n",
       "    }\n",
       "</style>\n",
       "<table border=\"1\" class=\"dataframe\">\n",
       "  <thead>\n",
       "    <tr style=\"text-align: right;\">\n",
       "      <th></th>\n",
       "      <th>author</th>\n",
       "      <th>created_utc</th>\n",
       "      <th>num_comments</th>\n",
       "      <th>over_18</th>\n",
       "      <th>score</th>\n",
       "      <th>selftext</th>\n",
       "      <th>subreddit</th>\n",
       "      <th>title</th>\n",
       "      <th>label</th>\n",
       "    </tr>\n",
       "  </thead>\n",
       "  <tbody>\n",
       "    <tr>\n",
       "      <th>0</th>\n",
       "      <td>frostcall</td>\n",
       "      <td>1.533159e+09</td>\n",
       "      <td>134</td>\n",
       "      <td>False</td>\n",
       "      <td>150</td>\n",
       "      <td>For greater details on this topic, please refe...</td>\n",
       "      <td>cordcutters</td>\n",
       "      <td>NFL viewing guide for Cord Cutter's</td>\n",
       "      <td>1</td>\n",
       "    </tr>\n",
       "    <tr>\n",
       "      <th>1</th>\n",
       "      <td>RokLebowski</td>\n",
       "      <td>1.537134e+09</td>\n",
       "      <td>27</td>\n",
       "      <td>False</td>\n",
       "      <td>97</td>\n",
       "      <td></td>\n",
       "      <td>cordcutters</td>\n",
       "      <td>Roku Ultra 4K HDR w/ Voice Remote is $79.99 on...</td>\n",
       "      <td>1</td>\n",
       "    </tr>\n",
       "    <tr>\n",
       "      <th>2</th>\n",
       "      <td>UniversalFapture</td>\n",
       "      <td>1.537152e+09</td>\n",
       "      <td>13</td>\n",
       "      <td>False</td>\n",
       "      <td>13</td>\n",
       "      <td>In college so i’m  dying to watch my shows.</td>\n",
       "      <td>cordcutters</td>\n",
       "      <td>What apps do you guys use for live TV?</td>\n",
       "      <td>1</td>\n",
       "    </tr>\n",
       "    <tr>\n",
       "      <th>3</th>\n",
       "      <td>dsmitty166</td>\n",
       "      <td>1.537128e+09</td>\n",
       "      <td>33</td>\n",
       "      <td>False</td>\n",
       "      <td>40</td>\n",
       "      <td>Anyone move to Hulu Live TV? \\n\\nHulu Pros: HG...</td>\n",
       "      <td>cordcutters</td>\n",
       "      <td>YTTV vs Hulu Live</td>\n",
       "      <td>1</td>\n",
       "    </tr>\n",
       "    <tr>\n",
       "      <th>4</th>\n",
       "      <td>ricslash</td>\n",
       "      <td>1.537124e+09</td>\n",
       "      <td>17</td>\n",
       "      <td>False</td>\n",
       "      <td>38</td>\n",
       "      <td></td>\n",
       "      <td>cordcutters</td>\n",
       "      <td>Another pesky help me choose my antenna questi...</td>\n",
       "      <td>1</td>\n",
       "    </tr>\n",
       "  </tbody>\n",
       "</table>\n",
       "</div>"
      ],
      "text/plain": [
       "             author   created_utc  num_comments  over_18  score  \\\n",
       "0         frostcall  1.533159e+09           134    False    150   \n",
       "1       RokLebowski  1.537134e+09            27    False     97   \n",
       "2  UniversalFapture  1.537152e+09            13    False     13   \n",
       "3        dsmitty166  1.537128e+09            33    False     40   \n",
       "4          ricslash  1.537124e+09            17    False     38   \n",
       "\n",
       "                                            selftext    subreddit  \\\n",
       "0  For greater details on this topic, please refe...  cordcutters   \n",
       "1                                                     cordcutters   \n",
       "2        In college so i’m  dying to watch my shows.  cordcutters   \n",
       "3  Anyone move to Hulu Live TV? \\n\\nHulu Pros: HG...  cordcutters   \n",
       "4                                                     cordcutters   \n",
       "\n",
       "                                               title  label  \n",
       "0                NFL viewing guide for Cord Cutter's      1  \n",
       "1  Roku Ultra 4K HDR w/ Voice Remote is $79.99 on...      1  \n",
       "2             What apps do you guys use for live TV?      1  \n",
       "3                                  YTTV vs Hulu Live      1  \n",
       "4  Another pesky help me choose my antenna questi...      1  "
      ]
     },
     "execution_count": 19,
     "metadata": {},
     "output_type": "execute_result"
    }
   ],
   "source": [
    "df.head()"
   ]
  },
  {
   "cell_type": "code",
   "execution_count": 20,
   "metadata": {},
   "outputs": [
    {
     "data": {
      "text/plain": [
       "(1650, 9)"
      ]
     },
     "execution_count": 20,
     "metadata": {},
     "output_type": "execute_result"
    }
   ],
   "source": [
    "df.shape"
   ]
  },
  {
   "cell_type": "code",
   "execution_count": 21,
   "metadata": {},
   "outputs": [
    {
     "data": {
      "text/plain": [
       "1    0.564848\n",
       "0    0.435152\n",
       "Name: label, dtype: float64"
      ]
     },
     "execution_count": 21,
     "metadata": {},
     "output_type": "execute_result"
    }
   ],
   "source": [
    "df.label.value_counts(normalize=True)"
   ]
  },
  {
   "cell_type": "code",
   "execution_count": 22,
   "metadata": {
    "scrolled": true
   },
   "outputs": [
    {
     "data": {
      "text/plain": [
       "author          0\n",
       "created_utc     0\n",
       "num_comments    0\n",
       "over_18         0\n",
       "score           0\n",
       "selftext        0\n",
       "subreddit       0\n",
       "title           0\n",
       "label           0\n",
       "dtype: int64"
      ]
     },
     "execution_count": 22,
     "metadata": {},
     "output_type": "execute_result"
    }
   ],
   "source": [
    "df.isnull().sum()"
   ]
  },
  {
   "cell_type": "code",
   "execution_count": 23,
   "metadata": {},
   "outputs": [
    {
     "data": {
      "text/plain": [
       "0"
      ]
     },
     "execution_count": 23,
     "metadata": {},
     "output_type": "execute_result"
    }
   ],
   "source": [
    "df.duplicated().sum()"
   ]
  },
  {
   "cell_type": "markdown",
   "metadata": {},
   "source": [
    "## Processing Text Data"
   ]
  },
  {
   "cell_type": "code",
   "execution_count": 24,
   "metadata": {
    "collapsed": true
   },
   "outputs": [],
   "source": [
    "df['selftext'] = df['selftext'].replace(r'[^a-zA-Z0-9\\s\\/]', '', regex=True)\n",
    "\n",
    "df['selftext'] = df['selftext'].map(lambda x: x.lower())\n",
    "\n",
    "df['selftext'] = df['selftext'].replace(r'[\\r\\n]+', ' ', regex=True)\n",
    "\n",
    "df['selftext'] = df['selftext'].str.replace('\\d+', '')\n",
    "\n",
    "df['title'] = df['title'].replace(r'[^a-zA-Z0-9\\s\\/]', '', regex=True)\n",
    "\n",
    "df['title'] = df['title'].map(lambda x: x.lower())\n",
    "\n",
    "df['title'] = df['title'].replace(r'[\\r\\n]+', ' ', regex=True)\n",
    "\n",
    "df['title'] = df['title'].str.replace('\\d+', '')"
   ]
  },
  {
   "cell_type": "markdown",
   "metadata": {},
   "source": [
    "## Create  and Export Full Stopword List"
   ]
  },
  {
   "cell_type": "code",
   "execution_count": 25,
   "metadata": {
    "collapsed": true
   },
   "outputs": [],
   "source": [
    "url = 'https://raw.githubusercontent.com/stanfordnlp/CoreNLP/master/data/edu/stanford/nlp/patterns/surface/stopwords.txt'\n",
    "res = requests.get(url)\n",
    "soup = BeautifulSoup(res.content, 'lxml')"
   ]
  },
  {
   "cell_type": "code",
   "execution_count": 26,
   "metadata": {
    "collapsed": true
   },
   "outputs": [],
   "source": [
    "standford_nlp = soup.text.split('\\n')"
   ]
  },
  {
   "cell_type": "code",
   "execution_count": 27,
   "metadata": {
    "collapsed": true
   },
   "outputs": [],
   "source": [
    "stop_word_list = standford_nlp + list(ENGLISH_STOP_WORDS)"
   ]
  },
  {
   "cell_type": "markdown",
   "metadata": {},
   "source": [
    "## Export Clean DataFrame for EDA"
   ]
  },
  {
   "cell_type": "code",
   "execution_count": 28,
   "metadata": {
    "collapsed": true
   },
   "outputs": [],
   "source": [
    "with open('../Data/clean_df.pkl', 'wb+') as f:\n",
    "    pickle.dump(df, f)"
   ]
  },
  {
   "cell_type": "markdown",
   "metadata": {},
   "source": [
    "## Export Stopwords List"
   ]
  },
  {
   "cell_type": "code",
   "execution_count": 29,
   "metadata": {
    "collapsed": true
   },
   "outputs": [],
   "source": [
    "with open('../Data/stop_word_list.pkl', 'wb+') as f:\n",
    "    pickle.dump(stop_word_list, f)"
   ]
  }
 ],
 "metadata": {
  "anaconda-cloud": {},
  "kernelspec": {
   "display_name": "Python 3",
   "language": "python",
   "name": "python3"
  },
  "language_info": {
   "codemirror_mode": {
    "name": "ipython",
    "version": 3
   },
   "file_extension": ".py",
   "mimetype": "text/x-python",
   "name": "python",
   "nbconvert_exporter": "python",
   "pygments_lexer": "ipython3",
   "version": "3.6.6"
  },
  "varInspector": {
   "cols": {
    "lenName": 16,
    "lenType": 16,
    "lenVar": 40
   },
   "kernels_config": {
    "python": {
     "delete_cmd_postfix": "",
     "delete_cmd_prefix": "del ",
     "library": "var_list.py",
     "varRefreshCmd": "print(var_dic_list())"
    },
    "r": {
     "delete_cmd_postfix": ") ",
     "delete_cmd_prefix": "rm(",
     "library": "var_list.r",
     "varRefreshCmd": "cat(var_dic_list()) "
    }
   },
   "types_to_exclude": [
    "module",
    "function",
    "builtin_function_or_method",
    "instance",
    "_Feature"
   ],
   "window_display": false
  }
 },
 "nbformat": 4,
 "nbformat_minor": 1
}
